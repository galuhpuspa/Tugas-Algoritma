{
 "cells": [
  {
   "cell_type": "code",
   "execution_count": null,
   "id": "46f415ef",
   "metadata": {},
   "outputs": [],
   "source": [
    "#%%%%%%%%%%%%%%%%%%%%%%%%%\n",
    "#Jadi tadi bapaknya sempet nunjukin nanti kita bisa buat program yg bisa nentuin kalimat itu positif/negatif\n",
    "#%%%%%%%%%%%%%%%%%%%%%%%%\n",
    "\n",
    "\n",
    "kata_sentimen(\"I Love This\")"
   ]
  },
  {
   "cell_type": "code",
   "execution_count": null,
   "id": "cacada38",
   "metadata": {},
   "outputs": [],
   "source": [
    "#Latihan print\n",
    "\n",
    "print(\"Saya menggunakan python karena saya sangat ingin belajar mengenai data science\")\n",
    "print('Saya ingin makan ice cream matcha')\n",
    "\n",
    "#%%%%%%%%%%%%%%%%%%%%%%%%%%\n",
    "#inget tanda petik yang digunakan itu harus berpasangan yang sesuai yaa, kalau engga nanti error, perhatiinn gal!!\n",
    "#%%%%%%%%%%%%%%%%%%%%%%%%%%"
   ]
  },
  {
   "cell_type": "code",
   "execution_count": null,
   "id": "c2803868",
   "metadata": {},
   "outputs": [],
   "source": [
    "#Latihan print 2\n",
    "\n",
    "Mahasiswa_32 = 21\n",
    "uang_di_dompet_32 = 20000\n",
    "\n",
    "print(Mahasiswa_32)\n",
    "print(uang_di_dompet_32)\n",
    "print(Mahasiswa_32*uang_di_dompet_32)\n",
    "\n",
    "\n",
    "\n",
    "#%%%%%%%%%%%%%%%%%%%%%%%\n",
    "#Hati-hati klk udh sempet run, abistu ubah nama variabel, tapi di perintah print belum dirubah, nanti bisa tetep keluar dia, tapi malah masih pakai pendefinisian yang sebelumnyaa\\\n",
    "#Nahhh kalok takut mending pakek tu di atas kernel, restart atau restart & clear output\n",
    "#%%%%%%%%%%%%%%%%%%%%%%%%"
   ]
  },
  {
   "cell_type": "code",
   "execution_count": null,
   "id": "84ac0e4e",
   "metadata": {},
   "outputs": [],
   "source": [
    "#Latihan Print 3\n",
    "\n",
    "nama_depan_32 = \"Galuh\"\n",
    "nama_tengah_32 = \" \"\n",
    "nama_belakang_32 = \"Puspamurti\"\n",
    "print(nama_depan_32 + nama_tengah_32 + nama_belakang_32)\n",
    "\n",
    "\n",
    "\n",
    "#%%%%%%%%%%%%%%%%%%%%%\n",
    "#ingett penggunaan spasinyaa gal klk mauu isi spasi\n",
    "#%%%%%%%%%%%%%%%%%%%%"
   ]
  },
  {
   "cell_type": "code",
   "execution_count": null,
   "id": "7c6fb3b6",
   "metadata": {},
   "outputs": [],
   "source": [
    "#Latihan input\n",
    "\n",
    "nama_32 = input(\"Halo, siapa nama anda? : \")\n",
    "kegiatan_32 = input(\"Anda sedang melakukan apa, \" + nama_32 + \"? : \")\n",
    "print(\"Ayo semangat \" + kegiatan_32 + \" nya yaaa \" + nama_32 + \"!!\")"
   ]
  },
  {
   "cell_type": "code",
   "execution_count": 3,
   "id": "4cfb9f4e",
   "metadata": {},
   "outputs": [
    {
     "name": "stdout",
     "output_type": "stream",
     "text": [
      "Contoh yang salah\n",
      "Berapa banyak uang anda di dompet? : 24\n",
      "Berapa banyak uang anda di bank? : 78\n",
      "Total uang anda adalah : Rp. 2478\n",
      "\n",
      "Contoh yang bener\n",
      "Berapa banyak uang anda di dompet? : 22\n",
      "Berapa banyak uang anda di bank? : 6\n",
      "Total uang anda adalah : Rp. 28\n"
     ]
    }
   ],
   "source": [
    "#Tipe Data pada Python dan merubah tipe data\n",
    "\n",
    "print(\"Contoh yang salah\")\n",
    "uang_di_dompet_32 = input(\"Berapa banyak uang anda di dompet? : \")\n",
    "uang_di_bank_32 = input(\"Berapa banyak uang anda di bank? : \")\n",
    "print(\"Total uang anda adalah : Rp. \" + uang_di_dompet_32 + uang_di_bank_32 +\"\\n\")\n",
    "\n",
    "#%%%%%%%%%%%%%%%%%%%%%\n",
    "#Perhatikan tipe data, penjumlahan dengan tipe data string akan berbeda dengan penjumlahan tipe data yg berupa angka\n",
    "#ini diatas salah krn alasan itu\n",
    "#%%%%%%%%%%%%%%%%%%%%\n",
    "\n",
    "\n",
    "#yg bener tu gini\n",
    "print(\"Contoh yang bener\")\n",
    "uang_di_dompet_32 = input(\"Berapa banyak uang anda di dompet? : \")\n",
    "uang_di_bank_32 = input(\"Berapa banyak uang anda di bank? : \")\n",
    "#nahh disini tuu kita perlu ubah tipe data nya yg td str jadi int, biar penjumlahan nya bener\n",
    "total_32 = int(uang_di_dompet_32) + int(uang_di_bank_32)\n",
    "#laluuu, krn tadi saat input tipe data yg dimasukin str, maka saat mau print, harus tipe data yg sama, ubah lagi jadi str\n",
    "print(\"Total uang anda adalah : Rp. \" + str(total_32))"
   ]
  },
  {
   "cell_type": "code",
   "execution_count": 6,
   "id": "8ab00df6",
   "metadata": {},
   "outputs": [
    {
     "name": "stdout",
     "output_type": "stream",
     "text": [
      "Berapa banyak uang anda di dompet? : 24000\n",
      "Berapa banyak uang anda di bank? : 1000\n",
      "Total uang anda adalah : Rp. 25000\n"
     ]
    }
   ],
   "source": [
    "#Cara lain mengubah tipe data\n",
    "uang_di_dompet_32 = int(input(\"Berapa banyak uang anda di dompet? : \"))\n",
    "uang_di_bank_32 = int(input(\"Berapa banyak uang anda di bank? : \"))\n",
    "total_32 = uang_di_dompet_32 + uang_di_bank_32\n",
    "print(\"Total uang anda adalah : Rp. \" + str(total_32))"
   ]
  },
  {
   "cell_type": "code",
   "execution_count": null,
   "id": "89f41c06",
   "metadata": {},
   "outputs": [],
   "source": []
  }
 ],
 "metadata": {
  "kernelspec": {
   "display_name": "Python 3 (ipykernel)",
   "language": "python",
   "name": "python3"
  },
  "language_info": {
   "codemirror_mode": {
    "name": "ipython",
    "version": 3
   },
   "file_extension": ".py",
   "mimetype": "text/x-python",
   "name": "python",
   "nbconvert_exporter": "python",
   "pygments_lexer": "ipython3",
   "version": "3.9.13"
  }
 },
 "nbformat": 4,
 "nbformat_minor": 5
}
