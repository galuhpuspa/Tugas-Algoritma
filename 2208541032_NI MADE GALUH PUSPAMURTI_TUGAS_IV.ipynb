{
 "cells": [
  {
   "cell_type": "markdown",
   "id": "e069554a",
   "metadata": {},
   "source": [
    "# 5.11 While Loop\n",
    "###### Perulangan While Loop di dalam bahasa pemrograman Python dieksesusi berkali-kali selama kondisi bernilai benar atau True.\n",
    "\n",
    "###### Bentuk Umum :\n",
    "###### while (kondisi):\n",
    "        # blok kode yang akan diulang-ulang          "
   ]
  },
  {
   "cell_type": "code",
   "execution_count": null,
   "id": "dbc12534",
   "metadata": {},
   "outputs": [],
   "source": [
    "#Contoh penggunaan while loop tetapi batasnya tidak jelas\n",
    "\n",
    "x_32 = 0\n",
    "\n",
    "while x_32<2 : #ni batas while loopnya\n",
    "    y_32 = x_32**2\n",
    "    x_32 = x_32 - 1\n",
    "    print(x_32)\n",
    "    \n",
    "#Walaupun tidak error, outputnya jadi tak berhingga, programnya terus berjalan karena batas loop while nya tidak jelas.\n",
    "#Tekan CTRL+ C untuk stop"
   ]
  },
  {
   "cell_type": "code",
   "execution_count": 1,
   "id": "41b2c4da",
   "metadata": {},
   "outputs": [
    {
     "name": "stdout",
     "output_type": "stream",
     "text": [
      "Angka 0 masih dibawah 5\n",
      "Angka 1 masih dibawah 5\n",
      "Angka 2 masih dibawah 5\n",
      "Angka 3 masih dibawah 5\n",
      "Angka 4 masih dibawah 5\n"
     ]
    }
   ],
   "source": [
    "#Contoh penggunaan while loop\n",
    "\n",
    "a_32 = 0\n",
    "\n",
    "while a_32 < 5 :\n",
    "    print(\"Angka \" + str(a_32) + \" masih dibawah 5\")\n",
    "    a_32 += 1"
   ]
  },
  {
   "cell_type": "code",
   "execution_count": 2,
   "id": "62e90ade",
   "metadata": {},
   "outputs": [
    {
     "name": "stdout",
     "output_type": "stream",
     "text": [
      "\n",
      "*\n",
      "**\n",
      "***\n",
      "****\n"
     ]
    }
   ],
   "source": [
    "#Contoh penggunaan while loop untuk mencetak pola segita bintang\n",
    "\n",
    "b_32 = 0\n",
    "\n",
    "while b_32<5:\n",
    "    print(b_32*\"*\")\n",
    "    b_32 += 1"
   ]
  },
  {
   "cell_type": "code",
   "execution_count": 3,
   "id": "72100f62",
   "metadata": {},
   "outputs": [
    {
     "name": "stdout",
     "output_type": "stream",
     "text": [
      "Hai Adik kecil! Sudahkah kamu tahu angka 0 sampai 10?\n",
      "Belum??\n",
      "Tenang Sajaa!!\n",
      "\n",
      "Mari berhitung : 0\n",
      "Mari berhitung : 1\n",
      "Mari berhitung : 2\n",
      "Mari berhitung : 3\n",
      "Mari berhitung : 4\n",
      "Mari berhitung : 5\n",
      "Mari berhitung : 6\n",
      "Mari berhitung : 7\n",
      "Mari berhitung : 8\n",
      "Mari berhitung : 9\n",
      "Mari berhitung : 10\n",
      "\n",
      "Sampai Jumpa!\n"
     ]
    }
   ],
   "source": [
    "#Contoh penggunaan while loop untuk berhitung dari 0 sampai 10\n",
    "\n",
    "hitung_32 = 0\n",
    "\n",
    "print(\"Hai Adik kecil! Sudahkah kamu tahu angka 0 sampai 10?\\nBelum??\\nTenang Sajaa!!\\n\")\n",
    "while (hitung_32 < 11):\n",
    "    print ('Mari berhitung :', hitung_32)\n",
    "    hitung_32 = hitung_32 + 1\n",
    "print (\"\\nSampai Jumpa!\")"
   ]
  },
  {
   "cell_type": "code",
   "execution_count": 4,
   "id": "2a182046",
   "metadata": {},
   "outputs": [
    {
     "name": "stdout",
     "output_type": "stream",
     "text": [
      "Mari kita kuis sampai anda benar, start!!\n",
      "\n",
      "Masukan bilangan ganjil lebih dari 60 : 1\n",
      "Jawaban Salah! Ayo Coba Masukan Angka Lagi : 5\n",
      "Jawaban Salah! Ayo Coba Masukan Angka Lagi : 35\n",
      "Jawaban Salah! Ayo Coba Masukan Angka Lagi : 24\n",
      "Jawaban Salah! Ayo Coba Masukan Angka Lagi : 61\n",
      "Jawaban anda benar. Selamat telah menyelesaikan quiz!!\n"
     ]
    }
   ],
   "source": [
    "#Contoh While loop dan adanya input\n",
    "\n",
    "print(\"Mari kita kuis sampai anda benar, start!!\\n\")\n",
    "\n",
    "x_32 = int(input(\"Masukan bilangan ganjil lebih dari 60 : \"))\n",
    "\n",
    "while x_32%2 != 1 or x_32<=60: #jika ini terpenuhi, berarti user masih salah jawab\n",
    "    x_32 = int(input(\"Jawaban Salah! Ayo Coba Masukan Angka Lagi : \")) #Untuk imputan baru jika user salah menjawab\n",
    "\n",
    "print(\"Jawaban anda benar. Selamat telah menyelesaikan quiz!!\") #jika kondisi while loop sudah tidak terpenuhi,\n",
    "#maka perulangan berhenti dieksekusi, dan keluar dari loop tersebut, kemudian lanjut ke perintah print tanda user jawab udh benar"
   ]
  },
  {
   "cell_type": "code",
   "execution_count": 5,
   "id": "a0c7c98f",
   "metadata": {},
   "outputs": [
    {
     "name": "stdout",
     "output_type": "stream",
     "text": [
      "Senin\n",
      "Selasa\n",
      "Rabu\n",
      "Kamis\n",
      "Jumat\n",
      "Sabtu\n"
     ]
    }
   ],
   "source": [
    "#Contoh penggunaan while loop untuk list\n",
    "\n",
    "list_hari_32 = [\"Senin\", \"Selasa\", \"Rabu\", \"Kamis\", \"Jumat\", \"Sabtu\"]\n",
    "\n",
    "#memanggil isi list\n",
    "i=0\n",
    "while i<len(list_hari_32):\n",
    "    print(list_hari_32[i])\n",
    "    i+=1"
   ]
  },
  {
   "cell_type": "code",
   "execution_count": 6,
   "id": "b8970f96",
   "metadata": {},
   "outputs": [
    {
     "name": "stdout",
     "output_type": "stream",
     "text": [
      "0 adalah genap\n",
      "1 adalah ganjil\n",
      "2 adalah genap\n",
      "3 adalah ganjil\n",
      "4 adalah genap\n",
      "5 adalah ganjil\n",
      "6 adalah genap\n",
      "7 adalah ganjil\n",
      "8 adalah genap\n",
      "9 adalah ganjil\n"
     ]
    }
   ],
   "source": [
    "#Perintah Continue Pada While\n",
    "#Ini berguna untuk men-skip iterasi sekarang ke iterasi selanjutnya\n",
    "\n",
    "#Contoh:\n",
    "for n in range(0, 10):\n",
    "    if n % 2 == 0:\n",
    "        print(n, \"adalah genap\")\n",
    "#Jika n modulo 2 adalah 0, maka print \"n adalah bilangan genap\",\n",
    "#dan lanjutkan iterasi terhadap kode berikutnya menggunakan syntax \"continue\" yaitu \"n adalah bilangan ganjil\".\n",
    "#Jika n modulo 2 bukan 0 maka langsung menuju ke perintah print \"n adalah bilangan ganjil\" dengan continue\n",
    "        continue\n",
    "    print (n, \"adalah ganjil\")\n",
    "    "
   ]
  },
  {
   "cell_type": "code",
   "execution_count": 7,
   "id": "2e3acbef",
   "metadata": {},
   "outputs": [
    {
     "name": "stdout",
     "output_type": "stream",
     "text": [
      "6 * 1 = 6\n",
      "6 * 2 = 12\n",
      "6 * 3 = 18\n",
      "6 * 4 = 24\n",
      "6 * 5 = 30\n"
     ]
    }
   ],
   "source": [
    "#Perintah Continue Pada While\n",
    "#Ini berguna untuk menghentikan secara paksa loop\n",
    "\n",
    "#program untuk menemukan 5 kelipatan enam pertama\n",
    "\n",
    "i = 1\n",
    "while i <= 10:\n",
    "    print('6 *',(i), '=',6 * i)\n",
    "\n",
    "    if i >= 5: #karena kita coma cari 5 kelipatan 6 pertama, maka setelah i=5 berhentikan saja loopnya\n",
    "        break\n",
    "    \n",
    "    i = i + 1"
   ]
  },
  {
   "cell_type": "code",
   "execution_count": 8,
   "id": "bf38caec",
   "metadata": {},
   "outputs": [
    {
     "name": "stdout",
     "output_type": "stream",
     "text": [
      "Masukan username : galuh\n",
      "Masukan password : YUHUU\n",
      "Password Salah!\n",
      "\n",
      "Masukan username : GALUH\n",
      "Masukan password : YUHUU\n",
      "User atau password anda error!\n",
      "\n",
      "Masukan username : GALUH\n",
      "Masukan password : yuhuu\n",
      "Password benar!\n",
      "\n"
     ]
    }
   ],
   "source": [
    "#Contoh penggunaan while loop berupa program login akun sosmed\n",
    "\n",
    "#Buat dulu username dan password kita\n",
    "nama_32 = \"GALUH\"\n",
    "kunci_32 = \"yuhuu\"\n",
    "a_32 = 0\n",
    "\n",
    "#Menginput dan mengecek apa input sesuai dengan username dan password yang sudah dibuat sebelumnya\n",
    "while a_32!=3 : #batas ini karena max user salah input 3x\n",
    "    username_32 = input(\"Masukan username : \")\n",
    "    password_32 = input(\"Masukan password : \")\n",
    "    if username_32 == nama_32 and password_32 == kunci_32 :\n",
    "        print(\"Password benar!\\n\")\n",
    "        break #jika input sudah benar baik user dan pass, maka perulangan diberhentikan\n",
    "    elif username_32 == nama_32 or password_32 == kunci_32 :\n",
    "        print(\"User atau password anda error!\\n\")\n",
    "    else :\n",
    "        print(\"Password Salah!\\n\") #ouput jika user salah input keduanya, user dan pass\n",
    "    a_32 = a_32 + 1\n",
    "\n",
    "#Berikut kode agar jika pengguna sudah 3x salah input, akan dicetak output sebagai berikut\n",
    "if a_32 == 3 :\n",
    "    print(\"Anda Sudah 3x Input. Setelah 15 Menit, Bisa Coba lagi!\")"
   ]
  },
  {
   "cell_type": "code",
   "execution_count": 9,
   "id": "aa2d1d5d",
   "metadata": {},
   "outputs": [
    {
     "name": "stdout",
     "output_type": "stream",
     "text": [
      "PUSPAMURTI  \n",
      "USPAMURTI  \n",
      "SPAMURTI  \n",
      "PAMURTI  \n",
      "AMURTI  \n",
      "MURTI  \n",
      "URTI  \n",
      "RTI  \n",
      "TI  \n",
      "I  \n"
     ]
    }
   ],
   "source": [
    "#Program Mencetak suatu kata terus menerus dengan mengurangi huruf pertamanya untuk baris selanjutnya sampai tersisa 1 huruf\n",
    "\n",
    "kata_32 = \"PUSPAMURTI\"\n",
    "\n",
    "while kata_32:\n",
    "    print (kata_32, \" \")\n",
    "    kata_32 = kata_32[1:]"
   ]
  },
  {
   "cell_type": "code",
   "execution_count": 10,
   "id": "32a95a51",
   "metadata": {},
   "outputs": [
    {
     "name": "stdout",
     "output_type": "stream",
     "text": [
      "Perhatikan deret bilangan berikut:\n",
      "\tJumlah Deret = 1^1 + 2^2 + 3^3 +...+N^N\n",
      "Keterangan : 1^1 dibaca 1 pangkat 1\n",
      "\n",
      "Masukan nilai batas atas jumlah deret (upperbound) : 24\n",
      "\n",
      "Berapa jumlah suku deret (nilai N) agar jumlah deret lebih kecil atau sama dengan upperbound: 24?\n",
      "\n",
      "Jawaban:\n",
      "\tJumlah suku deret agar jumlah deret <= 24 adalah 2\n",
      "\tJumlah deret = 5\n"
     ]
    }
   ],
   "source": [
    "#Program untuk mengetahui nilai N (jumlah suku pada deret) agar Jumlah Deret ≤ UpperBound dengan \n",
    "#UpperBound yakni nilai batas atas jumlah deret N bilangan yang dihitung\n",
    "\n",
    "#Akan ditampilkan keterangan soal nya terlebih dahulu\n",
    "print(\"Perhatikan deret bilangan berikut:\\n\\tJumlah Deret = 1^1 + 2^2 + 3^3 +...+N^N\")\n",
    "print(\"Keterangan : 1^1 dibaca 1 pangkat 1\")\n",
    "\n",
    "#Akan diinput nilai upperbound\n",
    "UpperBound_32 = int(input(\"\\nMasukan nilai batas atas jumlah deret (upperbound) : \"))\n",
    "JumlahDeret_32 = 0 #tempat nampung jumlah deretnya, makanya awalnya 0 aja dulu\n",
    "Bilangan_32 = 0 #kita mulai dari 0 jangan 1 karena kalok 1 pas kita mau pakai += nanti malah perpangkatannya mulai dari 2**2\n",
    "\n",
    "#Soal ditampilkan\n",
    "print(f\"\\nBerapa jumlah suku deret (nilai N) agar jumlah deret lebih kecil atau sama dengan upperbound: {UpperBound_32}?\")\n",
    "\n",
    "print(\"\\nJawaban:\")\n",
    "while JumlahDeret_32 <= UpperBound_32 : #batas ini sesuai dengan yang diminta disoal\n",
    "    Bilangan_32 +=1 #agar angka yang dioperasikan terus meningkat 1**1 lalu 2**2 dst\n",
    "    JumlahDeret_32 += Bilangan_32**Bilangan_32 #untuk menghitung jumlah deret setelah bil dipangkatkan\n",
    "\n",
    "print(f\"\\tJumlah suku deret agar jumlah deret <= {UpperBound_32} adalah {Bilangan_32 - 1}\")\n",
    "print(f\"\\tJumlah deret = {JumlahDeret_32 - Bilangan_32**Bilangan_32}\")"
   ]
  },
  {
   "cell_type": "code",
   "execution_count": 11,
   "id": "547a37a6",
   "metadata": {},
   "outputs": [
    {
     "name": "stdout",
     "output_type": "stream",
     "text": [
      "Menghitung Rataan Bilangan Bulat dengan Menggunakan While\n",
      "===================================================\n",
      "ps : Masukan 0 untuk menyelesaikan proses masukan bilangan\n",
      "\n",
      "Masukkan Bilangan : 10\n",
      "Masukkan Bilangan : 2\n",
      "Masukkan Bilangan : 4\n",
      "Masukkan Bilangan : 6\n",
      "Masukkan Bilangan : 8\n",
      "Masukkan Bilangan : 0\n",
      "\n",
      "Rataan 5 bilangan = 6.0\n"
     ]
    }
   ],
   "source": [
    "#Berikut program menghitung rata rata n buah bilangan bulat yang dimasukkan pengguna secara berturutan\n",
    "#dan proses masukan berakhir saat pengguna memasukkan 0\n",
    "\n",
    "SUM_32 = 0\n",
    "N_32 = 0\n",
    "\n",
    "print(\"Menghitung Rataan Bilangan Bulat dengan Menggunakan While\")\n",
    "print(\"===================================================\")\n",
    "print(\"ps : Masukan 0 untuk menyelesaikan proses masukan bilangan\\n\")\n",
    "while True : #ini bisa juga dibilang meniru perulangan do di c++\n",
    "    Bil_32 = int(input(\"Masukkan Bilangan : \"))\n",
    "    N_32 += 1\n",
    "    SUM_32 += Bil_32\n",
    "    if Bil_32 == 0 : \n",
    "        break\n",
    "if N_32 == 1 :\n",
    "    print(f\"\\nRataan {N_32 - 1} bilangan tidak terdefinisi\")\n",
    "else :\n",
    "    print(f\"\\nRataan {N_32 - 1} bilangan = {SUM_32/(N_32 - 1)}\")"
   ]
  },
  {
   "cell_type": "code",
   "execution_count": 12,
   "id": "bd63b1ec",
   "metadata": {},
   "outputs": [
    {
     "name": "stdout",
     "output_type": "stream",
     "text": [
      "Masukan nama hari yang ingin anda cari pada list : Minggu\n",
      "Yang anda cari bukan Senin\n",
      "Yang anda cari bukan Selasa\n",
      "Yang anda cari bukan Rabu\n",
      "Yang anda cari bukan Kamis\n",
      "Yang anda cari bukan Jumat\n",
      "Yang anda cari bukan Sabtu\n",
      "Mohon maaf, nama hari yang anda cari tidak ditemukan pada list\n"
     ]
    }
   ],
   "source": [
    "#Contoh Penggunaan while else\n",
    "\n",
    "CariHari_32 = input(\"Masukan nama hari yang ingin anda cari pada list : \")\n",
    "\n",
    "i=0\n",
    "while i < len(list_hari_32):\n",
    "    if list_hari_32[i].lower() == CariHari_32.lower():\n",
    "        print(f\"Hari {CariHari_32} ketemu pada index {i}\")\n",
    "        break #ketika loop dihentikan dengan break maka else tidak dieksekusi\n",
    "    print(f\"Yang anda cari bukan {list_hari_32[i]}\")\n",
    "    i+=1\n",
    "else: #jadi else dieksekusi setelah perulangan while selesai secara normal tanpa dihentikan paksa\n",
    "    print(\"Mohon maaf, nama hari yang anda cari tidak ditemukan pada list\")"
   ]
  },
  {
   "cell_type": "markdown",
   "id": "02182fea",
   "metadata": {},
   "source": [
    "# 5.12 List di Python\n",
    "##### List dapat digunakan saat kita akan merepresentasikan objek di dalam Python baik berupa string maupun berupa angka. Ini akan banyak digunakan pada saat kita mengolah data pada Python. List dapat dipanggil urutannya, bahkan isinya dapat dirubah."
   ]
  },
  {
   "cell_type": "code",
   "execution_count": 13,
   "id": "f7310070",
   "metadata": {},
   "outputs": [
    {
     "name": "stdout",
     "output_type": "stream",
     "text": [
      "['manga', 'pisang', 'rambutan', 'durian']\n",
      "[32, 14, 56, 76]\n",
      "[5000, 'KTP', 'SIM', 5.0, True]\n"
     ]
    }
   ],
   "source": [
    "#Membuat list pada Python\n",
    "#Membuat list sangat sederhana, tinggal memasukkan berbagai nilai yang dipisahkan koma di antara tanda kurung siku\n",
    "\n",
    "buah_32 = ['manga', 'pisang', 'rambutan', 'durian']\n",
    "print(buah_32)\n",
    "NIM_32 = [32, 14, 56, 76]\n",
    "print(NIM_32)\n",
    "\n",
    "#list dapat diisi dengan tipe data apa saja, string, integer, float, double, boolean, object, dan sebagainya.\n",
    "#Kita juga bisa mencampur tipe data isinya.\n",
    "IsiDompet_32 = [5000, \"KTP\", 'SIM', 5.0, True]\n",
    "print(IsiDompet_32)"
   ]
  },
  {
   "cell_type": "code",
   "execution_count": 14,
   "id": "12c681c3",
   "metadata": {},
   "outputs": [
    {
     "name": "stdout",
     "output_type": "stream",
     "text": [
      "manga\n"
     ]
    }
   ],
   "source": [
    "#Cara Memanggil isi/nilai dari list urutan ke-0\n",
    "#List sama seperti array, list juga memiliki nomer indeks untuk mengakses data atau isinya.\n",
    "#Nomer indeks dimulai dari nol atau -1(dimulai dari data terakhir dan setrusnya lanjut ke kiri)\n",
    "\n",
    "#Panggil isi list indeks nomer 0\n",
    "print(buah_32[0])"
   ]
  },
  {
   "cell_type": "code",
   "execution_count": 15,
   "id": "41f73266",
   "metadata": {},
   "outputs": [
    {
     "name": "stdout",
     "output_type": "stream",
     "text": [
      "rambutan\n"
     ]
    }
   ],
   "source": [
    "#Memanggil isi dari list indeks nomer 2\n",
    "\n",
    "print(buah_32[2])"
   ]
  },
  {
   "cell_type": "code",
   "execution_count": 16,
   "id": "3b6dcd06",
   "metadata": {},
   "outputs": [
    {
     "name": "stdout",
     "output_type": "stream",
     "text": [
      "durian\n"
     ]
    }
   ],
   "source": [
    "#Memanggil isi dari list indeks -1 yakni dihitung mulai dari isi list yang terakhir dst lanjut ke kiri\n",
    "\n",
    "print(buah_32[-1])"
   ]
  },
  {
   "cell_type": "code",
   "execution_count": 17,
   "id": "d44d53d5",
   "metadata": {},
   "outputs": [
    {
     "name": "stdout",
     "output_type": "stream",
     "text": [
      "rambutan\n"
     ]
    }
   ],
   "source": [
    "#Memanggil isi dari list indeks nomer -2 \n",
    "\n",
    "print(buah_32[-2])"
   ]
  },
  {
   "cell_type": "code",
   "execution_count": 18,
   "id": "247c65e7",
   "metadata": {},
   "outputs": [
    {
     "name": "stdout",
     "output_type": "stream",
     "text": [
      "['salak', 'pisang', 'rambutan', 'durian']\n"
     ]
    }
   ],
   "source": [
    "#Mengubah isi/nilai list dengan letak nilainya pada list ditentukan\n",
    "\n",
    "buah_32[0] = \"salak\"\n",
    "print(buah_32)"
   ]
  },
  {
   "cell_type": "code",
   "execution_count": 19,
   "id": "a64fd433",
   "metadata": {},
   "outputs": [
    {
     "name": "stdout",
     "output_type": "stream",
     "text": [
      "['salak', 'pisang', 'rambutan']\n"
     ]
    }
   ],
   "source": [
    "#Mencetak nilai list dari indeks 0 dengan batas 3, maka data ke 3 tidak ikut tercetak\n",
    "\n",
    "print(buah_32[0:3])"
   ]
  },
  {
   "cell_type": "code",
   "execution_count": 20,
   "id": "98c98034",
   "metadata": {},
   "outputs": [
    {
     "name": "stdout",
     "output_type": "stream",
     "text": [
      "['salak', 'pisang', 'rambutan', 'durian']\n"
     ]
    }
   ],
   "source": [
    "#tidak merubah list\n",
    "print(buah_32)"
   ]
  },
  {
   "cell_type": "code",
   "execution_count": 21,
   "id": "5ffa85b7",
   "metadata": {},
   "outputs": [
    {
     "name": "stdout",
     "output_type": "stream",
     "text": [
      "2\n"
     ]
    }
   ],
   "source": [
    "#Cara mengetahui posisi suatu nilai pada list\n",
    "\n",
    "print(buah_32.index(\"rambutan\"))"
   ]
  },
  {
   "cell_type": "code",
   "execution_count": 22,
   "id": "37252f18",
   "metadata": {},
   "outputs": [
    {
     "name": "stdout",
     "output_type": "stream",
     "text": [
      "3\n"
     ]
    }
   ],
   "source": [
    "#Cara menghitung kemunculan nilai tertentu dengan count() pada list\n",
    "\n",
    "deret_32 = [1, 2, 4, 8, 9, 7, 11, 8, 100, 10, 12, 12, 12]\n",
    "print(deret_32.count(12))"
   ]
  },
  {
   "cell_type": "code",
   "execution_count": 23,
   "id": "79d937a0",
   "metadata": {},
   "outputs": [
    {
     "name": "stdout",
     "output_type": "stream",
     "text": [
      "100\n"
     ]
    }
   ],
   "source": [
    "#Cara mencari nilai max dengan max() pada list\n",
    "\n",
    "print(max(deret_32))"
   ]
  },
  {
   "cell_type": "code",
   "execution_count": 24,
   "id": "939a304c",
   "metadata": {},
   "outputs": [
    {
     "name": "stdout",
     "output_type": "stream",
     "text": [
      "1\n"
     ]
    }
   ],
   "source": [
    "#Cara mencari nilai min dengan min() pada list\n",
    "\n",
    "print(min(deret_32))"
   ]
  },
  {
   "cell_type": "code",
   "execution_count": 25,
   "id": "d77479fa",
   "metadata": {},
   "outputs": [
    {
     "name": "stdout",
     "output_type": "stream",
     "text": [
      "196\n"
     ]
    }
   ],
   "source": [
    "#Cara mencari nilai sum dengan sum() pada list\n",
    "\n",
    "print(sum(deret_32))"
   ]
  },
  {
   "cell_type": "code",
   "execution_count": 26,
   "id": "4879369a",
   "metadata": {},
   "outputs": [
    {
     "name": "stdout",
     "output_type": "stream",
     "text": [
      "Es Campur\n"
     ]
    }
   ],
   "source": [
    "#List Multi Dimensi\n",
    "\n",
    "#List multi dimensi biasanya digunakan untuk menyimpan struktur data yang kompleks seperti tabel, matriks, graph, tree, dsb.\n",
    "#Berikut contoh list FILM 2 dimensi:\n",
    "\n",
    "ListMenu_32 = [\n",
    "    [\"Nasgor\", \"Pecel\", \"Pizza\"],\n",
    "    [\"Es teh\", \"Es jeruk\", \"Es Campur\"],\n",
    "    [\"Puding\", \"Es krim\"]\n",
    "]\n",
    "\n",
    "#Berikut cara mengakses list multidimensi\n",
    "#Contohnya jika kita ingin mengambil Es jeruk\n",
    "print(ListMenu_32[1][2])\n",
    "\n",
    "#Angka satu [1] di atas, menunjukan indeks list yang mau diakses. Kemudian setelah dapat list-nya baru dambil isinya [2]."
   ]
  },
  {
   "cell_type": "code",
   "execution_count": 27,
   "id": "c8e65a7c",
   "metadata": {},
   "outputs": [
    {
     "name": "stdout",
     "output_type": "stream",
     "text": [
      "Tampilkan semua menu :\n",
      "-  Nasgor\n",
      "-  Pecel\n",
      "-  Pizza\n",
      "-  Es teh\n",
      "-  Es jeruk\n",
      "-  Es Campur\n",
      "-  Puding\n",
      "-  Es krim\n"
     ]
    }
   ],
   "source": [
    "#Berikut Cara mencetak semua isi list multidimensi menu_32\n",
    "\n",
    "print(\"Tampilkan semua menu :\")\n",
    "for menu in ListMenu_32: #perulangan untuk mengakses semua list yg berada pada ListMenu_32\n",
    "    for i in menu: #Perulangan untuk mengakses semua isi pada masing-masing list\n",
    "        print(\"- \", i)"
   ]
  },
  {
   "cell_type": "markdown",
   "id": "46014d7a",
   "metadata": {},
   "source": [
    "# 5.13 Metoda List\n",
    "###### Karena list merupakan objek, maka keberadaannya dapat dimanipulasi dengan menambahkan atau menghilangkan isi nya. Beberapa prosedur list dapat dilihat dibawah ini."
   ]
  },
  {
   "cell_type": "code",
   "execution_count": 28,
   "id": "933a831a",
   "metadata": {},
   "outputs": [
    {
     "name": "stdout",
     "output_type": "stream",
     "text": [
      "['merah', 'biru', 'kuning', 'hijau']\n",
      "['merah', 'biru', 'kuning', 'hijau', 'Jingga']\n",
      "['merah', 'biru', 'ungu', 'kuning', 'hijau', 'Jingga']\n"
     ]
    }
   ],
   "source": [
    "#Cara menambahkan Isi List\n",
    "    # append(nilai) menambahkan nilai dari belakang.\n",
    "    # insert(index, nilai) menambahkan nilai dengan indeks tertentu.\n",
    "\n",
    "#list mula-mula\n",
    "warna_32 = [\"merah\", \"biru\", \"kuning\", \"hijau\"]\n",
    "print(warna_32)\n",
    "\n",
    "#Tambahkan jingga dari belakang list\n",
    "warna_32.append(\"Jingga\")\n",
    "print(warna_32)\n",
    "\n",
    "#Tambahkan ungu pada indeks 2\n",
    "warna_32.insert(2, \"ungu\")\n",
    "print(warna_32)\n"
   ]
  },
  {
   "cell_type": "code",
   "execution_count": 29,
   "id": "c250cc97",
   "metadata": {},
   "outputs": [
    {
     "name": "stdout",
     "output_type": "stream",
     "text": [
      "['Made', 'Eka', 'Dwi', 'Sari']\n"
     ]
    }
   ],
   "source": [
    "nama_32 = [\"Made\", \"Eka\", \"Dwi\"]\n",
    "\n",
    "#Contoh menambahkan isi dari list\n",
    "\n",
    "nama_32.append(\"Sari\")\n",
    "print(nama_32)"
   ]
  },
  {
   "cell_type": "code",
   "execution_count": 30,
   "id": "6f65d080",
   "metadata": {},
   "outputs": [
    {
     "name": "stdout",
     "output_type": "stream",
     "text": [
      "['Dewi', 'Made', 'Eka', 'Dwi', 'Sari']\n"
     ]
    }
   ],
   "source": [
    "#Contoh menambahkan isi dari list ke index yang kita mau\n",
    "\n",
    "nama_32.insert(0,\"Dewi\")\n",
    "\n",
    "print(nama_32)"
   ]
  },
  {
   "cell_type": "code",
   "execution_count": 31,
   "id": "c43cba7d",
   "metadata": {},
   "outputs": [
    {
     "name": "stdout",
     "output_type": "stream",
     "text": [
      "['Blacky', 'Snowwy', 'Max', 'A', 'B', 'C', 'D', 'E']\n"
     ]
    }
   ],
   "source": [
    "#Cara menambahkan nilai baru pada list namun nilai tersebut ditambahkan secara individual\n",
    "\n",
    "Anjing_32 = [\"Blacky\", \"Snowwy\", \"Max\"]\n",
    "Anjing_32.extend(\"ABCDE\")\n",
    "print(Anjing_32)"
   ]
  },
  {
   "cell_type": "code",
   "execution_count": 32,
   "id": "cae4e5a6",
   "metadata": {},
   "outputs": [
    {
     "name": "stdout",
     "output_type": "stream",
     "text": [
      "['Dewi', 'Made', 'Dwi', 'Sari']\n"
     ]
    }
   ],
   "source": [
    "#Berikut cara untuk menghilangkan isi dari list\n",
    "#remove() akan menghapus nilai di dalam sebuah list berdasarkan nama nilai tersebut\n",
    "\n",
    "nama_32.remove(\"Eka\")\n",
    "\n",
    "print(nama_32)"
   ]
  },
  {
   "cell_type": "code",
   "execution_count": 33,
   "id": "53d8d87a",
   "metadata": {},
   "outputs": [
    {
     "name": "stdout",
     "output_type": "stream",
     "text": [
      "['lipstick', 'Eyeliner', 'Mascara']\n",
      "Setelah dihapus nilai pada index 2, list menjadi : ['lipstick', 'Eyeliner'] \n",
      "\n",
      "['LV', 'HERMES', 'DIOR', 'GUCCI', 'CHANEL']\n",
      "Setelah dihapus nilai pada index [1:3], list menjadi : ['LV', 'GUCCI', 'CHANEL']\n"
     ]
    }
   ],
   "source": [
    "#Berikut cara 2 untuk menghilangkan isi dari list\n",
    "#del merupakan salah satu cara menghapus list berdasarkan indeks\n",
    "\n",
    "Tas_32 = [\"LV\",\"HERMES\", \"DIOR\", \"GUCCI\", \"CHANEL\"]\n",
    "MakeUp_32 = [\"lipstick\", \"Eyeliner\", \"Mascara\"]\n",
    "\n",
    "print(MakeUp_32)\n",
    "del MakeUp_32[2]\n",
    "print(f\"Setelah dihapus nilai pada index 2, list menjadi : {MakeUp_32} \\n\")\n",
    "\n",
    "print(Tas_32)\n",
    "del Tas_32[1:3]\n",
    "print(f\"Setelah dihapus nilai pada index [1:3], list menjadi : {Tas_32}\")"
   ]
  },
  {
   "cell_type": "code",
   "execution_count": 34,
   "id": "44bc085e",
   "metadata": {},
   "outputs": [
    {
     "name": "stdout",
     "output_type": "stream",
     "text": [
      "['orange', 'mango', 'watermelon', 'durian', 'papaya']\n",
      "['orange', 'mango', 'watermelon', 'durian']\n"
     ]
    }
   ],
   "source": [
    "#jika kita ingin menghapus nilai list berdasarkan indeks, kita juga bisa menggunakan method pop()\n",
    "\n",
    "fruits_32 = ['orange', 'mango', 'guava', 'watermelon', 'durian', 'papaya']\n",
    "fruits_32.pop(2)\n",
    "print(fruits_32)\n",
    "\n",
    "#jika tidak memasukkan nomor indeks ketika menggunakan pop(), maka yang akan terhapus adalah nilai paling akhir yang ada di dalam list\n",
    "fruits_32.pop()\n",
    "print(fruits_32)"
   ]
  },
  {
   "cell_type": "code",
   "execution_count": 35,
   "id": "a399d741",
   "metadata": {},
   "outputs": [
    {
     "name": "stdout",
     "output_type": "stream",
     "text": [
      "False\n"
     ]
    }
   ],
   "source": [
    "#Berikut cara megecek apakah nilai tersebut ada pada list\n",
    "\n",
    "print(\"Eka\" in nama_32)\n",
    "#hasilnya false karena \"Eka\" sudah diremove sebelumnya"
   ]
  },
  {
   "cell_type": "code",
   "execution_count": 36,
   "id": "eb851137",
   "metadata": {},
   "outputs": [
    {
     "name": "stdout",
     "output_type": "stream",
     "text": [
      "True\n"
     ]
    }
   ],
   "source": [
    "#Contoh megecek apakah nilai tersebut ada pada list\n",
    "\n",
    "print(\"Dewi\" in nama_32)"
   ]
  },
  {
   "cell_type": "code",
   "execution_count": 37,
   "id": "bfda6be3",
   "metadata": {},
   "outputs": [
    {
     "name": "stdout",
     "output_type": "stream",
     "text": [
      "4\n"
     ]
    }
   ],
   "source": [
    "#Contoh mencari panjang list\n",
    "\n",
    "print(len(nama_32))"
   ]
  },
  {
   "cell_type": "code",
   "execution_count": 38,
   "id": "573cc650",
   "metadata": {},
   "outputs": [
    {
     "name": "stdout",
     "output_type": "stream",
     "text": [
      "pets_32 = ['anjing', 'hamster', 'burung', 'kucing', 'kelinci', 'ayam', 'kuda', 'keong']\n",
      "\n",
      "isi list dari 0-6 diambil dengan kelipatan 2 : ['anjing', 'burung', 'kelinci']\n",
      "\n",
      "Saya punya 8 hewan peliharaan, yaitu :\n",
      "- anjing\n",
      "- hamster\n",
      "- burung\n",
      "- kucing\n",
      "- kelinci\n",
      "- ayam\n",
      "- kuda\n",
      "- keong\n"
     ]
    }
   ],
   "source": [
    "#Cara mengetahui panjang list dengan fungsi len()\n",
    "\n",
    "#Berikut dibuat list hewan peliharaan\n",
    "pets_32 = [\"anjing\", \"hamster\", \"burung\", \"kucing\", \"kelinci\", \"ayam\", \"kuda\", \"keong\"]\n",
    "print(f\"pets_32 = {pets_32}\")\n",
    "\n",
    "#Berikut akan ditampilkan list dengan nomor indeks kelipatan\n",
    "print(f\"\\nisi list dari 0-6 diambil dengan kelipatan 2 : {pets_32[0:6:2]}\")\n",
    "\n",
    "#Tampilkan panjang list dan semua daftar hewan peliharaan\n",
    "print(f\"\\nSaya punya {len(pets_32)} hewan peliharaan, yaitu :\")\n",
    "for pet in pets_32:\n",
    "    print (\"- \" + pet)"
   ]
  },
  {
   "cell_type": "code",
   "execution_count": 39,
   "id": "591d1207",
   "metadata": {},
   "outputs": [
    {
     "name": "stdout",
     "output_type": "stream",
     "text": [
      "['anjing', 'hamster', 'burung', 'kucing', 'kelinci', 'ayam', 'kuda', 'keong']\n",
      "['keong', 'kuda', 'ayam', 'kelinci', 'kucing', 'burung', 'hamster', 'anjing']\n",
      "['anjing', 'ayam', 'burung', 'hamster', 'kelinci', 'keong', 'kucing', 'kuda']\n"
     ]
    }
   ],
   "source": [
    "#Cara membalik urutan list dengan metoda reverse() dan sort()\n",
    "\n",
    "#List mula-mula\n",
    "print(pets_32)\n",
    "\n",
    "#setelah membalik urutan list pets_32 dengan reverse\n",
    "pets_32.reverse()\n",
    "print(pets_32)\n",
    "\n",
    "#Lalu dapat kita balik lagi list pets_32, kali ini dengan sort\n",
    "pets_32.sort()\n",
    "print(pets_32)"
   ]
  },
  {
   "cell_type": "code",
   "execution_count": 40,
   "id": "b3c3576e",
   "metadata": {},
   "outputs": [
    {
     "name": "stdout",
     "output_type": "stream",
     "text": [
      "['Little Woman', 'Forrest Gump', 'Your Name', 'Enola Holmes', 'Save Me', 'Reply 1988', 'Flower of Evil']\n",
      "\n",
      "['Save Me', 'Reply 1988', 'Flower of Evil', 'Save Me', 'Reply 1988', 'Flower of Evil', 'Save Me', 'Reply 1988', 'Flower of Evil']\n"
     ]
    }
   ],
   "source": [
    "#Operasi List, diantaranya :\n",
    "    #1 Penggabunga (+)\n",
    "    #2 Perkalian (*)\n",
    "\n",
    "#lIST FILM FAVORITE\n",
    "List_Film_32 = [\"Little Woman\", \"Forrest Gump\", \"Your Name\", \"Enola Holmes\"]\n",
    "\n",
    "#List SERIES FAVORITE\n",
    "List_Series_32 = [\"Save Me\", \"Reply 1988\", \"Flower of Evil\"]\n",
    "\n",
    "#Lalu dapat kita gabungkan keduanya dengan operasi (+)\n",
    "semua_tontonan_32 = List_Film_32 + List_Series_32\n",
    "\n",
    "print(semua_tontonan_32)\n",
    "\n",
    "#Sedangkan untuk operasi perkalian hanya dapat dilakukan dengan bilangan.\n",
    "Ulangi_32 = 3\n",
    "perkalian_list_32 = List_Series_32 * Ulangi_32\n",
    "print(\"\\n\" + str(perkalian_list_32))\n"
   ]
  },
  {
   "cell_type": "markdown",
   "id": "09b83c99",
   "metadata": {},
   "source": [
    "# 5.14 For loop\n",
    "##### For loop dapat digunakan untuk memanggil semua isi list"
   ]
  },
  {
   "cell_type": "code",
   "execution_count": 41,
   "id": "fdced055",
   "metadata": {},
   "outputs": [
    {
     "name": "stdout",
     "output_type": "stream",
     "text": [
      "manggis\n",
      "durian\n",
      "salah\n",
      "jeruk\n"
     ]
    }
   ],
   "source": [
    "#Berikut kita akan menggunakan for loop untuk memanggil isi list\n",
    "\n",
    "buah_32 = [\"manggis\", \"durian\", \"salah\", \"jeruk\"]\n",
    "#kalok ada kondisi yang membatasi mending pakai while\n",
    "#kalau coma ada .... pakai for\n",
    "for jenis_32 in buah_32 : #jenis_32 ini sebenernya bebas mau dinamain apa aja\n",
    "    print(jenis_32)"
   ]
  },
  {
   "cell_type": "code",
   "execution_count": 42,
   "id": "a5a1e36e",
   "metadata": {},
   "outputs": [
    {
     "name": "stdout",
     "output_type": "stream",
     "text": [
      "manggis\n",
      "durian\n",
      "salah\n",
      "jeruk\n"
     ]
    }
   ],
   "source": [
    "for i in range(len(buah_32)) :\n",
    "    print(buah_32[i])"
   ]
  },
  {
   "cell_type": "code",
   "execution_count": 43,
   "id": "2bc14fc3",
   "metadata": {},
   "outputs": [
    {
     "name": "stdout",
     "output_type": "stream",
     "text": [
      "manggis\n",
      "durian\n",
      "salah\n",
      "jeruk\n"
     ]
    }
   ],
   "source": [
    "#Selain pakai for loop untuk memanggil isi list, kita bisa pakai while loop\n",
    "\n",
    "i = 0\n",
    "while i < len(buah_32):\n",
    "    print(buah_32[i])\n",
    "    i+=1"
   ]
  },
  {
   "cell_type": "code",
   "execution_count": 44,
   "id": "0321c7c8",
   "metadata": {},
   "outputs": [
    {
     "name": "stdout",
     "output_type": "stream",
     "text": [
      "range(0, 4)\n"
     ]
    }
   ],
   "source": [
    "print(range(len(buah_32)))"
   ]
  },
  {
   "cell_type": "code",
   "execution_count": 45,
   "id": "8efa47a7",
   "metadata": {},
   "outputs": [
    {
     "name": "stdout",
     "output_type": "stream",
     "text": [
      "A\n",
      "m\n",
      "e\n",
      "r\n",
      "i\n",
      "k\n",
      "a\n"
     ]
    }
   ],
   "source": [
    "#For dengan string\n",
    "#String pun bersifat iterable, sehingga bisa kita jadikan objek perulangan.\n",
    "\n",
    "for karakter_32 in \"Amerika\":\n",
    "    print(karakter_32)"
   ]
  },
  {
   "cell_type": "code",
   "execution_count": 46,
   "id": "16d0e9d1",
   "metadata": {},
   "outputs": [
    {
     "name": "stdout",
     "output_type": "stream",
     "text": [
      "0 manggis\n",
      "1 durian\n",
      "2 salah\n",
      "3 jeruk\n"
     ]
    }
   ],
   "source": [
    "#Mengetahui urutan iterasi for dengan list menggunakan fungsi enumerate\n",
    "#Fungsi tersebut akan mengekstrak 2 buah nilai:\n",
    "    #1 index: yaitu urutan iterasi yang ke berapa\n",
    "    # item: yaitu nilai dari list itu sendiri.\n",
    "\n",
    "\n",
    "for i, buah in enumerate(buah_32):\n",
    "    print(i, buah)"
   ]
  },
  {
   "cell_type": "code",
   "execution_count": 47,
   "id": "30e351b5",
   "metadata": {},
   "outputs": [
    {
     "name": "stdout",
     "output_type": "stream",
     "text": [
      "Masukan tinggi pola yang ingin dibuat : 5\n",
      "1 1 1 1 1 1 1 1 1 1\n",
      " 2 2 2 2 2 2 2 2 2 2\n",
      "  3 3 3 3 3 3 3 3 3 3\n",
      "   4 4 4 4 4 4 4 4 4 4\n",
      "    5 5 5 5 5 5 5 5 5 5\n"
     ]
    }
   ],
   "source": [
    "#Program untuk membuat pola sederhana di bawah ini. Sebagai masukan, `tinggi pola' dengan rentang nilai diijinkan 2 ≤ H ≤ 9.\n",
    "#1 1 1 1 1 1 1 1 1 1\n",
    "# 2 2 2 2 2 2 2 2 2 2\n",
    "#  3 3 3 3 3 3 3 3 3 3\n",
    "#   4 4 4 4 4 4 4 4 4 4\n",
    "#    5 5 5 5 5 5 5 5 5 5\n",
    "\n",
    "Tinggi_32 = int(input(\"Masukan tinggi pola yang ingin dibuat : \"))\n",
    "baris_32 = 1\n",
    "spasi_32 = \" \"\n",
    "\n",
    "if Tinggi_32 < 2 or Tinggi_32 > 9 :\n",
    "    print(\"tinggi yang anda masukan tidak valid\") #karena pola yang diinginkan tidak terbentuk,hanya ada 1 barisan angka saja\n",
    "\n",
    "while baris_32 <= Tinggi_32 :\n",
    "    for i in range(1,baris_32) : #Untuk print spasi pada awal baris sebanyak angka-1 sebelum mulai cetak angka\n",
    "        print(spasi_32, end=\"\")\n",
    "    for j in range(1,10) : #perulangan untuk mulai cetak angka lalu spasi setelahnya sebanyak 10 kali cetak angka\n",
    "        print(baris_32, end=\"\")\n",
    "        print(spasi_32, end=\"\")\n",
    "    print(baris_32) #Untuk print angka terakhir pada suatu baris agar tidak ada tambahan spasi setelahnya\n",
    "    baris_32 += 1 #Ini penting juga agar batas whilenya jelas dan program jalan sesuai yg kita rencanakn, angkanya bertambah\n",
    "        "
   ]
  },
  {
   "cell_type": "code",
   "execution_count": 48,
   "id": "73c8a76d",
   "metadata": {},
   "outputs": [
    {
     "name": "stdout",
     "output_type": "stream",
     "text": [
      "Masukkan angka : 5\n",
      "1 2 3 4 5 \n",
      "1 2 3 4 5 \n",
      "1 2 3 4 5 \n",
      "1 2 3 4 5 \n",
      "1 2 3 4 5 \n"
     ]
    }
   ],
   "source": [
    "#Program untuk mencetak persegi angka meningkat dengan inputan\n",
    "\n",
    "n = int(input(\"Masukkan angka : \"))\n",
    "\n",
    "for i in range (1,(n+1)):\n",
    "    for j in range (1,(n+1)):\n",
    "        print(j, end=\" \")\n",
    "    print()"
   ]
  },
  {
   "cell_type": "code",
   "execution_count": 49,
   "id": "dd9c9a4a",
   "metadata": {},
   "outputs": [
    {
     "name": "stdout",
     "output_type": "stream",
     "text": [
      "Coba Ketik sesuatu: saya ingin makan nasi padang\n",
      "Masukkan huruf pengganti huruf vokal: i\n",
      "\n",
      "siyi ingin mikin nisi piding\n"
     ]
    }
   ],
   "source": [
    "#Program Mengganti huruf vokal kata yang diinput dengan huruf yang ditentukan\n",
    "\n",
    "teks_32 = input('Coba Ketik sesuatu: ')\n",
    "pengganti_32 = input('Masukkan huruf pengganti huruf vokal: ')\n",
    "\n",
    "for huruf in 'aiueo':\n",
    "    teks_32 = teks_32.replace(huruf, pengganti_32)\n",
    "\n",
    "print(f'\\n{teks_32}')"
   ]
  },
  {
   "cell_type": "code",
   "execution_count": 50,
   "id": "eb9c96fe",
   "metadata": {},
   "outputs": [
    {
     "name": "stdout",
     "output_type": "stream",
     "text": [
      "Masukkan panjang sisi persegi bintang yang ingin dibuat : 5\n",
      "\n",
      "~ Solid Square ~\n",
      "* * * * * \n",
      "* * * * * \n",
      "* * * * * \n",
      "* * * * * \n",
      "* * * * * \n",
      "\n",
      "~ Berikut Contoh Square yang Tidak Proposional akibat Spacing Issues ~\n",
      "*****\n",
      "*****\n",
      "*****\n",
      "*****\n",
      "*****\n",
      "\n",
      "~ Hollow Square ~\n",
      "* * * * * \n",
      "*       * \n",
      "*       * \n",
      "*       * \n",
      "* * * * * \n"
     ]
    }
   ],
   "source": [
    "#Program mencetak persegi bintang dengan panjang sisi yang ditentukan\n",
    "\n",
    "\n",
    "sisi_32 = int(input(\"Masukkan panjang sisi persegi bintang yang ingin dibuat : \"))\n",
    "\n",
    "#Ada 2 versi persegi yang dapat kita buat yakni:\n",
    "    #1 persegi yang penuh dengan bintang (solid square)\n",
    "    #2 persegi yang dalamnya kosong (hollow square)\n",
    "\n",
    "print(\"\\n~ Solid Square ~\")\n",
    "for i in range(1,sisi_32+1) : #sisi_32 + 1 agar perulangannya sebanyak panjang sisi yg diinput dan\n",
    "                              #panjang persegi yang dicetak nanti sesuai dengan data panjang sisi yg diinput\n",
    "    print(\"* \"*sisi_32) #dicetak bintang dan spasi (\"* \") agar bentuk persegi yang ditampilkan tampak proposional\n",
    "\n",
    "print(\"\\n~ Berikut Contoh Square yang Tidak Proposional akibat Spacing Issues ~\")\n",
    "for i in range(1,sisi_32+1) :\n",
    "    print(\"*\"*sisi_32) #akan dicoba cetak simbol bintang tanpa tambahan spasi\n",
    "\n",
    "print(\"\\n~ Hollow Square ~\")\n",
    "for row_32 in range(1,sisi_32+1):\n",
    "    for col_32 in range(1,sisi_32+1):\n",
    "#Untuk Hollow Square bintang hanya dicetak pada baris dan kolom ke-1 dan ke-panjang sisi yang diinput\n",
    "#misalnya panjang sisi=5, maka baris ke1, kolom ke 1, baris ke5, dan kolom ke5\n",
    "#oleh karena itu dibutuhkan kondisi if berikut.\n",
    "        if row_32 == 1 or row_32 == sisi_32 or col_32 == 1 or col_32 == sisi_32 :\n",
    "            print(\"*\",end=\" \") #end=\"\" untuk dapat mencetak ke kolom selanjutnya pada baris yang sama\n",
    "        else:\n",
    "            print(\" \",end=\" \")\n",
    "    print() #Setelah semua kolom selesai diisi untuk loop diatas kita perlu lanjut ke baris selanjutnyaa, untuk itu print()\n",
    "    #print() ini berada di dalam loop pertama ya"
   ]
  },
  {
   "cell_type": "code",
   "execution_count": 51,
   "id": "c158eb58",
   "metadata": {},
   "outputs": [
    {
     "name": "stdout",
     "output_type": "stream",
     "text": [
      "  * *   * *   \n",
      "*     *     * \n",
      "*           * \n",
      "  *       *   \n",
      "    *   *     \n",
      "      *       \n"
     ]
    }
   ],
   "source": [
    "#Program mencetak output berupa bentuk love\n",
    "\n",
    "#Untuk mencetak bintang pada tabel: baris dari 0 sampai 5 dan kolom dari 0 sampai 6, maka diperlukan kondisi berikut\n",
    "    # Pada baris ke-nol akan dicetak bintang pada kolom 1,2,4,5, selain itu dicetak spasi\n",
    "    # Pada baris ke-1 akan dicetak bintang pada kolom 0,3,6, selain itu dicetak spasi\n",
    "    # Pada baris ke-2 akan dicetak bintang pada kolom 0 dan 6, selain itu dicetak spasi\n",
    "    # Pada baris ke-3 akan dicetak bintang pada kolom 1 dan 5, selain itu dicetak spasi\n",
    "    # Pada baris ke-4 akan dicetak bintang pada kolom 2 dan 4, selain itu dicetak spasi\n",
    "    # Pada baris ke-5 akan dicetak bintang pada kolom 3, selain itu dicetak spasi\n",
    "    \n",
    "for baris_32 in range(6):\n",
    "    for kolom_32 in range(7):\n",
    "#untuk memenuhi kondisi diatas, maka diperlukan kondisi if sebagai berikut\n",
    "        if (baris_32==0 and kolom_32%3!=0) or (baris_32==1 and kolom_32%3==0) or (baris_32-kolom_32==2) or (baris_32+kolom_32==8):\n",
    "            print(\"*\",end=\" \") #end=\"\" untuk dapat mencetak ke kolom selanjutnya pada baris yang sama\n",
    "        else:\n",
    "            print(\" \",end=\" \")\n",
    "    print() #Untuk lanjut ke newline"
   ]
  },
  {
   "cell_type": "code",
   "execution_count": 52,
   "id": "00f4b10c",
   "metadata": {},
   "outputs": [
    {
     "name": "stdout",
     "output_type": "stream",
     "text": [
      "Masukan tugas baru anda yg ke-1 : Membuat Tugas Algoritma dan Struktur Data IV\n",
      "Ada tugas yg mau ditambahkan lagi? jawab (yes/no) : yes\n",
      "Masukan tugas baru anda yg ke-2 : Membuat Tugas Struktur Aljabar\n",
      "Ada tugas yg mau ditambahkan lagi? jawab (yes/no) : yes\n",
      "Masukan tugas baru anda yg ke-3 : Membuat Presentasi Agama\n",
      "Ada tugas yg mau ditambahkan lagi? jawab (yes/no) : yes\n",
      "Masukan tugas baru anda yg ke-4 : Membuat tugas ide PKM\n",
      "Ada tugas yg mau ditambahkan lagi? jawab (yes/no) : no\n",
      "==================================================\n",
      "\n",
      "Anda mempunyai 4 tugas\n",
      "-  Membuat Tugas Algoritma dan Struktur Data IV\n",
      "-  Membuat Tugas Struktur Aljabar\n",
      "-  Membuat Presentasi Agama\n",
      "-  Membuat tugas ide PKM\n"
     ]
    }
   ],
   "source": [
    "#Program yang menggunakan while loop, list,dan for\n",
    "#Program Menyimpan Semua Tugas Mahasiswa\n",
    "\n",
    "\n",
    "#Membuat list kosong untuk menampung tugas\n",
    "tugas_32 = []\n",
    "stop_32 = False\n",
    "i = 1\n",
    "\n",
    "#Mengisi tugas\n",
    "while(not stop_32):\n",
    "    TugasBaru_32 = input(f\"Masukan tugas baru anda yg ke-{i} : \")\n",
    "    tugas_32.append(TugasBaru_32) #untuk nambahin input an ke list kosong tadi\n",
    "    i += 1\n",
    "    ask_32 = input(\"Ada tugas yg mau ditambahkan lagi? jawab (yes/no) : \")\n",
    "    if(ask_32.lower() == \"no\"): #di lower in biar pas input No, no, NO semua nya tetp kebaca no\n",
    "        stop_32 = True #jadi agar abis jawab no, loopnya berhenti\n",
    "\n",
    "#Mencetak Semua Tugas\n",
    "print(\"=\"*50 + \"\\n\")\n",
    "print(f\"Anda mempunyai {len(tugas_32)} tugas\") #len() untuk bisa tau kita tadi udh input brp tugas\n",
    "for j in tugas_32:\n",
    "    print(\"- \", j)\n"
   ]
  },
  {
   "cell_type": "code",
   "execution_count": 53,
   "id": "8eb3da43",
   "metadata": {},
   "outputs": [
    {
     "name": "stdout",
     "output_type": "stream",
     "text": [
      "PROGRAM FAKTORIAL\n",
      "=================\n",
      "Masukan angka yang mau di faktorial kan : 5\n",
      "Hasil dari 5 faktorial adalah 120 \n"
     ]
    }
   ],
   "source": [
    "#Program Menghitung Faktorial dari input\n",
    "\n",
    "print(\"PROGRAM FAKTORIAL\\n=================\")\n",
    "\n",
    "#Deklarasi variabel\n",
    "faktorial_32 = 1\n",
    "n = int(input(\"Masukan angka yang mau di faktorial kan : \"))\n",
    "\n",
    "#Menghitung hasil faktorial dengan perulangan for\n",
    "for i in range(1,n+1): #n+1 agar dikerjakan perkaliannya sampai n : 1x2x...xn\n",
    "    faktorial_32 *=i\n",
    "print(f\"Hasil dari {n} faktorial adalah {faktorial_32} \")"
   ]
  },
  {
   "cell_type": "code",
   "execution_count": 54,
   "id": "622c6a72",
   "metadata": {},
   "outputs": [
    {
     "name": "stdout",
     "output_type": "stream",
     "text": [
      "Masukkan nilai awal dan nilai akhir\n",
      " nilai awal: 1\n",
      " nilai akhir: 10\n",
      "\n",
      "Tampilkan bilangan\n",
      " 1. Ganjil\n",
      " 2. Genap\n",
      "Pilihan: 1\n",
      "1 3 5 7 9 \n"
     ]
    }
   ],
   "source": [
    "#Program Menampilkan List Bilangan Genap/Ganjil dari Range tertentu dengan for loop\n",
    "\n",
    "print('Masukkan nilai awal dan nilai akhir')\n",
    "\n",
    "nilai_awal_32 = int(input(' nilai awal: '))\n",
    "nilai_akhir_32 = int(input(' nilai akhir: '))\n",
    "\n",
    "print(\"\"\"\\nTampilkan bilangan\n",
    " 1. Ganjil\n",
    " 2. Genap\"\"\")\n",
    "\n",
    "pilihan_32 = int(input('Pilihan: '))\n",
    "\n",
    "# periksa kalau pilihan bukan 1 dan 2\n",
    "if pilihan_32 not in [1, 2]:\n",
    "    print('Pilihan salah')\n",
    "else:\n",
    "    for x in range(nilai_awal_32, nilai_akhir_32 + 1):\n",
    "        if pilihan_32 == 1 and x % 2 == 1:\n",
    "            print(x, end=' ')\n",
    "        elif pilihan_32 == 2 and x % 2 == 0:\n",
    "            print(x, end=' ')\n",
    "    else:\n",
    "    # ganti baris ketika perulangan selesai\n",
    "        print('')"
   ]
  },
  {
   "cell_type": "code",
   "execution_count": 55,
   "id": "0aba283e",
   "metadata": {},
   "outputs": [
    {
     "name": "stdout",
     "output_type": "stream",
     "text": [
      "Masukan banyak baris yang dinginkan :5\n",
      "A \n",
      "B C \n",
      "C D E \n",
      "D E F G \n",
      "E F G H I \n"
     ]
    }
   ],
   "source": [
    "#Program mencetak Pola Huruf dalam bentuk segitiga siku siku\n",
    "\n",
    "n = int(input(\"Masukan banyak baris yang dinginkan :\"))\n",
    "\n",
    "for i in range(n):\n",
    "    k = ord(\"A\") + i\n",
    "    for j in range(i+1):\n",
    "        print(chr(k), end=\" \")\n",
    "        k=k+1\n",
    "    print()\n",
    "\n",
    "#Untuk memuculkan huruf pada python ini saya mencari contoh program di internet, tapi saya belum 100% mengerti\n",
    "#dengan fungsi ord() nya, maaf pak."
   ]
  },
  {
   "cell_type": "code",
   "execution_count": null,
   "id": "63328ab1",
   "metadata": {},
   "outputs": [],
   "source": []
  },
  {
   "cell_type": "markdown",
   "id": "93084755",
   "metadata": {},
   "source": [
    "# 5.15 Fungsi Range\n",
    "\n",
    "##### Fungsi range berguna untuk membangkitkan bilangan berurutan atau berpola yang kita inginkan. Untuk menuliskannya, perlu dikombinasikan dengan for loop.\n",
    "#### range (start, stop, increment)\n",
    "#### - start : integer awal yang dihasilkan\n",
    "#### - stop : integer akhir yang dihasilkan, berhenti setelah nilai = stop-1\n",
    "#### - increment : pola kenaikan atau penurunan. Secara otomatis akan bernilai 1 jika tidak dideklarasikan\n",
    "\n",
    "#### Berikut contoh contoh penggunaan fungsi range"
   ]
  },
  {
   "cell_type": "code",
   "execution_count": 56,
   "id": "a5dadb72",
   "metadata": {},
   "outputs": [
    {
     "name": "stdout",
     "output_type": "stream",
     "text": [
      "range(0, 6)\n"
     ]
    }
   ],
   "source": [
    "#Contoh penggunaan range untuk pendefinisian suatu variabel\n",
    "\n",
    "angka_32 = range(6)\n",
    "print(angka_32)"
   ]
  },
  {
   "cell_type": "code",
   "execution_count": 57,
   "id": "be6879f1",
   "metadata": {},
   "outputs": [
    {
     "name": "stdout",
     "output_type": "stream",
     "text": [
      "0\n",
      "1\n",
      "2\n",
      "3\n",
      "4\n",
      "5\n"
     ]
    }
   ],
   "source": [
    "#Berikut jika variabel tersebut dicetak jadi outputnya berupa rentang dari angka 0 sampai 6\n",
    "\n",
    "for isi_32 in angka_32 :\n",
    "    print(isi_32)"
   ]
  },
  {
   "cell_type": "code",
   "execution_count": 58,
   "id": "e388d7ac",
   "metadata": {},
   "outputs": [
    {
     "name": "stdout",
     "output_type": "stream",
     "text": [
      "5\n",
      "6\n",
      "7\n",
      "8\n",
      "9\n"
     ]
    }
   ],
   "source": [
    "#Contoh penggunaan Range dengan start dan stop\n",
    "\n",
    "for isi_32 in range(5,10) :\n",
    "    print(isi_32)"
   ]
  },
  {
   "cell_type": "code",
   "execution_count": 59,
   "id": "d00ec4ed",
   "metadata": {},
   "outputs": [
    {
     "name": "stdout",
     "output_type": "stream",
     "text": [
      "0\n",
      "2\n",
      "4\n",
      "6\n",
      "8\n"
     ]
    }
   ],
   "source": [
    "#Contoh penggunaan Range lengkap dengan start stop dan increment\n",
    "\n",
    "for isi_32 in range (0,10,2) :\n",
    "    print(isi_32)"
   ]
  },
  {
   "cell_type": "code",
   "execution_count": 60,
   "id": "8bfae3aa",
   "metadata": {},
   "outputs": [
    {
     "name": "stdout",
     "output_type": "stream",
     "text": [
      "5, 4, 3, 2, 1, 0, "
     ]
    }
   ],
   "source": [
    "#Range dengan rentang terbalik\n",
    "#jadi nilai pada range dri depan ke belakang nilainya turun, karena increment nya negatif dan start lebih tinggi dibanding stop\n",
    "\n",
    "for i in range (5,-1,-1):\n",
    "    print(i, end=\", \")"
   ]
  },
  {
   "cell_type": "code",
   "execution_count": 61,
   "id": "806e0f99",
   "metadata": {},
   "outputs": [
    {
     "name": "stdout",
     "output_type": "stream",
     "text": [
      "[0, 2, 4, 6, 8]\n",
      "{0, 2, 4, 6, 8}\n",
      "(0, 2, 4, 6, 8)\n",
      "\n",
      "[10, 8, 6, 4, 2]\n",
      "(10, 8, 6, 4, 2)\n"
     ]
    }
   ],
   "source": [
    "#Buat Daftar, Setel dan Tuple menggunakan Range\n",
    "\n",
    "print(list(range(0, 10, 2)))\n",
    "print(set(range(0, 10, 2)))\n",
    "print(tuple(range(0, 10, 2)))\n",
    "\n",
    "print()\n",
    "#Sama juga, Kita dapat beri nilai negatif pada langkah untuk membuat daftar urutan turun gtu dari depan ke belakang.\n",
    "print(list(range(10, 0, -2)))\n",
    "print(tuple(range(10, 0, -2)))"
   ]
  },
  {
   "cell_type": "code",
   "execution_count": 62,
   "id": "1efd6aa6",
   "metadata": {},
   "outputs": [
    {
     "name": "stdout",
     "output_type": "stream",
     "text": [
      "1, 1, 1, 1, 1, 1, 1, 1, 1, "
     ]
    }
   ],
   "source": [
    "# Contoh penggunaan range dan dipadukan dengan blok kode yg lebih kompleks di blok for\n",
    "\n",
    "for i in range(1,10):\n",
    "    a = i**2 - (i-1)*(i+1)\n",
    "    print(a, end=\", \")"
   ]
  },
  {
   "cell_type": "code",
   "execution_count": 63,
   "id": "c53e092d",
   "metadata": {},
   "outputs": [
    {
     "name": "stdout",
     "output_type": "stream",
     "text": [
      "0, 4, 8, 12, 16, 20, 24, 24 (angka ditemukan!!)\n"
     ]
    }
   ],
   "source": [
    "#Program menggunakan fungsi range untuk menemukan suatu angka\n",
    "\n",
    "number_32 = 24\n",
    "\n",
    "for i in range(0,100,4):\n",
    "    print(i, end=\", \")\n",
    "    if i is number_32:\n",
    "        print(i, \"(angka ditemukan!!)\")\n",
    "        break #ini perulangan langsung stop, langsung keluar dari for\n",
    "else: #ditaruh diluar if karena kita mau semua i nya dicetak dulu jika angka yang dicari tidak ditemukan\n",
    "    print(\"\\nAngka tidak ditemukan!!\")\n"
   ]
  },
  {
   "cell_type": "code",
   "execution_count": null,
   "id": "bf37ca44",
   "metadata": {},
   "outputs": [],
   "source": []
  }
 ],
 "metadata": {
  "kernelspec": {
   "display_name": "Python 3 (ipykernel)",
   "language": "python",
   "name": "python3"
  },
  "language_info": {
   "codemirror_mode": {
    "name": "ipython",
    "version": 3
   },
   "file_extension": ".py",
   "mimetype": "text/x-python",
   "name": "python",
   "nbconvert_exporter": "python",
   "pygments_lexer": "ipython3",
   "version": "3.9.13"
  }
 },
 "nbformat": 4,
 "nbformat_minor": 5
}
