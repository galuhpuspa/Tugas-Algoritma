{
 "cells": [
  {
   "cell_type": "code",
   "execution_count": 1,
   "id": "e4bf2981",
   "metadata": {},
   "outputs": [
    {
     "name": "stdout",
     "output_type": "stream",
     "text": [
      "Saya menggunakan python karena saya sangat ingin belajar mengenai data science\n",
      "Saya menggunakan python karena saya sangat ingin belajar mengenai data science\n",
      "Saya ingin makan \"ice cream matcha\"\n",
      "I don't want to walk that far\n"
     ]
    }
   ],
   "source": [
    "#Tugas Pertemuan Senin, 13 Maret 2023\n",
    "\n",
    "#Latihan print\n",
    "#Perintah print digunakan untuk mencetak tulisan yang ada di dalam tanda print\n",
    "#pakai petik tunggal atau ganda? Variabel string dapat dideklarasikan dengan menggunakan tanda kutip tunggal maupun ganda\n",
    "\n",
    "print(\"Saya menggunakan python karena saya sangat ingin belajar mengenai data science\")\n",
    "#jadi, perintah diatas hasilnya akan sama saja dengan yang dibawah ini\n",
    "print('Saya menggunakan python karena saya sangat ingin belajar mengenai data science')\n",
    "\n",
    "print('Saya ingin makan \"ice cream matcha\"')\n",
    "\n",
    "#print(\"Toko ice cream terdekat jaraknya 12 km')\n",
    "#kalau seperti ini bakalan error, ingat tanda petik yang digunakan itu harus berpasangan yang sesuai yaa!!\n",
    "      \n",
    "#print('I don't want to walk that far')\n",
    "#Kalau seperti itu error. Perhatikan jika ada kata yang perlu ' , yang benar seharusnya seperti berikut.\n",
    "print(\"I don't want to walk that far\")"
   ]
  },
  {
   "cell_type": "code",
   "execution_count": 2,
   "id": "0d2d68ed",
   "metadata": {},
   "outputs": [
    {
     "name": "stdout",
     "output_type": "stream",
     "text": [
      "21\n",
      "20000\n",
      "420000\n"
     ]
    }
   ],
   "source": [
    "#Latihan print 2 dengan menggunakan variabel\n",
    "\n",
    "#Kita definisikan variabel nya terlebih dahulu\n",
    "#Variabel adalah wadah untuk menyimpan nilai data\n",
    "#Kalau di python, variabel tidak perlu langsung dideklarasikan dengan tipe tertentu seperti c++\n",
    "Mahasiswa_32 = 21\n",
    "uang_di_dompet_32 = 20000\n",
    "\n",
    "print(Mahasiswa_32)\n",
    "print(uang_di_dompet_32)\n",
    "\n",
    "#penggunaan operator perkalian * disini agar hasil yang kita print kali ini adalah hasil kali antara kedua variabel tersebut\n",
    "print(Mahasiswa_32*uang_di_dompet_32)\n",
    "\n",
    "\n",
    "#%%%%%%%%%%%%%%%%%%%%%%%\n",
    "#Hati-hati kalok udah sempet run, lalu ubah nama variabel, tapi di perintah print belum dirubah, nanti bisa tetep keluar dia, tapi malah masih pakai pendefinisian yang sebelumnya\n",
    "#Nah, kalau takut mending pencet kernel, restart atau restart & clear output\n",
    "#%%%%%%%%%%%%%%%%%%%%%%%%"
   ]
  },
  {
   "cell_type": "code",
   "execution_count": 3,
   "id": "2f2714ff",
   "metadata": {},
   "outputs": [
    {
     "name": "stdout",
     "output_type": "stream",
     "text": [
      "Galuh Puspamurti\n",
      "Halo perkenalkan aku Galuh Puspamurti\n"
     ]
    }
   ],
   "source": [
    "#Latihan Print 3 dengan penghubung +\n",
    "\n",
    "nama_depan_32 = \"Galuh\"\n",
    "nama_tengah_32 = \" \"\n",
    "nama_belakang_32 = \"Puspamurti\"\n",
    "\n",
    "#Penggunaan + disini untuk mencetak 3 variabel tersebut dalam 1 statement\n",
    "print(nama_depan_32 + nama_tengah_32 + nama_belakang_32)\n",
    "#kita bisa juga mencetak variabel dan string dalam 1 statement\n",
    "print(\"Halo perkenalkan aku \" + nama_depan_32 + nama_tengah_32 + nama_belakang_32)\n",
    "\n",
    "\n",
    "\n",
    "#%%%%%\n",
    "#ingat penggunaan spasinyaa gal diperhatikan\n",
    "#kalau mau isi spasi itu bisa saat di dalam pendefinisian variabel stringnya bisa tinggal dilebihin 1 spasi\n",
    "#%%%%%"
   ]
  },
  {
   "cell_type": "code",
   "execution_count": 4,
   "id": "66c4faff",
   "metadata": {},
   "outputs": [
    {
     "name": "stdout",
     "output_type": "stream",
     "text": [
      "nilai akhir peter adalah 100, sedangkan nilai akhir hans adalah 45, dan nilai akhir anne adalah 89\n"
     ]
    }
   ],
   "source": [
    "#Latihan Print 4 dengan penghubung end=''\n",
    "\n",
    "#Tetap kita inisialisasi variabel terlebih dahulu\n",
    "Peter_32 = 100\n",
    "Hans_32 = 45\n",
    "Anne_32 = 89\n",
    "\n",
    "#Kali ini kita coba mencetak output dalam 1 baris dengan \"mendisable\" newline pada default fungsi print() menggunakan penghubung end=''\n",
    "print(\"nilai akhir peter adalah \" + str(Peter_32), end='')\n",
    "print(\", sedangkan nilai akhir hans adalah \" + str(Hans_32), end='')\n",
    "print(\", dan nilai akhir anne adalah \" + str(Anne_32))"
   ]
  },
  {
   "cell_type": "code",
   "execution_count": 5,
   "id": "6f1c7a40",
   "metadata": {},
   "outputs": [
    {
     "name": "stdout",
     "output_type": "stream",
     "text": [
      "Jumlah pengunjung hari jumat yakni 50 orang, hari sabtu yakni 40 orang, dan hari minggu yakni 32 orang.\n"
     ]
    }
   ],
   "source": [
    "#Latihan Print 5 dengan cara format\n",
    "\n",
    "#Tetap kita inisialisasi variabel terlebih dahulu\n",
    "Jumat_32 = 50\n",
    "Sabtu_32 = 40\n",
    "Minggu_32 = 32\n",
    "\n",
    "#Dalam {} lah nanti akan diisi nilai variabelnya\n",
    "print(\"Jumlah pengunjung hari jumat yakni {} orang, hari sabtu yakni {} orang, dan hari minggu yakni {} orang.\".format(Jumat_32, Sabtu_32, Minggu_32))"
   ]
  },
  {
   "cell_type": "code",
   "execution_count": 6,
   "id": "969e4a43",
   "metadata": {},
   "outputs": [
    {
     "name": "stdout",
     "output_type": "stream",
     "text": [
      "Halo, siapa nama anda? : Galuh\n",
      "Anda sedang melakukan apa, Galuh? :mengerjakan tugas\n",
      "Ayo semangat mengerjakan tugas nya yaaa Galuh!!\n"
     ]
    }
   ],
   "source": [
    "#Latihan input\n",
    "\n",
    "#ketika fungsi input dipanggil, maka program akan berhenti sejenak, lalu kita harus memasukkan nilai, ini akan disimpan di dalam variabel tersebut\n",
    "\n",
    "nama_32 = input(\"Halo, siapa nama anda? : \")\n",
    "kegiatan_32 = input(\"Anda sedang melakukan apa, \" + nama_32 + \"? :\")\n",
    "\n",
    "#Ketika variabel-variabel tersebut akan dicetak, maka akan ditampilkan data yang diimput oleh pengguna tadi\n",
    "print(\"Ayo semangat \" + kegiatan_32 + \" nya yaaa \" + nama_32 + \"!!\")"
   ]
  },
  {
   "cell_type": "code",
   "execution_count": 8,
   "id": "f10ca1c1",
   "metadata": {},
   "outputs": [
    {
     "data": {
      "text/plain": [
       "float"
      ]
     },
     "execution_count": 8,
     "metadata": {},
     "output_type": "execute_result"
    }
   ],
   "source": [
    "#Cara mengetahui tipe data dari sebuah variabel\n",
    "\n",
    "Nilai_32 = 76.5\n",
    "Peserta_32 = \"I Nyoman Budiyadnya Wijaya\"\n",
    "\n",
    "\n",
    "#Kita bisa mengetahui tipe data dari sebuah variabel dengan fungsi type()\n",
    "type(Nilai_32)"
   ]
  },
  {
   "cell_type": "code",
   "execution_count": 9,
   "id": "481be743",
   "metadata": {},
   "outputs": [
    {
     "name": "stdout",
     "output_type": "stream",
     "text": [
      "<class 'float'>\n",
      "<class 'str'>\n",
      "<class 'int'>\n"
     ]
    }
   ],
   "source": [
    "#Mencetak tipe data dari sebuah variabel\n",
    "\n",
    "Nilai_32 = 76.5\n",
    "Peserta_32 = \"I Nyoman Budiyadnya Wijaya\"\n",
    "Percobaan_32 = 10\n",
    "\n",
    "#Kita juga bisa langsung menggunakan perintah print juga, untuk mencetak tipe data variabel yang diinginkan\n",
    "print(type(Nilai_32))\n",
    "print(type(Peserta_32))\n",
    "print(type(Percobaan_32))"
   ]
  },
  {
   "cell_type": "code",
   "execution_count": 10,
   "id": "540a8cce",
   "metadata": {},
   "outputs": [
    {
     "name": "stdout",
     "output_type": "stream",
     "text": [
      "<class 'int'>\n",
      "<class 'float'>\n",
      "<class 'str'>\n",
      "<class 'bool'>\n"
     ]
    }
   ],
   "source": [
    "#Tipe Data pada Python\n",
    "#Kalau di python, tipe data diatur saat kita menetapkan nilai ke variabel\n",
    "\n",
    "a_32 = 23000 #Ini bilangan bulat, maka a_32 tipe data int\n",
    "b_32 = 17.57 #Ini bilangan real, maka b_32 tipe data float\n",
    "c_32 = \"Alpukat\" #Ini sebuah kata/karakter, maka c_32 tipe data str\n",
    "d_32 = False #Ini salah satu dari nilai benar dan salah, maka d_32 tipe data boolean\n",
    "\n",
    "#mari kita cek kebenarannya\n",
    "print(type(a_32))\n",
    "print(type(b_32))\n",
    "print(type(c_32))\n",
    "print(type(d_32))"
   ]
  },
  {
   "cell_type": "code",
   "execution_count": 11,
   "id": "0fffb4d0",
   "metadata": {},
   "outputs": [
    {
     "name": "stdout",
     "output_type": "stream",
     "text": [
      "5\n",
      "5.0\n",
      "5\n"
     ]
    }
   ],
   "source": [
    "#Casting\n",
    "\n",
    "#Jika diinginkan, kita dapat menentukan tipe data suatu variabel dengan melakukan casting\n",
    "\n",
    "Angka_fav1_32 = int(5) #ini berarti Angka_fav1_32 adalah 5 sebagai bil bulat\n",
    "Angka_fav2_32 = float(5) #ini berarti Angka_fav2_32 adalah 5.0 sebagai bilangan desimal\n",
    "Angka_fav3_32 = str(5) #ini berarti Angka_fav3_32 adalah '5' sebagai sebuah karakter\n",
    "\n",
    "print(Angka_fav1_32)\n",
    "print(Angka_fav2_32)\n",
    "print(Angka_fav3_32)"
   ]
  },
  {
   "cell_type": "code",
   "execution_count": 12,
   "id": "4b21d35a",
   "metadata": {},
   "outputs": [
    {
     "name": "stdout",
     "output_type": "stream",
     "text": [
      "<class 'float'>\n",
      "<class 'int'>\n",
      "<class 'str'>\n"
     ]
    }
   ],
   "source": [
    "#Python tidak ketat terhdapap tipe data\n",
    "\n",
    "#kita dapat mengganti nilai apa pun dari tipe data mana pun ke sebuah variabel\n",
    "\n",
    "#definisikan variabel x berupa tipe data float\n",
    "x_32 = 75.0\n",
    "print(type(x_32))\n",
    "#coba ubah variabel x menjadi int\n",
    "x_32 = 75\n",
    "print(type(x_32))\n",
    "#Setelah diubah tadi tidak error, coba kita ubah jadi str\n",
    "x_32 = \"tujuh puluh lima\"\n",
    "print(type(x_32))\n",
    "#Setelah diubah jadi str pun tidak error"
   ]
  },
  {
   "cell_type": "code",
   "execution_count": 13,
   "id": "7c0334e8",
   "metadata": {},
   "outputs": [
    {
     "name": "stdout",
     "output_type": "stream",
     "text": [
      "Senin\n",
      "Rabu\n",
      "Kamis\n"
     ]
    }
   ],
   "source": [
    "#Namun, pada python, tetap nama variabel itu case-sensitive, ingat!!\n",
    "\n",
    "Hari = \"Senin\"\n",
    "#kita coba mengubah pendefinisian Hari tadi menjadi Rabu, namum variabel hari ditulis dengan huruf kecil semua\n",
    "hari = \"Rabu\"\n",
    "\n",
    "print(Hari)\n",
    "#tampak bahwa pendefinisan hari tidak merubah pendefinisian Hari\n",
    "#ini malah menghasilkan dua variabel yang berbeda\n",
    "print(hari)\n",
    "\n",
    "#Seharusnya jika ingin mengubah pendefinisian Hari seperti ini\n",
    "Hari = \"Kamis\"\n",
    "print(Hari)\n",
    "#sekarang Hari=Kamis bukan lagi Senin"
   ]
  },
  {
   "cell_type": "code",
   "execution_count": 17,
   "id": "481bfb52",
   "metadata": {},
   "outputs": [
    {
     "name": "stdout",
     "output_type": "stream",
     "text": [
      "meskipun ini kita ketik dua baris tapi akan dianggap satu baris oleh python\n",
      "\n",
      "Hari pertama\n",
      "Hari Kedua\n",
      "Hariketiga\n"
     ]
    }
   ],
   "source": [
    "#Escape Sequence = Karakter yang dimulai dengan backslash\n",
    "\n",
    "#Deskripsi:\n",
    "#\\[enter] = mengabaikan pindah baris, jadi python tetap nganggep itu 1 baris\n",
    "print(\"meskipun \\\n",
    "ini kita ketik dua baris tapi akan dianggap satu baris oleh python\")\n",
    "\n",
    "#\\n = pindah baris atau membuat baris kosong\n",
    "print(\"\\nHari pertama\\nHari Kedua\\nHariketiga\")\n"
   ]
  },
  {
   "cell_type": "code",
   "execution_count": 18,
   "id": "cb38b26b",
   "metadata": {},
   "outputs": [
    {
     "name": "stdout",
     "output_type": "stream",
     "text": [
      "99\n",
      "28.0\n",
      "2.3333333333333335\n",
      "Hai! Selamat gal, kamu sudah menyelesaikan 5 tugas hari ini!\n"
     ]
    }
   ],
   "source": [
    "#Cara mengubah tipe data dengan fungsi konverter\n",
    "\n",
    "#str() untuk merubah nilai ke bentuk string\n",
    "#int() untuk merubah nilai ke bentuk integer\n",
    "#float() untuk merubah nilai ke bentuk float\n",
    "#bool() untuk merubah nilai ke bentuk boolean\n",
    "\n",
    "#contohnya sebagai berikut\n",
    "\n",
    "#mengonversi float ke int\n",
    "a = 99.42\n",
    "print(int(a))\n",
    "#mengonversi int ke float\n",
    "b = 28\n",
    "print(float(b))\n",
    "#mengonversi angka melalui pembagian\n",
    "c = 7 / 3\n",
    "print(c)\n",
    "#mengonversi angka ke string\n",
    "inisial_32 = \"gal\"\n",
    "tugas_32 = 5\n",
    "print(\"Hai! Selamat \" + inisial_32 + \", kamu sudah menyelesaikan \" + str(tugas_32) + \" tugas hari ini!\")\n"
   ]
  },
  {
   "cell_type": "code",
   "execution_count": 19,
   "id": "9fbe03cb",
   "metadata": {},
   "outputs": [
    {
     "name": "stdout",
     "output_type": "stream",
     "text": [
      "Contoh yang salah\n",
      "Berapa banyak uang anda di dompet? : 10000\n",
      "Berapa banyak uang anda di bank? : 50000\n",
      "Total uang anda adalah : Rp. 1000050000\n",
      "\n",
      "Contoh yang benar\n",
      "Berapa banyak uang anda di dompet? : 10000\n",
      "Berapa banyak uang anda di bank? : 50000\n",
      "Total uang anda adalah : Rp. 60000\n"
     ]
    }
   ],
   "source": [
    "#Tipe Data pada Python dan Merubah Tipe Data\n",
    "\n",
    "print(\"Contoh yang salah\")\n",
    "uang_di_dompet_32 = input(\"Berapa banyak uang anda di dompet? : \")\n",
    "uang_di_bank_32 = input(\"Berapa banyak uang anda di bank? : \")\n",
    "print(\"Total uang anda adalah : Rp. \" + uang_di_dompet_32 + uang_di_bank_32 +\"\\n\")\n",
    "\n",
    "#%%%%%%%%%%%%%%%%%%%%%\n",
    "#Perhatikan tipe data, penjumlahan dengan tipe data string akan berbeda dengan penjumlahan tipe data yg berupa angka\n",
    "#ini diatas salah karena variabel dijumlahkan sebagai data string\n",
    "#%%%%%%%%%%%%%%%%%%%%\n",
    "\n",
    "\n",
    "#Berikut adalah contoh yang benar\n",
    "print(\"Contoh yang benar\")\n",
    "uang_di_dompet_32 = input(\"Berapa banyak uang anda di dompet? : \")\n",
    "uang_di_bank_32 = input(\"Berapa banyak uang anda di bank? : \")\n",
    "#nah, disini itu kita perlu ubah tipe data nya yg tadi str jadi int, biar penjumlahan nya bener\n",
    "total_32 = int(uang_di_dompet_32) + int(uang_di_bank_32)\n",
    "#lalu, karena tadi saat input tipe data yg dimasukan str, maka saat mau print, harus tipe data yg sama, ubah lagi jadi str\n",
    "print(\"Total uang anda adalah : Rp. \" + str(total_32))"
   ]
  },
  {
   "cell_type": "code",
   "execution_count": 20,
   "id": "35c044cf",
   "metadata": {},
   "outputs": [
    {
     "name": "stdout",
     "output_type": "stream",
     "text": [
      "Berapa banyak uang anda di dompet? : 10000\n",
      "Berapa banyak uang anda di bank? : 50000\n",
      "Total uang anda adalah : Rp. 60000\n"
     ]
    }
   ],
   "source": [
    "#Cara lain mengubah tipe data\n",
    "#Disini, bedanya dengan contoh sebelumnya, kita sudah menggunakan fungsi konverter pada saat proses input\n",
    "uang_di_dompet_32 = int(input(\"Berapa banyak uang anda di dompet? : \"))\n",
    "uang_di_bank_32 = int(input(\"Berapa banyak uang anda di bank? : \"))\n",
    "total_32 = uang_di_dompet_32 + uang_di_bank_32\n",
    "#baru kemudian, diubah menjadi str kembali saat akan diprint\n",
    "print(\"Total uang anda adalah : Rp. \" + str(total_32))"
   ]
  },
  {
   "cell_type": "code",
   "execution_count": 21,
   "id": "721c5e30",
   "metadata": {},
   "outputs": [
    {
     "name": "stdout",
     "output_type": "stream",
     "text": [
      "masukkan bilangan pertama : 15\n",
      "masukkan bilangan kedua : 25\n",
      "Jumlah kedua bilangan tersebut adalah 40.0\n"
     ]
    }
   ],
   "source": [
    "# penjumlahan dua bilangan dengan menggunakan input dan print\n",
    "\n",
    "bilangan1_32 = input(\"masukkan bilangan pertama : \")\n",
    "bilangan2_32 = input(\"masukkan bilangan kedua : \")\n",
    "jumlah = float(bilangan1_32) + float(bilangan2_32)\n",
    "print(\"Jumlah kedua bilangan tersebut adalah \" + str(jumlah))"
   ]
  },
  {
   "cell_type": "code",
   "execution_count": 22,
   "id": "ba206562",
   "metadata": {},
   "outputs": [
    {
     "name": "stdout",
     "output_type": "stream",
     "text": [
      "Mahasiswa Monar dengan NIM 100 dari kelas F memutuskan mengambil konsentrasi Komputasi.\n",
      "Mahasiswa Monar dengan NIM 100 dari kelas F memutuskan mengambil konsentrasi Komputasi.\n"
     ]
    }
   ],
   "source": [
    "#Formatted String\n",
    "\n",
    "#Formatted string digunakan untuk mempermudah penulisan nilai variabel yang ingin dicetak pada perintah print\n",
    "#Teknik ini bisa dikatakan sebagai metode format yang diimprove\n",
    "#Bedanya dengan metode format, jadi variabel nati akan ditulis beriringan dengan string di dalam {}\n",
    "\n",
    "#Kita definisikan dulu variabelnya\n",
    "nama_32 = \"Monar\"\n",
    "nim_32 = 100\n",
    "kelas_32 = 'F'\n",
    "konsentrasi_32 = \"Komputasi\"\n",
    "\n",
    "#Tambahkan karakter “f” di awal fungsi print()\n",
    "#Masukkan nama dari variabel yang dingginkan ke {} dan ditempatkan sesuai letak yang diinginkan\n",
    "print(f\"Mahasiswa {nama_32} dengan NIM {nim_32} dari kelas {kelas_32} memutuskan mengambil konsentrasi {konsentrasi_32}.\")\n",
    "#ini akan sama juga kalau kita memakai tanda petik tunggal ''\n",
    "print(f'Mahasiswa {nama_32} dengan NIM {nim_32} dari kelas {kelas_32} memutuskan mengambil konsentrasi {konsentrasi_32}.')"
   ]
  },
  {
   "cell_type": "code",
   "execution_count": 23,
   "id": "fe5bc7b9",
   "metadata": {},
   "outputs": [
    {
     "name": "stdout",
     "output_type": "stream",
     "text": [
      "Halo selamat datang di Kedai Jus, siapa nama anda? : Donita\n",
      "Anda ingin membeli jus buah apa, Donita? :Alpukat\n",
      "Anda ingin membeli jus Alpukat berapa buah? : 5\n",
      "Baik, pesanan yakni 5 jus buah Alpukat atas nama Donita akan segera dibuat, Terima kasih dan Have a nice day Donita!!\n"
     ]
    }
   ],
   "source": [
    "#Latihan Formatted String 2\n",
    "\n",
    "#Akan dicoba menggunakan input dan formatted string\n",
    "\n",
    "#Input data ke variavel\n",
    "pembeli_32 = input(\"Halo selamat datang di Kedai Jus, siapa nama anda? : \")\n",
    "pesanan_32 = input(\"Anda ingin membeli jus buah apa, \" + pembeli_32 + \"? :\")\n",
    "banyak_pesanan_32 = input (\"Anda ingin membeli jus \" + pesanan_32 + \" berapa buah? : \")\n",
    "\n",
    "#cetak output ke layar dengan menggunakan f-string\n",
    "print(f\"Baik, pesanan yakni {banyak_pesanan_32} jus buah {pesanan_32} atas nama {pembeli_32} akan segera dibuat, Terima kasih dan Have a nice day {pembeli_32}!!\")"
   ]
  },
  {
   "cell_type": "code",
   "execution_count": 25,
   "id": "3fd2d520",
   "metadata": {},
   "outputs": [
    {
     "name": "stdout",
     "output_type": "stream",
     "text": [
      "Masukkan bilangan : 23.9867\n",
      "Bilangan Desimal = 23.99\n"
     ]
    }
   ],
   "source": [
    "#Latihan Formatted String 3\n",
    "\n",
    "#Input data ke variabel\n",
    "bilangan_32 = float(input(\"Masukkan bilangan : \"))\n",
    "\n",
    "#Akan diubah bilangan desimal yang diinput menjadi bil desimal dua angka di belakang koma\n",
    "#Caranya dengan menggunakan sintaks {nama variabel:.nf} pada formatted string nya dengan n adalah banyak tempat desimal dibelakang koma\n",
    "#Berikut contohnya, akan diprint bilangan desimal dengan dua angka di belakang koma\n",
    "print(f\"Bilangan Desimal = {bilangan_32:.2f}\")"
   ]
  },
  {
   "cell_type": "code",
   "execution_count": 26,
   "id": "6d07011c",
   "metadata": {},
   "outputs": [
    {
     "name": "stdout",
     "output_type": "stream",
     "text": [
      "Jumlah pendapatan hari 1 = Rp. 368,000\n",
      "Jumlah pendapatan hari 2 = Rp. 667,000\n"
     ]
    }
   ],
   "source": [
    "#Latihan Formatted String 4\n",
    "\n",
    "#Operasi aritmatika di dalam placeholder dan memanfaatkan f-string\n",
    "#definisikan variabel terleboh dahulu\n",
    "harga_produkA_32 = 29000\n",
    "orderA_d1_32 = 7\n",
    "orderA_d2_32 = 23\n",
    "harga_produkB_32 = 11000\n",
    "orderB_d1_32  = 15\n",
    "orderB_d2_32  = 0\n",
    "\n",
    "#inisialiasi total pendapatan hari 1 dan 2, hasil operasi aritmatika diubah menjadi bentuk koma dengan sintaks \":,\", dan juga kita manfaatkan f-string\n",
    "Total_d1_32 = f\"Jumlah pendapatan hari 1 = Rp. {(harga_produkA_32*orderA_d1_32 + harga_produkB_32*orderB_d1_32):,}\"\n",
    "Total_d2_32 = f\"Jumlah pendapatan hari 2 = Rp. {(harga_produkA_32*orderA_d2_32 + harga_produkB_32*orderB_d2_32):,}\"\n",
    "#mencetak output ke layar\n",
    "print(Total_d1_32 + \"\\n\" + Total_d2_32)"
   ]
  },
  {
   "cell_type": "code",
   "execution_count": null,
   "id": "9e750ae7",
   "metadata": {},
   "outputs": [],
   "source": []
  }
 ],
 "metadata": {
  "kernelspec": {
   "display_name": "Python 3 (ipykernel)",
   "language": "python",
   "name": "python3"
  },
  "language_info": {
   "codemirror_mode": {
    "name": "ipython",
    "version": 3
   },
   "file_extension": ".py",
   "mimetype": "text/x-python",
   "name": "python",
   "nbconvert_exporter": "python",
   "pygments_lexer": "ipython3",
   "version": "3.9.13"
  }
 },
 "nbformat": 4,
 "nbformat_minor": 5
}
