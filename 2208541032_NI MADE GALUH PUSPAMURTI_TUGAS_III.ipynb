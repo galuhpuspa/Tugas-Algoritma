{
 "cells": [
  {
   "cell_type": "markdown",
   "id": "71747a7e",
   "metadata": {},
   "source": [
    "# 5.5 Strings Index\n",
    "\n",
    "Variabel menyimpan suatu nilai berupa barisan karakter, sehingga dapat dilakukan index string untuk menampilkan karakter dengan index tertentu. Variabel berupa string dapat diurutkan dengan index yang dimulai dengan 0. Selain itu pada Python, urutan terakhir didefinisikan sebagai urutan ke -1, data ke dua dari akhir dengan urutan -2, dst."
   ]
  },
  {
   "cell_type": "code",
   "execution_count": 1,
   "id": "4522db3f",
   "metadata": {},
   "outputs": [
    {
     "name": "stdout",
     "output_type": "stream",
     "text": [
      "k\n",
      "I\n",
      "a\n",
      "r\n",
      "Ini\n",
      "Ini kelas algoritm\n",
      "itm\n",
      "elas algoritm\n",
      "ieslrm\n",
      "Ini kelas algori\n",
      "itma\n",
      "\n",
      "Ini kelas algoritma\n",
      "Ini kelas algoritma\n",
      "Ini kelas algoritma\n",
      " al\n",
      "a\n",
      "\n"
     ]
    }
   ],
   "source": [
    "#Latihan Strings Index 1\n",
    "\n",
    "kelas_32 = \"Ini kelas algoritma\"\n",
    "#Karakter spasi juga ikut diurutkan dengan index\n",
    "\n",
    "#Berikut akan ditampilkan salah satu karakter dengan index tertentu\n",
    "#pakai nama_variabel[index_karakter]\n",
    "print(kelas_32[4])\n",
    "print(kelas_32[0])    #disini bisa diliat bahwa urutan index dimulai dari 0\n",
    "print(kelas_32[-1])   #disini bisa diliat bahwa urutan terakhir didefinisikan sebagai urutan ke -1\n",
    "print(kelas_32[-5])\n",
    "\n",
    "#Range Slice String yg formulanya -> nama_variabel[a:b]\n",
    "   #> a = indeks karakter yang mau mulai dicetak\n",
    "   #> b = batas akhir yang mau dicetak, tapi b tidak ikut dicetak\n",
    "print(kelas_32[0:3])\n",
    "print(kelas_32[0:-1]) #disini bisa dilihat jika kita masukan b = -1 maka karakter dengan index -1 tidak tercetak\n",
    "print(kelas_32[-4:-1])\n",
    "print(kelas_32[5:-1])\n",
    "\n",
    "\n",
    "#ini berarti dimulai dari 2 sampai -1 tapi -1 tidak ikut, diambil huruf dari variabel tsb dengan lompat 3\n",
    "print(kelas_32[2:-1:3])\n",
    "\n",
    "#Untuk mengambil karakter dari awal bisa kita pakai 0 atau kita kosongin aja\n",
    "print(kelas_32[:-3])\n",
    "\n",
    "#Begitu juga kalau mau ambil karakter sampai karakter terakhir, b nya bisa dikosongin aja, jangan pakai 0\n",
    "print(kelas_32[-4:])\n",
    "#Mengapa jangan pakai 0? karena ini saat akku coba, malah tidak tercetak apa apa\n",
    "print(kelas_32[-4:0])\n",
    "\n",
    "#Kalau mau cetak semua karakter dari awal sampai akhir bisa seperti berikut\n",
    "print(kelas_32[:])\n",
    "#Seperti diatas, atau bisi begini.\n",
    "print(kelas_32[0:])\n",
    "print(kelas_32[0:19])\n",
    "\n",
    "print(kelas_32[9:-7])\n",
    "print(kelas_32[10:-8])\n",
    "'''jadi dari sini, bisa aku tangkap bahwa kapan - nya berhenti, yakni batasnya a, jadi maksudnya indexs variabel diatas\n",
    "   itu jadi begini [10:-8] 0 1 2 3 4 5 6 7 8 9 10 -8 -7 -6 -5 -4 -3 -2 -1\n",
    "   kalau yang [9:-7] 0 1 2 3 4 5 6 7 8 9 -9 -8 -7 -6 -5 -4 -3 -2 -1\n",
    "'''\n",
    "\n",
    "#Dibawah ini, aku mau coba bisa kah dia ngambil karakternya kebalik, jadi dari kanan ke kiri\n",
    "print(kelas_32[-8:2]) #ternyata tidak keluar hasil"
   ]
  },
  {
   "cell_type": "code",
   "execution_count": 2,
   "id": "870b0039",
   "metadata": {},
   "outputs": [
    {
     "name": "stdout",
     "output_type": "stream",
     "text": [
      "ksa\n",
      "s aI\n"
     ]
    }
   ],
   "source": [
    "#Latihan strings index 2\n",
    "\n",
    "#Kita juga bisa mencetak karakter yang tidak berurutan menjadi satu. Seperti berikut.\n",
    "print(kelas_32[4] + kelas_32[8] + kelas_32[10])\n",
    "print(kelas_32[8] + kelas_32[3] + kelas_32[-1] + kelas_32[0])"
   ]
  },
  {
   "cell_type": "code",
   "execution_count": 3,
   "id": "dba2480f",
   "metadata": {},
   "outputs": [
    {
     "name": "stdout",
     "output_type": "stream",
     "text": [
      "Ini baru pekan algoritma\n"
     ]
    }
   ],
   "source": [
    "#Latihan strings index 3\n",
    "#Berikut akan dibuat urutan kalimat baru dengan memanfaatkan strings index\n",
    "\n",
    "kotak_32 = \"pekan baru\"\n",
    "print(kelas_32[0:3] + \" \" + kotak_32[6:] + \" \" +  kotak_32[:5] + \" \" + kelas_32[-9:])"
   ]
  },
  {
   "cell_type": "markdown",
   "id": "72ca85ef",
   "metadata": {},
   "source": [
    "# 5.6 Strings Methods\n",
    "\n",
    "###### Berikut adalah latihan-latihan strings methods :"
   ]
  },
  {
   "cell_type": "code",
   "execution_count": 4,
   "id": "0f652d6c",
   "metadata": {},
   "outputs": [
    {
     "name": "stdout",
     "output_type": "stream",
     "text": [
      "34\n"
     ]
    }
   ],
   "source": [
    "Film_32 = \"Nanti Kita Cerita Tentang Hari Ini\"\n",
    "\n",
    "#cara mengetahui ada berapa banyak karakter dalam variabel tersebut, spasinya juga ikut terhitung\n",
    "print(len(Film_32))"
   ]
  },
  {
   "cell_type": "code",
   "execution_count": 5,
   "id": "306bea2f",
   "metadata": {},
   "outputs": [
    {
     "data": {
      "text/plain": [
       "'NANTI KITA CERITA TENTANG HARI INI'"
      ]
     },
     "execution_count": 5,
     "metadata": {},
     "output_type": "execute_result"
    }
   ],
   "source": [
    "#Cara mengubah string menjadi kapital semua\n",
    "Film_32.upper()"
   ]
  },
  {
   "cell_type": "code",
   "execution_count": 6,
   "id": "4c21614f",
   "metadata": {},
   "outputs": [
    {
     "data": {
      "text/plain": [
       "'nanti kita cerita tentang hari ini'"
      ]
     },
     "execution_count": 6,
     "metadata": {},
     "output_type": "execute_result"
    }
   ],
   "source": [
    "#Cara mengubah string menjadi huruf kecil semua\n",
    "Film_32.lower()"
   ]
  },
  {
   "cell_type": "code",
   "execution_count": 7,
   "id": "bbd6a28b",
   "metadata": {},
   "outputs": [
    {
     "data": {
      "text/plain": [
       "18"
      ]
     },
     "execution_count": 7,
     "metadata": {},
     "output_type": "execute_result"
    }
   ],
   "source": [
    "#Cara mengetahui letak suatu karakter dalam variabel string tersebut, ini urutannya pakai string indexnya jadi mulai dari 0\n",
    "Film_32.find('Tentang')"
   ]
  },
  {
   "cell_type": "code",
   "execution_count": 8,
   "id": "b21d4283",
   "metadata": {},
   "outputs": [
    {
     "name": "stdout",
     "output_type": "stream",
     "text": [
      "0\n",
      "32\n",
      "24\n",
      "5\n"
     ]
    }
   ],
   "source": [
    "#Jadi dengan sintaks find yang dicari itu bebas bisa 1 huruf aja bisa juga 1 kata\n",
    "#nah kalau satu kata nanti hasil yg muncul letaknya kata nya itu di letak huruf pertamanya\n",
    "print(Film_32.find(\"Nanti\"))\n",
    "print(Film_32.find(\"ni\"))\n",
    "print(Film_32.find(\"g\"))\n",
    "\n",
    "#Kemudian kita coba cari karakter spasi, yang mana di variabelnya ini 5 kan, kalau begini hasil letaknya akan bagaimana?\n",
    "print(Film_32.find(\" \"))\n",
    "#ternyata hasilnya pakai di letak pertama kali \" \" muncul.\n",
    "#Jadi metode ini menemukan kemunculan pertama dari karakter yang ditentukan"
   ]
  },
  {
   "cell_type": "code",
   "execution_count": 9,
   "id": "34c40e3a",
   "metadata": {},
   "outputs": [
    {
     "data": {
      "text/plain": [
       "-1"
      ]
     },
     "execution_count": 9,
     "metadata": {},
     "output_type": "execute_result"
    }
   ],
   "source": [
    "Film_32.find('kita')\n",
    "\n",
    "#Hasilnya -1 berarti tidak dapat ditemukan karakter kita pada variabel tersebut, atau artinya false\n",
    "#python juga case sensitive, jadi kita tidak sama dengan KIta"
   ]
  },
  {
   "cell_type": "code",
   "execution_count": 12,
   "id": "06455928",
   "metadata": {},
   "outputs": [
    {
     "data": {
      "text/plain": [
       "'Esok Kita Cerita Tentang Hari Ini'"
      ]
     },
     "execution_count": 12,
     "metadata": {},
     "output_type": "execute_result"
    }
   ],
   "source": [
    "#Cara mengganti karakter pada variabel diketahui dengan karakter baru\n",
    "\n",
    "Film_32.replace('Nanti', 'Esok')"
   ]
  },
  {
   "cell_type": "code",
   "execution_count": 13,
   "id": "e8221221",
   "metadata": {},
   "outputs": [
    {
     "data": {
      "text/plain": [
       "'Nanti Kita Cerita Tentang Hari Ini'"
      ]
     },
     "execution_count": 13,
     "metadata": {},
     "output_type": "execute_result"
    }
   ],
   "source": [
    "#Kembali lagi karena case sensitive, maka ketika karakter yang mau diganti tidak berhasil ditemukan pada variabel tersebut\n",
    "#maka proses mengganti karakternya gagal, tidak berjalan.\n",
    "\n",
    "Film_32.replace('nanti', 'Esok')"
   ]
  },
  {
   "cell_type": "code",
   "execution_count": 14,
   "id": "a050f925",
   "metadata": {},
   "outputs": [
    {
     "name": "stdout",
     "output_type": "stream",
     "text": [
      "True\n"
     ]
    }
   ],
   "source": [
    "#Cara untuk mengetahui apakah nilai/karakter yang ditentukan berada pada variabel tertentu\n",
    "#Operator keanggotaan: in\n",
    "\n",
    "print('Nanti' in Film_32)\n",
    "\n",
    "#Operator in akan menghasilkan nilai TRUE jika nilai yang ditentukan berada dalam objek tertentu"
   ]
  },
  {
   "cell_type": "code",
   "execution_count": 15,
   "id": "5bf1da70",
   "metadata": {},
   "outputs": [
    {
     "name": "stdout",
     "output_type": "stream",
     "text": [
      "False\n"
     ]
    }
   ],
   "source": [
    "#penggunaan operator keanggotaan : in\n",
    "\n",
    "print('nanti' in Film_32)"
   ]
  },
  {
   "cell_type": "code",
   "execution_count": 16,
   "id": "334278aa",
   "metadata": {},
   "outputs": [
    {
     "name": "stdout",
     "output_type": "stream",
     "text": [
      "True\n"
     ]
    }
   ],
   "source": [
    "print(' ' in Film_32)"
   ]
  },
  {
   "cell_type": "code",
   "execution_count": 17,
   "id": "111eedbb",
   "metadata": {},
   "outputs": [
    {
     "name": "stdout",
     "output_type": "stream",
     "text": [
      "True\n"
     ]
    }
   ],
   "source": [
    "print('i Ki' in Film_32)"
   ]
  },
  {
   "cell_type": "code",
   "execution_count": 18,
   "id": "7c92f9df",
   "metadata": {},
   "outputs": [
    {
     "name": "stdout",
     "output_type": "stream",
     "text": [
      "True\n"
     ]
    }
   ],
   "source": [
    "#Operator keanggotaan : not in\n",
    "\n",
    "print('nanti' not in Film_32)\n",
    "\n",
    "#Operator not in menghasilkan nilai TRUE jika nilai yang ditentukan tidak ada dalam objek tertentu"
   ]
  },
  {
   "cell_type": "code",
   "execution_count": 19,
   "id": "165553cc",
   "metadata": {},
   "outputs": [
    {
     "name": "stdout",
     "output_type": "stream",
     "text": [
      "7\n",
      "4\n",
      "-1\n"
     ]
    }
   ],
   "source": [
    "#Bagaimana jika user ingin mencari suatu karakter tetapi hanya pada suatu rentang index tertentu?\n",
    "#Untuk itu, bisa memakai sintaks berikut : nama_variabel.find(value, start, end)\n",
    "'''\n",
    "   value -> karakter yang akan dicari\n",
    "   start -> Dari index ke berapa mau memulai pencarian.\n",
    "   end   -> Index untuk mengakhiri pencarian. \n",
    "'''\n",
    "\n",
    "pencarian_32 = Film_32.find('i', 5, 10)\n",
    "print(pencarian_32)\n",
    "pencarian_32 = Film_32.find('i', 4, 10)\n",
    "print(pencarian_32)\n",
    "pencarian_32 = Film_32.find('i', 0, 4) #ingat bahwa jika dicari sampai 'end' maka endnya tidak bisa terpilih\n",
    "print(pencarian_32)\n",
    "#Maksudnya, untuk dari rentang 0-4, 'i' terletak hanya di index 4, tapi karena batasnya 4, maka jadi tidak dapat ditemukan 'i'"
   ]
  },
  {
   "cell_type": "code",
   "execution_count": 20,
   "id": "3f2fc203",
   "metadata": {},
   "outputs": [
    {
     "data": {
      "text/plain": [
       "'Nanti kita cerita tentang hari ini'"
      ]
     },
     "execution_count": 20,
     "metadata": {},
     "output_type": "execute_result"
    }
   ],
   "source": [
    "#Cara mengubah hanya karakter pertama pada string menjadi huruf kapital\n",
    "\n",
    "Film_32.capitalize()"
   ]
  },
  {
   "cell_type": "markdown",
   "id": "55fbd18c",
   "metadata": {},
   "source": [
    "# 5.7 Operasi Matematika di Python\n",
    "\n",
    "Terdapat operasi matematika di Python seperti: Penjumlahan (+), Pengurangan (-), Perkalian ( * ), Pembagian (/), Pembulatan Pembagian (//) , Modulo (%), Pemangkatan ( ** ), dan Augmented Operator"
   ]
  },
  {
   "cell_type": "code",
   "execution_count": 21,
   "id": "77e5e7dd",
   "metadata": {},
   "outputs": [
    {
     "name": "stdout",
     "output_type": "stream",
     "text": [
      "5\n",
      "-1\n",
      "6\n",
      "2.3333333333333335\n",
      "2\n",
      "1\n",
      "8\n",
      "4\n",
      "2\n",
      "6\n"
     ]
    }
   ],
   "source": [
    "#Contoh penggunaan berbagai jenis operasi matematika\n",
    "\n",
    "print(2+3) #ini contoh operasi penjumlahan\n",
    "print(2-3) #ini contoh operasi pengurangan\n",
    "print(2*3) #ini contoh operasi perkalian\n",
    "print(7/3) #ini contoh operasi pembagian\n",
    "print(7//3) #in contoh operasi pembulatan pembagian\n",
    "print(7%3) #ini contoh operasi modulo\n",
    "print(2**3) #ini contoh operasi pemangkatan\n",
    "\n",
    "#dibawah ini contoh augmented operator\n",
    "#augmented operator berlaku baik pada penjumlahan, pengurangan, dan perkalian\n",
    "x=3\n",
    "x+=1 #artinya x = x + 1, jadi abis ini tu kita dapet nilai x yang baru, udah bukan x=3\n",
    "print(x)\n",
    "x-=2 #artinya x = x - 2, jadi abis ini tu kita dapet nilai x yang baru lagi, udah bukan x=4\n",
    "print(x)\n",
    "x*=3 #artinya x = x * 3, jadi abis ini tu kita dapet nilai x yang baru lagi, udah bukan x=2\n",
    "print(x)"
   ]
  },
  {
   "cell_type": "code",
   "execution_count": 22,
   "id": "5be96691",
   "metadata": {},
   "outputs": [
    {
     "name": "stdout",
     "output_type": "stream",
     "text": [
      "31.666666666666664\n",
      "15.0\n"
     ]
    }
   ],
   "source": [
    "#Jangan lupa, prioritas operasi matematika nya, yakni :\n",
    "  #1 ()\n",
    "  #2 pemangkatan\n",
    "  #3 perkalian, pembagian, modulo, pembulatan pembagian\n",
    "  #4 penjumlahan, pengurangan\n",
    "\n",
    "a_32 = 2\n",
    "b_32 = 3\n",
    "c_32 = 4\n",
    "\n",
    "#contohnya seperti berikut\n",
    "hasil_operasi_32 = a_32 ** b_32 * c_32 + a_32 / b_32 - b_32 % c_32 // a_32\n",
    "print(hasil_operasi_32)\n",
    "\n",
    "#tentunya hasil operasi diatas akan berbeda jika salah satu operasinya ada yang dikurung, karena akan dikerjakan duluan seperti berikut\n",
    "hasil_operasi_32 = a_32 ** b_32 * (c_32 + a_32) / b_32 - b_32 % c_32 // a_32\n",
    "print(hasil_operasi_32)"
   ]
  },
  {
   "cell_type": "code",
   "execution_count": 23,
   "id": "811ae0b3",
   "metadata": {},
   "outputs": [
    {
     "name": "stdout",
     "output_type": "stream",
     "text": [
      "\n",
      "PROGRAM KONVERSI TEMPERATURE CELCIUS\n",
      "\n",
      "Halo, Selamat Datang!\n",
      "Masukan suhu dalam celcius yang mau dikonversi : 15.5\n",
      "\n",
      "Baik. Suhu adalah 15.5 Celcius\n",
      "Suhu dalam reamur adalah 12.4 Reamur\n",
      "Suhu dalam fahrenheit adalah 59.900000000000006 Fahrenheit\n",
      "Suhu dalam kelvin adalah 288.5 Kelvin\n",
      "\n",
      "Terima kasih, Have a Nice Day!\n"
     ]
    }
   ],
   "source": [
    "#Latihan operasi matematika di python 1\n",
    "\n",
    "#Berikut akan dibuat program konversi satuan temperature dari celcius ke satuan lainnya\n",
    "print(\"\\nPROGRAM KONVERSI TEMPERATURE CELCIUS\\n\")\n",
    "print(\"Halo, Selamat Datang!\")\n",
    "celcius_32 = float(input(\"Masukan suhu dalam celcius yang mau dikonversi : \"))\n",
    "print(\"\\nBaik. Suhu adalah \" + str(celcius_32) + \" Celcius\")\n",
    "\n",
    "#Sekarang kita buat operasi untuk mengubah jadi reamur\n",
    "reamur_32 = (4/5) * celcius_32\n",
    "print(\"Suhu dalam reamur adalah \" + str(reamur_32) + \" Reamur\")\n",
    "\n",
    "#Sekarang kita buat operasi untuk mengubah jadi fahrenheit\n",
    "fahrenheit_32 = ((9/5) * celcius_32) + 32\n",
    "print(\"Suhu dalam fahrenheit adalah \" + str(fahrenheit_32) + \" Fahrenheit\")\n",
    "\n",
    "#Sekarang kita buat operasi untuk mengubah jadi kelvin\n",
    "kelvin_32 = celcius_32 + 273\n",
    "print(\"Suhu dalam kelvin adalah \" + str(kelvin_32) + \" Kelvin\")\n",
    "print(\"\\nTerima kasih, Have a Nice Day!\")"
   ]
  },
  {
   "cell_type": "code",
   "execution_count": 24,
   "id": "491ce060",
   "metadata": {},
   "outputs": [
    {
     "name": "stdout",
     "output_type": "stream",
     "text": [
      "== Program Menghitung Luas Persegi==\n",
      "\n",
      "Masukan panjang sisi persegi : 3\n",
      "Luas persegi adalah 9.0\n"
     ]
    }
   ],
   "source": [
    "#Program Menghitung Luas Persegi\n",
    "\n",
    "print(\"== Program Menghitung Luas Persegi==\\n\")\n",
    "\n",
    "sisi_32 = float(input(\"Masukan panjang sisi persegi : \"))\n",
    "L_persegi_32 = sisi_32**2\n",
    "print(f\"Luas persegi adalah {L_persegi_32}\")"
   ]
  },
  {
   "cell_type": "code",
   "execution_count": 25,
   "id": "d7f47212",
   "metadata": {},
   "outputs": [
    {
     "name": "stdout",
     "output_type": "stream",
     "text": [
      "== Program Menghitung Keliling Persegi Panjang==\n",
      "\n",
      "Masukan panjang persegi panjang : 4\n",
      "Masukan lebar persegi panjang : 5.5\n",
      "Luas persegi adalah 19.0\n"
     ]
    }
   ],
   "source": [
    "#Program Menghitung Keliling Persegi Panjang\n",
    "\n",
    "print(\"== Program Menghitung Keliling Persegi Panjang==\\n\")\n",
    "\n",
    "P_32 = float(input(\"Masukan panjang persegi panjang : \"))\n",
    "L_32 = float(input(\"Masukan lebar persegi panjang : \"))\n",
    "\n",
    "KLL_32 = 2*(P_32 + L_32)\n",
    "\n",
    "print(f\"Luas persegi adalah {KLL_32}\")"
   ]
  },
  {
   "cell_type": "code",
   "execution_count": 26,
   "id": "e90fd442",
   "metadata": {},
   "outputs": [
    {
     "name": "stdout",
     "output_type": "stream",
     "text": [
      "== Program Menghitung Luas Segitiga==\n",
      "\n",
      "Masukan panjang alas segitiga : 2\n",
      "Masukan panjang tinggi segitiga : 5\n",
      "Luas persegi adalah 5.0\n"
     ]
    }
   ],
   "source": [
    "#Program Menghitung Luas Segitiga\n",
    "\n",
    "print(\"== Program Menghitung Luas Segitiga==\\n\")\n",
    "\n",
    "alas_32 = float(input(\"Masukan panjang alas segitiga : \"))\n",
    "tinggi_32 = float(input(\"Masukan panjang tinggi segitiga : \"))\n",
    "\n",
    "L_segitiga_32 = (1/2)*alas_32*tinggi_32\n",
    "print(f\"Luas persegi adalah {L_segitiga_32}\")"
   ]
  },
  {
   "cell_type": "code",
   "execution_count": 27,
   "id": "f4ec62bf",
   "metadata": {},
   "outputs": [
    {
     "name": "stdout",
     "output_type": "stream",
     "text": [
      "== Program Menghitung Luas Lingkaran==\n",
      "\n",
      "Masukan panjang jari-jari lingkaran : 7\n",
      "Luas persegi adalah 153.86\n"
     ]
    }
   ],
   "source": [
    "#Program Menghitung Luas Lingkaran\n",
    "\n",
    "phi = 3.14\n",
    "print(\"== Program Menghitung Luas Lingkaran==\\n\")\n",
    "\n",
    "r_32 = float(input(\"Masukan panjang jari-jari lingkaran : \"))\n",
    "\n",
    "L_lingkaran_32 = 3.14 * (r_32**2)\n",
    "\n",
    "print(f\"Luas persegi adalah {L_lingkaran_32}\")"
   ]
  },
  {
   "cell_type": "markdown",
   "id": "8394fc52",
   "metadata": {},
   "source": [
    "# 5.8 Operator Perbandingan di Python\n",
    "\n",
    "Beberapa operator perbandingan pada Python adalah : Lebih besar (>), Lebih kecil (<), Lebih besar sama dengan (>=), Lebih kecil sama dengan (<=), Sama dengan (==), dan Tidak sama dengan (!=)."
   ]
  },
  {
   "cell_type": "code",
   "execution_count": 28,
   "id": "7d3d6598",
   "metadata": {},
   "outputs": [
    {
     "name": "stdout",
     "output_type": "stream",
     "text": [
      "True\n",
      "True\n",
      "True\n",
      "True\n",
      "True\n",
      "True\n",
      "\n",
      "Kita bandingkan hasil di atas dengan hasil di bawah berikut ini!!\n",
      "\n",
      "False\n",
      "False\n",
      "False\n",
      "False\n",
      "False\n",
      "False\n"
     ]
    }
   ],
   "source": [
    "X = 3>2\n",
    "print(X)\n",
    "X = 2<3\n",
    "print(X)\n",
    "X = 3>=2\n",
    "print(X)\n",
    "X = 2<=3\n",
    "print(X)\n",
    "X = 3==3\n",
    "print(X)\n",
    "X = 3!=5\n",
    "print(X)\n",
    "\n",
    "print(\"\\nKita bandingkan hasil di atas dengan hasil di bawah berikut ini!!\\n\")\n",
    "\n",
    "X = 3<2\n",
    "print(X)\n",
    "X = 2>3\n",
    "print(X)\n",
    "X = 3<=2\n",
    "print(X)\n",
    "X = 2>=3\n",
    "print(X)\n",
    "X = 3==5\n",
    "print(X)\n",
    "X = 3!=3\n",
    "print(X)"
   ]
  },
  {
   "cell_type": "code",
   "execution_count": 29,
   "id": "03688dbd",
   "metadata": {},
   "outputs": [
    {
     "name": "stdout",
     "output_type": "stream",
     "text": [
      "False\n",
      "-1\n"
     ]
    }
   ],
   "source": [
    "a_32 = 4>5.1\n",
    "print(a_32)\n",
    "print(~a_32) #-1 artinya false"
   ]
  },
  {
   "cell_type": "code",
   "execution_count": 30,
   "id": "36571caf",
   "metadata": {},
   "outputs": [
    {
     "name": "stdout",
     "output_type": "stream",
     "text": [
      "True\n",
      "-2\n"
     ]
    }
   ],
   "source": [
    "a_32 = 4<5.1\n",
    "print(a_32)\n",
    "print(~a_32) #-2 artinya true"
   ]
  },
  {
   "cell_type": "code",
   "execution_count": 31,
   "id": "c27e3ab9",
   "metadata": {},
   "outputs": [
    {
     "name": "stdout",
     "output_type": "stream",
     "text": [
      "True\n",
      "-2\n"
     ]
    }
   ],
   "source": [
    "a_32 = 4<=5.1\n",
    "print(a_32)\n",
    "print(~a_32)"
   ]
  },
  {
   "cell_type": "code",
   "execution_count": 32,
   "id": "cbd0d34d",
   "metadata": {},
   "outputs": [
    {
     "name": "stdout",
     "output_type": "stream",
     "text": [
      "False\n",
      "-1\n"
     ]
    }
   ],
   "source": [
    "a_32 = 4>=5.1\n",
    "print(a_32)\n",
    "print(~a_32)"
   ]
  },
  {
   "cell_type": "code",
   "execution_count": 33,
   "id": "6329e725",
   "metadata": {},
   "outputs": [
    {
     "name": "stdout",
     "output_type": "stream",
     "text": [
      "True\n",
      "-2\n"
     ]
    }
   ],
   "source": [
    "a_32 = 5==5.0\n",
    "print(a_32)\n",
    "print(~a_32)"
   ]
  },
  {
   "cell_type": "code",
   "execution_count": 34,
   "id": "b61f5634",
   "metadata": {},
   "outputs": [
    {
     "name": "stdout",
     "output_type": "stream",
     "text": [
      "False\n",
      "-1\n"
     ]
    }
   ],
   "source": [
    "a_32 = 1/2!=0.5\n",
    "print(a_32)\n",
    "print(~a_32)"
   ]
  },
  {
   "cell_type": "markdown",
   "id": "22a0a927",
   "metadata": {},
   "source": [
    "# 5.9 Operator Logika di Python\n",
    "Operator logika adalah operator yang digunakan untuk membuat kesimpulan logis dari 2 kondisi boolean: true atau false. Beberapa operator logika pada Python adalah and, or dan not. Operator not akan menghasilkan nilai berlawanan. Misalkan nilai variabel x adalah True, maka nilai dari not(x) adalah False."
   ]
  },
  {
   "cell_type": "code",
   "execution_count": 35,
   "id": "c07289ff",
   "metadata": {},
   "outputs": [
    {
     "name": "stdout",
     "output_type": "stream",
     "text": [
      "True\n",
      "True\n",
      "False\n",
      "False\n"
     ]
    }
   ],
   "source": [
    "#Contoh penggunaan operator logika\n",
    "\n",
    "Mari = 165\n",
    "Mirna = 170\n",
    "Diana = 173\n",
    "Dika = 159\n",
    "\n",
    "print(Mari > 150 or Mirna < 180) #hasil operasi : true or true, maka true\n",
    "print(Mari > 150 or Mirna < Mari) #hasil operasi : true or false, maka true\n",
    "print(Mari > Diana and Mirna < Mari) #hasil operasi : false and false, maka false\n",
    "print(not(Mari > 150 or Mirna < Mari)) #hasil operasi : not(true), maka false"
   ]
  },
  {
   "cell_type": "code",
   "execution_count": 36,
   "id": "0088f60b",
   "metadata": {},
   "outputs": [
    {
     "name": "stdout",
     "output_type": "stream",
     "text": [
      "Hasil dari True and True   : True\n",
      "Hasil dari True and False  : False\n",
      "Hasil dari False and True  : False\n",
      "Hasil dari False and False : False\n",
      "\n",
      "\n",
      "Hasil dari True or True   : True\n",
      "Hasil dari True or False  : True\n",
      "Hasil dari False or True  : True\n",
      "Hasil dari False or False : False\n",
      "\n",
      "\n",
      "Hasil dari not True  : False\n",
      "Hasil dari not False : True\n"
     ]
    }
   ],
   "source": [
    "#percobaan penggunaan operator logika dan sebagai pengingat rumus and or\n",
    "\n",
    "print('Hasil dari True and True   :', True and True)\n",
    "print('Hasil dari True and False  :', True and False)\n",
    "print('Hasil dari False and True  :', False and True)\n",
    "print('Hasil dari False and False :', False and False)\n",
    "\n",
    "print('\\n')\n",
    "\n",
    "print('Hasil dari True or True   :', True or True)\n",
    "print('Hasil dari True or False  :', True or False)\n",
    "print('Hasil dari False or True  :', False or True)\n",
    "print('Hasil dari False or False :', False or False)\n",
    "\n",
    "print('\\n')\n",
    "\n",
    "print('Hasil dari not True  :', not True)\n",
    "print('Hasil dari not False :', not False)"
   ]
  },
  {
   "cell_type": "code",
   "execution_count": 37,
   "id": "481c8e47",
   "metadata": {},
   "outputs": [
    {
     "name": "stdout",
     "output_type": "stream",
     "text": [
      "False\n",
      "True\n",
      "False\n"
     ]
    }
   ],
   "source": [
    "#percobaan penggunaan operator logika 2\n",
    "\n",
    "hasil_32 = (11>10) and (11>=15)\n",
    "print(hasil_32)\n",
    "\n",
    "hasil_32 = (11>10) or (\"KitaBisa\" == \"kitaBisa\")\n",
    "print(hasil_32)\n",
    "\n",
    "hasil_32 = (\"KitaBisa\" == \"kitaBisa\") and (5 == 5.0) or ((7+5) == 11)\n",
    "'''\n",
    "   pada operasi diatas, operasi (\"KitaBisa\" == \"kitaBisa\") and (5 != 5.0) akan diproses jadi (false and true) or false,\n",
    "   kemudian baru menjadi false or false, sehingga hasilnya false.\n",
    "'''\n",
    "print(hasil_32)"
   ]
  },
  {
   "cell_type": "markdown",
   "id": "a849bf1d",
   "metadata": {},
   "source": [
    "# 5.10 Operator if di Python\n",
    "\n",
    "Operator if akan dijalankan apabila nilai variabel yang dijalankan adalah True,\n",
    "sedangkan kalau nilainya adalah False, maka tidak akan dijalankan."
   ]
  },
  {
   "cell_type": "code",
   "execution_count": 38,
   "id": "9d189f25",
   "metadata": {},
   "outputs": [
    {
     "name": "stdout",
     "output_type": "stream",
     "text": [
      "Nilai anda adalah : 90\n",
      "Anda mendapatkan nilai A\n",
      "Bagus sekali, selamat!\n"
     ]
    }
   ],
   "source": [
    "#Berikut ini adalah program yang menggunakan operator if untuk menentukan predikat dari nilai mahasiswa\n",
    "\n",
    "nilai_32 = float(input(\"Nilai anda adalah : \"))\n",
    "if nilai_32 >= 80:\n",
    "    print(\"Anda mendapatkan nilai A\")\n",
    "    print(\"Bagus sekali, selamat!\")\n",
    "if nilai_32 < 80 and nilai_32 >= 70:\n",
    "    print(\"Anda mendapatkan nilai B\")\n",
    "    print(\"Tingkatkan prestasimu!\")\n",
    "if nilai_32 >= 60 and nilai_32 < 70:\n",
    "    print(\"Anda mendapatkan nilai C\")\n",
    "    print(\"Lain kali harus lebih baik yaa!\")\n",
    "if nilai_32 >= 50 and nilai_32 < 60:\n",
    "    print(\"Anda mendapatkan nilai D\")\n",
    "    print(\"Ulang lagi tahun depan ya!\")\n",
    "if nilai_32 < 50:\n",
    "    print(\"Anda mendapatkan nilai E\")\n",
    "    print(\"Sampai jumpa tahun depan!\")"
   ]
  },
  {
   "cell_type": "code",
   "execution_count": 39,
   "id": "e3c30234",
   "metadata": {},
   "outputs": [
    {
     "name": "stdout",
     "output_type": "stream",
     "text": [
      "Nilai anda adalah : 75\n",
      "Anda mendapatkan nilai B\n",
      "Tingkatkan prestasimu!\n"
     ]
    }
   ],
   "source": [
    "#Berikut ini adalah program yang menggunakan percabangan if..elif..else untuk menentukan predikat dari nilai mahasiswa\n",
    "\n",
    "nilai_32 = float(input(\"Nilai anda adalah : \"))\n",
    "if nilai_32 >= 80:\n",
    "    print(\"Anda mendapatkan nilai A\")\n",
    "    print(\"Bagus sekali, selamat!\")\n",
    "elif nilai_32 >= 70:\n",
    "    print(\"Anda mendapatkan nilai B\")\n",
    "    print(\"Tingkatkan prestasimu!\")\n",
    "elif nilai_32 >= 60:\n",
    "    print(\"Anda mendapatkan nilai C\")\n",
    "    print(\"Lain kali harus lebih baik yaa!\")\n",
    "elif nilai_32 >= 50:\n",
    "    print(\"Anda mendapatkan nilai D\")\n",
    "    print(\"Ulang lagi tahun depan ya!\")\n",
    "else:\n",
    "    print(\"Anda mendapatkan nilai E\")\n",
    "    print(\"Sampai jumpa tahun depan!\")"
   ]
  },
  {
   "cell_type": "code",
   "execution_count": 40,
   "id": "edc47024",
   "metadata": {},
   "outputs": [
    {
     "name": "stdout",
     "output_type": "stream",
     "text": [
      "Berapakah tinggi anda? : 165\n",
      "Tingginya dalam cm atau inci? : cm\n",
      "Tinggi anda adalah 64.960665 inci\n"
     ]
    }
   ],
   "source": [
    "#Berikut adalah program yang merubah tinggi badan seseorang dari cm ke inci atau sebaliknya dari inci ke cm\n",
    "\n",
    "#ingat saat menginput tinggi, langsung ubah tipe data nya jadi float, agar saat dikali tidak error nanti \n",
    "tinggi_32 = float(input(\"Berapakah tinggi anda? : \"))\n",
    "cm_or_inci_32 = input(\"Tingginya dalam cm atau inci? : \")\n",
    "\n",
    "#Dikarenakan saat proses input ke2, user dapat mengetik dengan cara berbeda beda, cm, Cm, maupun CM, maka kita perlu seragamkan hasil inputan tadi agar program tidak error\n",
    "#Dapat diseragamkan baik dengan methoda namavariabel.lower() ataupun namavariabel.upper()\n",
    "if cm_or_inci_32.upper() == \"CM\":\n",
    "#Untuk mengubah dari cm ke inci yaitu dikali 0.393701, karena 1 cm = 0.393701 inci\n",
    "    tinggi_32 = tinggi_32*0.393701\n",
    "#sebelum dicetak ingat diubah lagi tipe tinggi_32 menjadi str agar tidak error\n",
    "    print(\"Tinggi anda adalah \" + str(tinggi_32) + \" inci\")\n",
    "elif cm_or_inci_32.upper() == \"INCI\":\n",
    "#Maka sebaliknya, untuk ubah inci ke cm, bagi data yg dinput dengan 0.393701\n",
    "    tinggi_32 = tinggi_32/0.393701\n",
    "#Print juga dapat menggunakan formatted string seperti minggu lalu\n",
    "    print(f\"Tinggi anda adalah {tinggi_32} cm\")"
   ]
  },
  {
   "cell_type": "code",
   "execution_count": 41,
   "id": "2ca8acfb",
   "metadata": {},
   "outputs": [
    {
     "name": "stdout",
     "output_type": "stream",
     "text": [
      "Masukan nama sayuran yang dicari : SAWI\n",
      "Sayuran yang anda cari tersedia!\n"
     ]
    }
   ],
   "source": [
    "#Berikut adalah percobaan untuk menggunakan operator if dan operator keanggotaan in\n",
    "\n",
    "sayuran_yang_tersedia_32 = ['kangkung', 'sawi', 'bayam']\n",
    "sayuran_yang_dicari_32 = input(\"Masukan nama sayuran yang dicari : \")\n",
    "\n",
    "if (sayuran_yang_dicari_32.lower() in sayuran_yang_tersedia_32):\n",
    "    print(\"Sayuran yang anda cari tersedia!\")\n",
    "else:\n",
    "    print(\"Sayuran yang anda cari tidak tersedia!\")"
   ]
  },
  {
   "cell_type": "code",
   "execution_count": 43,
   "id": "f4aa779f",
   "metadata": {},
   "outputs": [
    {
     "name": "stdout",
     "output_type": "stream",
     "text": [
      "Masukkan nilai: 80\n",
      "Anda LULUS\n"
     ]
    }
   ],
   "source": [
    "#Berikut contoh percabangan satu baris\n",
    "\n",
    "UAS_32 = int(input('Masukkan nilai: '))\n",
    "kondisi_32 = 'Anda LULUS' if UAS_32 >= 73 else 'Anda Tidak Lulus'\n",
    "\n",
    "print(kondisi_32)\n",
    "\n",
    "\n",
    "#Kode program di atas merupakan shorcut untuk kode program di bawah ini\n",
    "#if UAS_32 >= 73:\n",
    "   #kondisi_32 = 'Anda LULUS'\n",
    "#else:\n",
    "   #kondisi_32 = 'Anda Tidak Lulus'\n",
    "\n",
    "#print(kondisi_32)"
   ]
  },
  {
   "cell_type": "code",
   "execution_count": 44,
   "id": "62a1683e",
   "metadata": {},
   "outputs": [
    {
     "name": "stdout",
     "output_type": "stream",
     "text": [
      "Masukan bilangan : 7\n",
      "7 adalah bilangan ganjil\n"
     ]
    }
   ],
   "source": [
    "#Berikut program untuk menentukan bilangan genap atau ganjil\n",
    "\n",
    "bil_32 = int(input(\"Masukan bilangan : \"))\n",
    "print(str(bil_32) + \" adalah bilangan \" + (\"genap\" if (bil_32 % 2 == 0) else \"ganjil\"))"
   ]
  },
  {
   "cell_type": "code",
   "execution_count": 45,
   "id": "a46736ce",
   "metadata": {},
   "outputs": [
    {
     "name": "stdout",
     "output_type": "stream",
     "text": [
      "--------------------\n",
      "KALKULATOR SEDERHANA\n",
      "--------------------\n",
      "\n",
      "Masukan bilangan pertama = 8\n",
      "Pilih operator (+,-,*,/) : *\n",
      "Masukan bilangan kedua = 6\n",
      "hasil operasi tersebut adalah 48.0\n"
     ]
    }
   ],
   "source": [
    "#Berikut akan dicoba membuat program kalkulator yang sederhana\n",
    "\n",
    "print(20*\"-\")\n",
    "print(\"KALKULATOR SEDERHANA\")\n",
    "print(20*\"-\" + \"\\n\")\n",
    "\n",
    "#proses input\n",
    "BIL1_32 = float(input(\"Masukan bilangan pertama = \"))\n",
    "Operator_32 = input(\"Pilih operator (+,-,*,/) : \")\n",
    "BIL2_32 = float(input(\"Masukan bilangan kedua = \"))\n",
    "\n",
    "#Sekarang kita buat percabangannya\n",
    "if Operator_32 == \"+\" :\n",
    "    hasilnya_32 = BIL1_32 + BIL2_32\n",
    "    print(f\"hasil operasi tersebut adalah {hasilnya_32}\")\n",
    "elif Operator_32 == \"-\" :\n",
    "    hasilnya_32 = BIL1_32 - BIL2_32\n",
    "    print(f\"hasil operasi tersebut adalah {hasilnya_32}\")\n",
    "elif Operator_32 == \"*\" :\n",
    "    hasilnya_32 = BIL1_32 * BIL2_32\n",
    "    print(f\"hasil operasi tersebut adalah {hasilnya_32}\")\n",
    "elif Operator_32 == \"/\" :\n",
    "    hasilnya_32 = BIL1_32 / BIL2_32\n",
    "    print(f\"hasil operasi tersebut adalah {hasilnya_32}\")\n",
    "else :\n",
    "    print(\"Maaf, operator kalkulator yang anda masukan tidak tersedia!\")"
   ]
  },
  {
   "cell_type": "code",
   "execution_count": 46,
   "id": "c88a9762",
   "metadata": {},
   "outputs": [
    {
     "name": "stdout",
     "output_type": "stream",
     "text": [
      "=============================\n",
      "Program Hitung Potongan Harga\n",
      "=============================\n",
      "\n",
      "Total belanja anda : Rp.1500000\n",
      "Selamat! Anda mendapat diskon 30%\n",
      "Total harga yang harus anda bayar sebesar : Rp.1050000.0\n",
      "Terima kasih sudah berbelanja di toko kami!\n"
     ]
    }
   ],
   "source": [
    "#Berikut akan dicoba membuat program menghitung diskon potongan harga\n",
    "\n",
    "print(29*\"=\")\n",
    "print(\"Program Hitung Potongan Harga\")\n",
    "print(29*\"=\" + \"\\n\")\n",
    "\n",
    "total_shopping_32 = int(input(\"Total belanja anda : Rp.\"))\n",
    "\n",
    "if (total_shopping_32 >= 200000) and (total_shopping_32 < 500000) :\n",
    "    tagihan_akhir_32 = total_shopping_32 - (0.1*total_shopping_32)\n",
    "    print(\"Selamat! Anda mendapat diskon 10%\")\n",
    "elif (total_shopping_32 >= 500000) and (total_shopping_32 < 1000000) :\n",
    "    tagihan_akhir_32 = total_shopping_32 - (0.2*total_shopping_32)\n",
    "    print(\"Selamat! Anda mendapat diskon 20%\")\n",
    "elif (total_shopping_32 >= 1000000) :\n",
    "    tagihan_akhir_32 = total_shopping_32 - (0.3*total_shopping_32)\n",
    "    print(\"Selamat! Anda mendapat diskon 30%\")\n",
    "else :\n",
    "    tagihan_akhir_32 = total_shopping_32\n",
    "\n",
    "print(f\"Total harga yang harus anda bayar sebesar : Rp.{tagihan_akhir_32}\")\n",
    "print(\"Terima kasih sudah berbelanja di toko kami!\")"
   ]
  },
  {
   "cell_type": "code",
   "execution_count": null,
   "id": "232ef112",
   "metadata": {},
   "outputs": [],
   "source": []
  }
 ],
 "metadata": {
  "kernelspec": {
   "display_name": "Python 3 (ipykernel)",
   "language": "python",
   "name": "python3"
  },
  "language_info": {
   "codemirror_mode": {
    "name": "ipython",
    "version": 3
   },
   "file_extension": ".py",
   "mimetype": "text/x-python",
   "name": "python",
   "nbconvert_exporter": "python",
   "pygments_lexer": "ipython3",
   "version": "3.9.13"
  }
 },
 "nbformat": 4,
 "nbformat_minor": 5
}
