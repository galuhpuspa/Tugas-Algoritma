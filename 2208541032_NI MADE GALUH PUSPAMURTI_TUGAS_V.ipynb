{
 "cells": [
  {
   "cell_type": "markdown",
   "id": "3c1ac0c1",
   "metadata": {},
   "source": [
    "# 5.16 List 2 Dimensi"
   ]
  },
  {
   "cell_type": "markdown",
   "id": "b244bee6",
   "metadata": {},
   "source": [
    "List 2 dimensi pada umumnya adalah menempatkan sebuah list di dalam list."
   ]
  },
  {
   "cell_type": "code",
   "execution_count": null,
   "id": "c6967fb8",
   "metadata": {},
   "outputs": [],
   "source": [
    "#Contoh penerapan list 2 dimensi\n",
    "\n",
    "matriks_32 = [\n",
    "    [1,2,3,4],\n",
    "    [5,6,7,8],\n",
    "    [9,10,11,12],\n",
    "    [13,14,15,16]\n",
    "]\n",
    "\n",
    "#mencetak list 2 dimensi\n",
    "print(matriks_32)"
   ]
  },
  {
   "cell_type": "code",
   "execution_count": null,
   "id": "4eb070d4",
   "metadata": {},
   "outputs": [],
   "source": [
    "#mencetak list dengan index 1 pada list 2 dimensi matriks_32\n",
    "#atau kalau kita anggap itu sebagai matrik, kita cetak baris 2\n",
    "\n",
    "matriks_32[1]"
   ]
  },
  {
   "cell_type": "code",
   "execution_count": null,
   "id": "85aa4dc7",
   "metadata": {},
   "outputs": [],
   "source": [
    "#Jika kita anggap list tersebut sebagai matriks, maka akan dicetak elemen pada baris 2 dan kolom ke 3\n",
    "\n",
    "matriks_32[1][2]"
   ]
  },
  {
   "cell_type": "code",
   "execution_count": null,
   "id": "8736fa63",
   "metadata": {},
   "outputs": [],
   "source": [
    "#slicing list 2 dimensi : untuk mengaksek isi list dengan range index tertentu\n",
    "\n",
    "akseslist = [\n",
    "    ['a','b','c'],\n",
    "    ['d','e','f'],\n",
    "    ['g','h','i'],\n",
    "    ['j','k','l']\n",
    "]\n",
    "n = akseslist[1:3] #index 1 sampai 3, tapi elemen 3 tidak tercetak\n",
    "print(n)\n",
    "p = akseslist[:1] #index 0 sampai 1, tapi elemen 1 tidak tercetak\n",
    "print(p)"
   ]
  },
  {
   "cell_type": "code",
   "execution_count": null,
   "id": "d7faa812",
   "metadata": {},
   "outputs": [],
   "source": [
    "#mengubah nilai elemen baris ke dua kolom ke tiga pada matriks_32\n",
    "\n",
    "matriks_32[1][2]=100\n",
    "print(matriks_32[1][2])\n",
    "print(matriks_32)"
   ]
  },
  {
   "cell_type": "code",
   "execution_count": null,
   "id": "32ca234f",
   "metadata": {},
   "outputs": [],
   "source": [
    "#mengubah element di list 2d\n",
    "updatelist = [\n",
    "    [1,1,1,1],\n",
    "    [12,12,12,12]\n",
    "]\n",
    "print(\"List sebelum mengupdate element: \")\n",
    "print(updatelist)\n",
    " \n",
    "updatelist[0] = [10,8]\n",
    "updatelist[1][1] = 9\n",
    "print(\"List setelah mengupdate element: \")\n",
    "for x in updatelist:\n",
    "    for y in x:\n",
    "        print(y,end = \" \")\n",
    "    print()"
   ]
  },
  {
   "cell_type": "code",
   "execution_count": null,
   "id": "175e6185",
   "metadata": {},
   "outputs": [],
   "source": [
    "#coba cetak matriks yang sudah diubah nilai salah satu elemennya tadi\n",
    "\n",
    "matriks_32"
   ]
  },
  {
   "cell_type": "code",
   "execution_count": null,
   "id": "b166487d",
   "metadata": {},
   "outputs": [],
   "source": [
    "#Cara mencetak anggota dari list 2 dimensi dengan bantuan loop\n",
    "\n",
    "for baris in matriks_32:\n",
    "    print(baris)\n",
    "    for kolom in baris:\n",
    "        print(kolom)"
   ]
  },
  {
   "cell_type": "code",
   "execution_count": null,
   "id": "11002490",
   "metadata": {},
   "outputs": [],
   "source": [
    "#mencetak list 2 dimensi\n",
    "for i in range(len(matriks_32)) : \n",
    "    for j in range(len(matriks_32[i])) : \n",
    "        print(matriks_32[i][j], end=\" \")\n",
    "    print() "
   ]
  },
  {
   "cell_type": "code",
   "execution_count": null,
   "id": "1384ae99",
   "metadata": {},
   "outputs": [],
   "source": [
    "#Metode pada list multidimensi\n",
    "\n",
    "#append(): untuk menambahkan element pada akhir list\n",
    "kelipatan_32 = [[2, 4, 6, 8, 10], [3, 6, 9, 12, 15], [4, 8, 12, 16, 20]]\n",
    "kelipatan_32.append([5, 10, 15, 20, 25])\n",
    "print(kelipatan_32)"
   ]
  },
  {
   "cell_type": "code",
   "execution_count": null,
   "id": "10c51b3c",
   "metadata": {},
   "outputs": [],
   "source": [
    "#insert() : untuk menyisipkan elemen ke list 2D dengan menentukan indeks elemen yang mau disisipkan\n",
    "\n",
    "inputlist = [\n",
    "    [1,1,1,1],\n",
    "    [12,12,12,12]\n",
    "]\n",
    "print(\"List sebelum dilakukan insert elemen : \")\n",
    "print(inputlist)\n",
    " \n",
    "inputlist.insert(1, [1,3,5,7,9])\n",
    "print(\"List setelah dilakukan insert elemen : \")\n",
    "for x in inputlist:\n",
    "    for y in x:\n",
    "        print(y,end = \" \")\n",
    "    print()"
   ]
  },
  {
   "cell_type": "code",
   "execution_count": null,
   "id": "1bb459be",
   "metadata": {},
   "outputs": [],
   "source": [
    "#extend() : untuk menambahkan elemen ke dalam list yang beradan pada list multidimensi\n",
    "\n",
    "extend_32 = [[2, 4, 6, 8, 10], [3, 6, 9, 12, 15], [4, 8, 12, 16, 20]]\n",
    "extend_32[1].extend([18, 21, 24, 27])\n",
    "print(extend_32)"
   ]
  },
  {
   "cell_type": "code",
   "execution_count": null,
   "id": "92a4245b",
   "metadata": {},
   "outputs": [],
   "source": [
    "#reverse() : untuk membalikkan urutan list\n",
    "\n",
    "terbalik_32 = [[2, 4, 6, 8, 10], [3, 6, 9, 12, 15], [4, 8, 12, 16, 20]]\n",
    "terbalik_32[1].reverse()\n",
    "print(terbalik_32)"
   ]
  },
  {
   "cell_type": "code",
   "execution_count": null,
   "id": "782a49de",
   "metadata": {},
   "outputs": [],
   "source": [
    "#del() : untuk menghapus element list 2d\n",
    "\n",
    "deletelist = [[1,1,1,1], [12,12,12,12], [0,2]]\n",
    "print(\"List sebelum ada elemen yang dihapus: \")\n",
    "print(deletelist)\n",
    " \n",
    "del(deletelist[1])\n",
    "print(\"List setelah ada elemen yang dihapus: \")\n",
    "for x in deletelist:\n",
    "    for y in x:\n",
    "        print(y,end = \" \")\n",
    "    print()"
   ]
  },
  {
   "cell_type": "code",
   "execution_count": null,
   "id": "df6e330b",
   "metadata": {},
   "outputs": [],
   "source": [
    "#len() : untuk mengecek ukuran list 2d\n",
    "\n",
    "ukuranlist = [\n",
    "    [3,5,7],\n",
    "    [0,2,4,6],\n",
    "    [1,4,8,12]\n",
    "]\n",
    "print(len(ukuranlist))"
   ]
  },
  {
   "cell_type": "code",
   "execution_count": null,
   "id": "d5f52f35",
   "metadata": {},
   "outputs": [],
   "source": [
    "#Penjumlahan Matriks\n",
    "\n",
    "#Masing - masing matriks kita akses setiap elemennya pada letak baris dan kolom yang sama,\n",
    "#kemudian kita jumlahkan untuk mendapatkan elemen baru\n",
    "\n",
    "matrik1_32 = [\n",
    "    [1,2],\n",
    "    [3,4]\n",
    "]\n",
    "matrik2_32 = [\n",
    "    [5,6],\n",
    "    [7,8]\n",
    "]\n",
    "for x in range(0,len(matrik1_32)):\n",
    "    for y in range(0, len(matrik1_32[0])):\n",
    "        print (matrik1_32[x][y] + matrik2_32[x][y], end=' ')\n",
    "    print()\n"
   ]
  },
  {
   "cell_type": "markdown",
   "id": "83cd54f3",
   "metadata": {},
   "source": [
    "# 5.17 Tuples"
   ]
  },
  {
   "cell_type": "markdown",
   "id": "53479907",
   "metadata": {},
   "source": [
    "Tuples mirip dengan list, akan tetapi tuples tidak dapat dirubah isinya. Jika kita memiliki data yang tidak ingin dirubah isinya, kita gunakan tuples, sedangkan jika datanya masih ingin dimanipulasi kedepannya, gunakan list."
   ]
  },
  {
   "cell_type": "code",
   "execution_count": null,
   "id": "37c1e172",
   "metadata": {},
   "outputs": [],
   "source": [
    "#Membuat tuples\n",
    "\n",
    "#cara standar\n",
    "angka_32 = (0,1,1,3,4,5)\n",
    "print(type(angka_32))\n",
    "\n",
    "# tanpa kurung\n",
    "tuple_pendidikan = 'SD', 'SMP', 'SMA'\n",
    "print(type(tuple_pendidikan))\n",
    "\n",
    "# menggunakan fungsi tuple() dan melemparkan list sebagai parameternya\n",
    "tuple_warna = tuple(['merah', 'putih'])\n",
    "print(type(tuple_warna))"
   ]
  },
  {
   "cell_type": "code",
   "execution_count": null,
   "id": "76736954",
   "metadata": {},
   "outputs": [],
   "source": [
    "#Membuat Tuple yang hanya berisi satu item\n",
    "#Untuk mendefinisikan tuple yang hanya berisi satu item, tetap diharuskan menulis tanda koma\n",
    "\n",
    "TupleSingle = (\"satu\",)\n",
    "TupleSingle_salah = (\"satu\")\n",
    "\n",
    "#coba cek tipe data nya\n",
    "print(type(TupleSingle))\n",
    "print(type(TupleSingle_salah)) #output dianggap menjadi str biasa\n",
    "#Jika tidak dituliskan tanda koma, maka tanda kurungnya dianggap tidak ada"
   ]
  },
  {
   "cell_type": "code",
   "execution_count": null,
   "id": "09d6ccaa",
   "metadata": {},
   "outputs": [],
   "source": [
    "#mengakses nilai pada tuples dengan langsung definisikan indexnya\n",
    "\n",
    "print(angka_32[0])\n",
    "print(angka_32[-2])"
   ]
  },
  {
   "cell_type": "code",
   "execution_count": null,
   "id": "8ab8a4bf",
   "metadata": {},
   "outputs": [],
   "source": [
    "#slicing tuple : untuk memotong nilai dari sebuah tuple\n",
    "#perlu definisikan range index dengan pemisah :\n",
    "\n",
    "print(angka_32[0:3]) #index 0 sampai 3, tapi elemen 3 tidak tercetak"
   ]
  },
  {
   "cell_type": "code",
   "execution_count": null,
   "id": "426caad5",
   "metadata": {},
   "outputs": [],
   "source": [
    "#contoh slicing tuple \n",
    "\n",
    "tuple_benda = ('meja', 'kursi', 'papan', 'lemari')\n",
    "\n",
    "print(tuple_benda[0:1]) #index 0 dengan batas 1, index 1 tidak tercetak\n",
    "print(tuple_benda[0:2]) #index 0 dengan batas 2, index 2 tidak tercetak\n",
    "print(tuple_benda[1:3]) #index 1 dengan batas 3, index 3 tidak tercetak\n",
    "print(tuple_benda[0:-1]) #index 0 dengan batas -1, index -1 tidak tercetak\n",
    "print(tuple_benda[-1:-3]) #output nya kosong, tidak bisa range nya dari kanan ke kiri\n",
    "print(tuple_benda[-1:3]) #output nya kosong, tidak bisa range nya dari kanan ke kiri\n",
    "print(tuple_benda[-3:-1]) #index -3 dengan batas -1, index -1 tidak tercetak\n",
    "print()\n",
    "#contoh slicing tuple tanpa mendefinisikan batas sebelah kanan atau kiri\n",
    "print(tuple_benda[0:]) #mencetak element index 0 sampai element terakhir\n",
    "print(tuple_benda[1:]) #mencetak element index 1 sampai element terakhir\n",
    "print(tuple_benda[2:]) #mencetak element index 2 sampai element terakhir\n",
    "print(tuple_benda[3:]) #mencetak element index 3 sampai element terakhir\n",
    "print(tuple_benda[:0]) #output kosong krn tidak ada elemen sebelum index 0\n",
    "print(tuple_benda[:1]) #mencetak element index 0\n",
    "print(tuple_benda[:2]) #mencetak elemen index 0 sampai sebelum batas index 2\n",
    "print(tuple_benda[:3]) #mencetak elemen index 0 sampai sebelum batas index 3\n",
    "print(tuple_benda[:4]) #mencetak elemen semua element\n",
    "print(tuple_benda[:]) #mencetak elemen semua element"
   ]
  },
  {
   "cell_type": "code",
   "execution_count": null,
   "id": "7fb1ffc9",
   "metadata": {},
   "outputs": [],
   "source": [
    "#mencetak isi tuple dengan bantuan perulangan\n",
    "for isi in angka_32[0:3]:\n",
    "    print(isi)"
   ]
  },
  {
   "cell_type": "code",
   "execution_count": null,
   "id": "c822bb1a",
   "metadata": {},
   "outputs": [],
   "source": [
    "#Kita tidak bisa mengubah data pada tuple\n",
    "#jika berusaha mengubah maka hanya akan mendapatkan error\n",
    "\n",
    "#didefinisikan tuple_bunga\n",
    "tuple_bunga = ('mawar', 'melati', 'anggrek','mawar')\n",
    "#mencoba menyisipkan data baru pada urutan akhir tuple\n",
    "tuple_bunga.append('kemboja') #hasilnya error"
   ]
  },
  {
   "cell_type": "code",
   "execution_count": null,
   "id": "5ea9c2f9",
   "metadata": {},
   "outputs": [],
   "source": [
    "#count() : untuk mengetahui berapa kali suatu nilai tertentu pada tuple muncul\n",
    "\n",
    "tuple_bunga.count('mawar')"
   ]
  },
  {
   "cell_type": "code",
   "execution_count": null,
   "id": "9fca863f",
   "metadata": {},
   "outputs": [],
   "source": [
    "#index() : untuk mengetahui posisi suatu elemen pada tuple\n",
    "\n",
    "tuple_bunga.index('melati')"
   ]
  },
  {
   "cell_type": "code",
   "execution_count": null,
   "id": "02288c6c",
   "metadata": {},
   "outputs": [],
   "source": [
    "#Sequence Unpacking : untuk mengekstrak isi dari tuple ke dalam variabel-variabel tunggal secara berurutan\n",
    "\n",
    "mahasiswa = ('Galuh Puspa', 2208541032, 'A')\n",
    "\n",
    "# ekstrak data (sequence unpacking)\n",
    "nama, nim, kelas = mahasiswa\n",
    "\n",
    "# setiap variabel di atas akan memiliki nilai dari tiap isi tuple secara berurutan\n",
    "print('Nama  :', nama)\n",
    "print('NIM   :', nim)\n",
    "print('Kelas :', kelas)"
   ]
  },
  {
   "cell_type": "code",
   "execution_count": null,
   "id": "e2134e67",
   "metadata": {},
   "outputs": [],
   "source": [
    "#Menggabungkan dua buah tuple atau lebih (+)\n",
    "\n",
    "integer = (1,2,3,4,5)\n",
    "string = ('a','b','c')\n",
    "gabungan = integer + string\n",
    "print(gabungan)"
   ]
  },
  {
   "cell_type": "code",
   "execution_count": null,
   "id": "cc6a1577",
   "metadata": {},
   "outputs": [],
   "source": [
    "nilai = (100,24,75,94,87)\n",
    "\n",
    "#max() : mencari nilai paling besar dari sebuah tuple\n",
    "print(max(nilai))\n",
    "\n",
    "#min() : mencari nilai paling kecil dari sebuah tuple\n",
    "print(min(nilai))\n",
    "\n",
    "#len() : menghitung jumlah item pada tuple\n",
    "print(len(nilai))"
   ]
  },
  {
   "cell_type": "markdown",
   "id": "91ac3fda",
   "metadata": {},
   "source": [
    "# 5.18 Dictionaries"
   ]
  },
  {
   "cell_type": "markdown",
   "id": "a8f9c57c",
   "metadata": {},
   "source": [
    "Dictionaries adalah tipe data pada python yang berfungsi untuk menyimpan kumpulan data/nilai dengan pendekatan “key-value”. Dictionaries digunakan jika data nya terkait satu sama lain. Dictionary items memiliki 3 sifat, yaitu:\n",
    "   1. Unordered  --> tidak berurutan\n",
    "   2. Changeable --> kita bisa kita mengubah value yang telah kita masukkan ke dalam sebuah dictionary\n",
    "   3. Unique     --> tidak bisa menerima dua keys yang sama\n",
    ">- Berikut cara penulisan Dictionary di Python\n",
    ">- variabel_dict = {\"key\": \"value\" }"
   ]
  },
  {
   "cell_type": "code",
   "execution_count": null,
   "id": "9fc903e9",
   "metadata": {},
   "outputs": [],
   "source": [
    "#Cara membuat dictionary di Python\n",
    "\n",
    "\n",
    "#Cara Pertama\n",
    "#menggunakan tanda kurung kurawal\n",
    "data_orang_32 = {\n",
    "    \"nama\" : \"Ketut Dogler\",\n",
    "    \"umur\" : 12,\n",
    "    \"apakah_singel\" : False\n",
    "}\n",
    "\n",
    "#Cara Kedua\n",
    "#menggunakan fungsi dict()\n",
    "pasien = dict(\n",
    "    name = \"Kang Haneul\",\n",
    "    room = 20.5,\n",
    "    case = \"Dengue fever\"\n",
    ")"
   ]
  },
  {
   "cell_type": "code",
   "execution_count": null,
   "id": "2507642f",
   "metadata": {},
   "outputs": [],
   "source": [
    "#Cara Mengakses Item pada Dictionary\n",
    "\n",
    "#Ada 2 cara mengakses item pada dictionary:\n",
    "    #1 dengan menggunakan kurung siku ([])\n",
    "    #2 dengan menggunakan fungsi get()\n",
    "\n",
    "#Cara 1\n",
    "print(data_orang_32[\"nama\"])\n",
    "#Cara 2\n",
    "print(data_orang_32.get(\"nama\"))\n",
    "print(pasien.get(\"room\"))"
   ]
  },
  {
   "cell_type": "code",
   "execution_count": null,
   "id": "d405806a",
   "metadata": {},
   "outputs": [],
   "source": [
    "print(data_orang_32[\"Nama\"]) #case-sensitive, key tidak ditemukan, sehingga error"
   ]
  },
  {
   "cell_type": "code",
   "execution_count": null,
   "id": "5f362b52",
   "metadata": {},
   "outputs": [],
   "source": [
    "#keunggulan menggunakan fungsi get()\n",
    "\n",
    "#Dibandingkan menggunakan ([]) seperti contoh diatas, dengan menggunakan fungsi get(), jika key tidak ditemukan, maka sistem dapat dicegah untuk menampilkan error\n",
    "print(data_orang_32.get(\"Nama\"))\n"
   ]
  },
  {
   "cell_type": "code",
   "execution_count": null,
   "id": "aa4016bd",
   "metadata": {},
   "outputs": [],
   "source": [
    "#keunggulan menggunakan fungsi get()\n",
    "\n",
    "print(data_orang_32.get(\"tanggal_lahir\"))"
   ]
  },
  {
   "cell_type": "code",
   "execution_count": null,
   "id": "3a50f056",
   "metadata": {},
   "outputs": [],
   "source": [
    "#keunggulan menggunakan fungsi get()\n",
    "#yakni kita bisa mengatur nilai default jika key pada dictionary yang kita panggil tidak ditemukan. Hal itu untuk mencegah sistem untuk menampilkan error.\n",
    "\n",
    "print(data_orang_32.get(\"tanggal_lahir\", \"2-2-2010\")) #mengatur nilai yang akan ditampilkan yakni 2-2-2010"
   ]
  },
  {
   "cell_type": "code",
   "execution_count": null,
   "id": "673e39b2",
   "metadata": {},
   "outputs": [],
   "source": [
    "#menampilkan dictionary\n",
    "\n",
    "print(data_orang_32)\n",
    "#pada output, tampak key dan value dari tanggal_lahir yang kita atur sebelumnya, tidak tercetak\n",
    "print(pasien)"
   ]
  },
  {
   "cell_type": "code",
   "execution_count": null,
   "id": "bef0be67",
   "metadata": {},
   "outputs": [],
   "source": [
    "#Walaupun sebelumnya kita telah mengatur nilai key tanggal_lahir dengan fungsi get(), nilainya hanya berlaku sementara\n",
    "#jadi jika kita panggil di cell lain, akan kembali error\n",
    "\n",
    "print(data_orang_32[\"tanggal_Lahir\"])"
   ]
  },
  {
   "cell_type": "code",
   "execution_count": null,
   "id": "27e86589",
   "metadata": {},
   "outputs": [],
   "source": [
    "#Cara menambah data di dictionary\n",
    "\n",
    "#cetak dictionary sebelum ditambahkan data baru\n",
    "print(data_orang_32)\n",
    "#tambahkan key \"HP\" dan value \"08123456789\"\n",
    "data_orang_32[\"HP\"] = \"08123456789\"\n",
    "#sekarang coba akses item baru tadi pada dictionary\n",
    "print(data_orang_32[\"HP\"])\n",
    "#cetak dictionary yang sudah ditambahkan data baru\n",
    "print(data_orang_32)"
   ]
  },
  {
   "cell_type": "code",
   "execution_count": null,
   "id": "c77a6de1",
   "metadata": {},
   "outputs": [],
   "source": [
    "#Cara 2 menambah data di dictionary dengan fungsi update()\n",
    "\n",
    "#cetak dictionary awal\n",
    "print(pasien)\n",
    "\n",
    "#fungsi update\n",
    "pasien.update({\"complete payment\" : True})\n",
    "\n",
    "#cetak dictionary terbaru\n",
    "print(pasien)"
   ]
  },
  {
   "cell_type": "code",
   "execution_count": null,
   "id": "4ac3b6be",
   "metadata": {},
   "outputs": [],
   "source": [
    "#Cara merubah value dari key pada dictionary\n",
    "\n",
    "#cetak dictionary\n",
    "print(pasien)\n",
    "\n",
    "#mengupdate value dari key 'room'\n",
    "pasien[\"room\"] = 276\n",
    "\n",
    "#cetak dictionary terbaru\n",
    "print(pasien)"
   ]
  },
  {
   "cell_type": "code",
   "execution_count": null,
   "id": "9b256b19",
   "metadata": {},
   "outputs": [],
   "source": [
    "#Cara menghapus item/data di dictionary, terdapat dua cara:\n",
    "    #1 Menggunakan statement del <dict[key]>\n",
    "    #2 Menggunakan fungsi dictionary.pop()\n",
    "\n",
    "#Cara 1 menghapus data dictionary dengan statement del <dict[key]>\n",
    "#Cetak dictionary awal\n",
    "print(\"dictionary pasien : \", pasien)\n",
    "#menghapus key \"complete payment\"\n",
    "del pasien[\"complete payment\"]\n",
    "#Cetak dictionary setelah key \"complete payment\" dihapus\n",
    "print(\"dictionary setelah key complete payment dihapus : \", pasien)"
   ]
  },
  {
   "cell_type": "code",
   "execution_count": null,
   "id": "fbd2dcc3",
   "metadata": {},
   "outputs": [],
   "source": [
    "#Cara 2 menghapus data dictionary dengan fungsi dictionary.pop()\n",
    "\n",
    "#kalau pakai fungsi pop(), kita bisa dapat nilai kembalian dari data yang telah dihapus.\n",
    "Haneul_SecretProject = {\n",
    "  \"HOPE\": \"Look at the distant sky!!\"\n",
    "}\n",
    "\n",
    "petunjuk = Haneul_SecretProject.pop('HOPE')\n",
    "\n",
    "# jika kita akses langsung dari dictionary\n",
    "# maka ouput: None\n",
    "print('Petunjuk yang muncul :', Haneul_SecretProject.get('HOPE'))\n",
    "\n",
    "# jika kita akses dari hasil kembalian yang telah disimpan\n",
    "print('Petunjuk yang muncul :', petunjuk)"
   ]
  },
  {
   "cell_type": "code",
   "execution_count": null,
   "id": "653ff346",
   "metadata": {},
   "outputs": [],
   "source": [
    "#Perulangan untuk Dictionary\n",
    "\n",
    "#Menampilkan semua isi dari sebuah dictionary dengan memanfaatkan perulangan\n",
    "\n",
    "MK = {\n",
    "    \"matkul\" : \"Struktur Aljabar\",\n",
    "    \"hari\" : \"Senin\",\n",
    "    \"kelas\" : \"GF. A\"\n",
    "}\n",
    "for key in MK :\n",
    "    print(key, \"\\t: \", MK[key])"
   ]
  },
  {
   "cell_type": "code",
   "execution_count": null,
   "id": "c1a078e5",
   "metadata": {},
   "outputs": [],
   "source": [
    "#operator untuk mengambil item/iterables \n",
    "keys = MK.keys()\n",
    "print(keys)\n",
    "\n",
    "#memanggil semua key dengan perulangan dan keys()\n",
    "for key in MK.keys():\n",
    "    print(key)\n",
    "\n",
    "print()\n",
    "#menampilkan semua value dictionary pakai fungsi get()\n",
    "for judul in MK :\n",
    "    print(MK.get(judul)) #output nya value nya aja\n",
    "\n",
    "print()\n",
    "#memanggil iterable dari value\n",
    "values = MK.values()\n",
    "print(values)\n",
    "\n",
    "#memanggil semua value dengan perulangan dan values()\n",
    "for values in MK.values():\n",
    "    print(values)"
   ]
  },
  {
   "cell_type": "code",
   "execution_count": null,
   "id": "e2be5737",
   "metadata": {},
   "outputs": [],
   "source": [
    "#Penggunaan fungsi dictionary.items()\n",
    "\n",
    "items = MK.items()\n",
    "print(items) #output berupa dict_items\n",
    "\n",
    "print()\n",
    "#panggil isi dari dict_items\n",
    "for items in MK.items():\n",
    "    print(items) #output berupa tuple-tuple\n",
    "\n",
    "print()\n",
    "#Menampilkan semua key dan value dari sebuah dictionary dengan fungsi dictionary.items()\n",
    "for item, nilai in MK.items() :\n",
    "    print(item, \"\\t: \", nilai)"
   ]
  },
  {
   "cell_type": "code",
   "execution_count": null,
   "id": "2f07aa77",
   "metadata": {},
   "outputs": [],
   "source": [
    "#memanfaatkan operator keanggotaan untuk tipe data dictionary pada python\n",
    "\n",
    "print(\"Apakah terdapat key matkul pada variabel MK?\")\n",
    "print(\"matkul\" in MK)\n",
    "\n",
    "print(\"Apakah tidak terdapat key jam pada variabel MK?\")\n",
    "print(\"jam\" not in MK)"
   ]
  },
  {
   "cell_type": "code",
   "execution_count": null,
   "id": "eb721343",
   "metadata": {},
   "outputs": [],
   "source": [
    "#menghitung Panjang atau jumlah Key Pada Dictionary\n",
    "#gunakan fungsi len()\n",
    "\n",
    "print(\"Jumlah key pada variabel MK yakni: \", len(MK))"
   ]
  },
  {
   "cell_type": "code",
   "execution_count": null,
   "id": "1827c73f",
   "metadata": {},
   "outputs": [],
   "source": [
    "#Method untuk enghapus semua elemen dictionary : clear()\n",
    "\n",
    "data_orang_32.clear()\n",
    "print(data_orang_32)"
   ]
  },
  {
   "cell_type": "code",
   "execution_count": null,
   "id": "45e2303b",
   "metadata": {},
   "outputs": [],
   "source": [
    "#Kita juga bisa menghapus keseluruh dictionary dengan del statement\n",
    "\n",
    "#hapus data_orang_32 dictionary\n",
    "del data_orang_32\n",
    "\n",
    "#jika kita coba print dictionary itu lagi\n",
    "print(data_orang_32)\n",
    "#Output : NameError: name 'data_orang_32' is not defined\n",
    "#Disini error karena kita udah hapus dictionary itu, data_orang_32' sudah tidak ada lagi"
   ]
  },
  {
   "cell_type": "code",
   "execution_count": null,
   "id": "389f201d",
   "metadata": {},
   "outputs": [],
   "source": [
    "#copy dictionary\n",
    "\n",
    "MakeUp = {\n",
    "    \"bedak\" : \"Luxcrime\",\n",
    "    \"lipstick\" : \"Barenbliss\",\n",
    "    \"foundation\" : \"Maybelline Fit me\",\n",
    "    \"blush on\" : \"Make Over\"\n",
    "}\n",
    "\n",
    "#cetak dictionary seperti biasa\n",
    "print(\"-- dictionary asli --\")\n",
    "isi = MakeUp\n",
    "print(f\"MakeUp : {MakeUp}\")\n",
    "print(f\"isi : {isi}\\n\")\n",
    "\n",
    "print(\"-- contoh output ilustrasi tanpa copy--\")\n",
    "#lalu, coba ubah value salah satu key nya\n",
    "MakeUp[\"lipstick\"] = \"Wardah\"\n",
    "#setelah kita ubah, coba cetak lagi seperti tadi \n",
    "print(f\"MakeUp : {MakeUp}\") #output nyaa : value lipstick berubah\n",
    "print(f\"isi : {isi}\\n\") #output nyaa : value lipstick berubah\n",
    "\n",
    "#sekarang kitaa coba balikin dulu ke semula\n",
    "MakeUp[\"lipstick\"] = \"Barenbliss\"\n",
    "\n",
    "print(\"-- contoh output jika kita memakai fungsi copy() --\")\n",
    "#gunakan fungsi copy()\n",
    "isi = MakeUp.copy()\n",
    "#kemudian kita ubah lagi value lipstick seperti tadi\n",
    "MakeUp[\"lipstick\"] = \"Wardah\"\n",
    "#sekarang cetak hasilnya kalau kita ada pakai fungsi copy() //perhatikan outputnya//\n",
    "print(f\"MakeUp : {MakeUp}\") #output nyaa : value lipstick berubah\n",
    "print(f\"isi : {isi}\\n\") #output nyaa : value lipstick tidak berubah, tetap \"lipstick\" = \"Barenbliss\"\n",
    "\n",
    "#ini karena, kalau kita tidak pakai copy, maka MakeUp dan isi akan ke reference yang sama\n",
    "#Jika ubah MakeUp maka isi juga berubah\n",
    "#namaun kalok pakai copy, mereka jadi 2 hal yang berbeda.\n",
    "#Dengan itu, jika kita ubah MakeUp, maka isi tetap sesuai bentuk dictionary yg dicopy "
   ]
  },
  {
   "cell_type": "code",
   "execution_count": null,
   "id": "06c166b7",
   "metadata": {},
   "outputs": [],
   "source": [
    "#Pop dictionary\n",
    "#untuk mentransfer items\n",
    "\n",
    "#mentransfer berdasarkan key\n",
    "DataBedak = isi.pop(\"bedak\")\n",
    "print(f\"Data bedak -> {DataBedak}\")\n",
    "print(f\"Isi -> {isi}\\n\") #outputnya : key bedak dan value nyaa sudah tidak ada\n",
    "\n",
    "#mentransfer item terakhir saja\n",
    "DataTerakhir = isi.popitem()\n",
    "print(f\"Data Terakhir -> {DataTerakhir}\")\n",
    "print(f\"Isi -> {isi}\\n\") #outputnya : items terakhir nyaa sudah tidak ada"
   ]
  },
  {
   "cell_type": "code",
   "execution_count": null,
   "id": "274bd782",
   "metadata": {},
   "outputs": [],
   "source": [
    "# program untuk merubah nomor HP yang tadinya berupa angka menjadi sebutan bilangan tersebut. Misalnya angka 0812 akan menjadi nol delapan satu dua.\n",
    "\n",
    "angka_32 = {\n",
    "    \"0\" : \"nol\",\n",
    "    \"1\" : \"satu\",\n",
    "    \"2\" : \"dua\",\n",
    "    \"3\" : \"tiga\",\n",
    "    \"4\" : \"empat\",\n",
    "    \"5\" : \"lima\",\n",
    "    \"6\" : \"enam\",\n",
    "    \"7\" : \"tujuh\",\n",
    "    \"8\" : \"delapan\",\n",
    "    \"9\" : \"sembilan\",\n",
    "}\n",
    "\n",
    "nomor_HP = input(\"Masukkan nomor HP anda \")\n",
    "nomor_angka = \"\"\n",
    "for isi in nomor_HP:\n",
    "    nomor_angka +=angka_32.get(isi) + \" \"\n",
    "print(nomor_angka)"
   ]
  },
  {
   "cell_type": "code",
   "execution_count": null,
   "id": "369d5a70",
   "metadata": {},
   "outputs": [],
   "source": [
    "#Multi keys & Nested Dictionary\n",
    "\n",
    "Anak1 = {\n",
    "    'nama' : \"Gede Eka Purnama Putra\",\n",
    "    'Pendidikan' : \"S1\"\n",
    "}\n",
    "Anak2 = {\n",
    "    'nama' : \"Ni Made Galuh Puspamurti\",\n",
    "    'Pendidikan' : \"S1\"\n",
    "}\n",
    "Anak3 = {\n",
    "    'nama' : \"I Nyoman Budiyadnya Wijaya\",\n",
    "    'Pendidikan' : \"SMA\"\n",
    "}\n",
    "\n",
    "#Nested dictionary -> dictionary di dalam dictionary\n",
    "data_anak = {\n",
    "    \"Anak Pertama\" : Anak1,\n",
    "    \"Anak Kedua\" : Anak2,\n",
    "    \"Anak Ketiga\" : Anak3\n",
    "}\n",
    "\n",
    "#akan dicetak data anak dengan format\n",
    "print(f\"{'KEY':^12} {'NAMA':^27} {'PENDIDIKAN':^14}\")\n",
    "print(\"=\"*55)\n",
    "for anak in data_anak :\n",
    "    KEY = anak\n",
    "    NAMA = data_anak[KEY]['nama']\n",
    "    PENDIDIKAN = data_anak[KEY]['Pendidikan']\n",
    "    print(f\"{KEY:<14} {NAMA:<27} {PENDIDIKAN:^10}\")"
   ]
  },
  {
   "cell_type": "code",
   "execution_count": null,
   "id": "267c1d29",
   "metadata": {},
   "outputs": [],
   "source": [
    "#Program Kasir Sederhana dengan dictionary\n",
    "\n",
    "menu = {\n",
    "    \"ramyeon\" : 25000,\n",
    "    \"bibimmen\" : 18000,\n",
    "    \"mandu\" : 6000,\n",
    "    \"kimbab\" :39000,\n",
    "    \"sikhae\" : 10000\n",
    "}\n",
    "print(\"=================== DAFTAR MENU ====================\")\n",
    "for i in menu:\n",
    "    print(f\"Daftar Menu : {i} \\tHarga : {menu[i]}\")\n",
    "print(\"Pembelian diatas Rp.100.000,- mendapatkan diskon 10%\")\n",
    "print(\"=\"*52)\n",
    "\n",
    "pesan = input(\"Pilih Menu : \")\n",
    "jumlah = int(input(\"Jumlah pemesanan : \"))\n",
    "pembayaran = jumlah*menu[pesan.lower()]\n",
    "\n",
    "if pembayaran > 100000:\n",
    "    diskon = pembayaran*(15/100)\n",
    "    total = pembayaran - diskon\n",
    "else:\n",
    "    total = pembayaran\n",
    "    \n",
    "print(\"\\n================= DETAIL PEMBAYARAN =================\")\n",
    "print(f\"Menu yang dipesan        : {pesan.lower()}\")\n",
    "print(f\"Jumlah yang dipesan      : {jumlah}\")\n",
    "print(f\"Total biaya              : {pembayaran}\")\n",
    "print(f\"Total yang harus dibayar : {total}\")"
   ]
  },
  {
   "cell_type": "markdown",
   "id": "6f9b5561",
   "metadata": {},
   "source": [
    "# 5.19 Fungsi dalam Python"
   ]
  },
  {
   "cell_type": "markdown",
   "id": "1f0577dd",
   "metadata": {},
   "source": [
    "Fungsi pada python adalah kumpulan perintah atau baris kode yang dikelompokkan menjadi satu kesatuan untuk kemudian bisa dipanggil atau digunakan berkali-kali."
   ]
  },
  {
   "cell_type": "markdown",
   "id": "a15fbcfd",
   "metadata": {},
   "source": [
    "Di dalam python, sintaks pembuatan fungsi terlihat seperti berikut:\n",
    ">def nama_fungsi (parameters):\n",
    "> * statements"
   ]
  },
  {
   "cell_type": "code",
   "execution_count": null,
   "id": "a96b1be9",
   "metadata": {},
   "outputs": [],
   "source": [
    "#Contoh fungsi\n",
    "\n",
    "#fungsi full_nama dibuat dengan mendefinisikan 2 parameter: first_nama, last_name\n",
    "def full_nama(first_name,last_name):\n",
    "    print(f\"Nama lengkapnya adalah {first_name} {last_name}\")\n",
    "#jika fungsi ini dipanggil, maka akan mengeksekusi perintah print() yang ada di dalamnya"
   ]
  },
  {
   "cell_type": "code",
   "execution_count": null,
   "id": "f15bbbc2",
   "metadata": {},
   "outputs": [],
   "source": [
    "#input nilai parameter\n",
    "first_name = input(\"Nama depan anda adalah \")\n",
    "last_name = input(\"Nama belakang anda adalah \")\n",
    "#Panggil fungsi full_nama, cukup ketik saja nama fungsinya, ditambah dengan ()\n",
    "full_nama(first_name,last_name)"
   ]
  },
  {
   "cell_type": "code",
   "execution_count": null,
   "id": "188583d3",
   "metadata": {},
   "outputs": [],
   "source": [
    "# Parameter Opsional atau Default\n",
    "\n",
    "#Pada fungsi di bawah ini parameter ke-3 sudah memiliki  nilai default: celcius\n",
    "def suhu_udara (daerah, derajat, satuan = 'celcius'):\n",
    "    print(f\"Suhu di {daerah} adalah {derajat} {satuan}\")\n",
    "    \n",
    "suhu_udara(\"Surakarta\", 30) #output tidak error\n",
    "suhu_udara(\"Surakarta\", 86, 'Fahrenheit') #output dengan masukan nilai parameter 3 : Fah"
   ]
  },
  {
   "cell_type": "code",
   "execution_count": null,
   "id": "ed5a3c68",
   "metadata": {},
   "outputs": [],
   "source": [
    "# Fungsi Dengan Parameter Tidak Berurut\n",
    "\n",
    "#dibuat fungsi dengan parameter opsionalnya ada lebih dari 1\n",
    "def suhu (kota, derajat = 35, satuan = 'celcius'):\n",
    "  print(f\"Suhu di {kota} adalah {derajat} {satuan}\")\n",
    "#coba panggil dengan 2 parameter seperti ini:\n",
    "suhu('Jakarta', 'fahrenheit')\n",
    "#outputnya tidak terisi seperti yang dingginkan, yaitu untuk parameter daerah dan satuan saja\n",
    "\n",
    "#maka untuk mengatasi itu, kita definisikan nama argumen/parameter yang akan kita isi\n",
    "suhu('Jakarta', satuan = 'fahrenheit')\n",
    "#atau, setelah didefinisikan nama argumen, kita bisa panggil dengan tidak berurutan\n",
    "suhu(satuan='kelvin', kota='Makasar', derajat=100)"
   ]
  },
  {
   "cell_type": "markdown",
   "id": "d9f56fff",
   "metadata": {},
   "source": [
    "#### 5.19.1 Tugas Fungsi pada Python"
   ]
  },
  {
   "cell_type": "markdown",
   "id": "80c9810a",
   "metadata": {},
   "source": [
    "Ada dua jenis tugas fungsi pada Python yaitu:\n",
    "* Menjalankan perintah.\n",
    "* Menampilkan hasil perhitungan."
   ]
  },
  {
   "cell_type": "code",
   "execution_count": null,
   "id": "c0954af4",
   "metadata": {},
   "outputs": [],
   "source": [
    "#Berikut contoh tugas fungsi, dapat diperhatikan perbedaan antara 2 tugas fungsi tersebut\n",
    "\n",
    "def waktu_sampai(jarak,kecepatan):\n",
    "    waktu = jarak/kecepatan\n",
    "    print(waktu) #jalankan perintah print "
   ]
  },
  {
   "cell_type": "code",
   "execution_count": null,
   "id": "b9c92b1b",
   "metadata": {},
   "outputs": [],
   "source": [
    "#berikut contoh fungsi yang mengembalikan nilai\n",
    "def waktu_tempuh(jarak,kecepatan):\n",
    "    waktu = jarak/kecepatan\n",
    "    return waktu #return berfungsi untuk mengembalikan nilai waktu, Sehingga kita dapat memanfaatkannya untuk pemerosesan berikutnya"
   ]
  },
  {
   "cell_type": "code",
   "execution_count": null,
   "id": "8a852580",
   "metadata": {},
   "outputs": [],
   "source": [
    "waktu_sampai(80,60)"
   ]
  },
  {
   "cell_type": "code",
   "execution_count": null,
   "id": "278ce69e",
   "metadata": {},
   "outputs": [],
   "source": [
    "waktu_tempuh(80,60)"
   ]
  },
  {
   "cell_type": "code",
   "execution_count": null,
   "id": "f805e33e",
   "metadata": {},
   "outputs": [],
   "source": [
    "a = waktu_sampai(80,60) #disini akan langsung tercetak 1.3333\n",
    "print(a) #output akan none karena fungsi waktu_sampai tidak mengembalikan nilai yang dapat kita gunakan untuk pemrosesan selanjutnya"
   ]
  },
  {
   "cell_type": "code",
   "execution_count": null,
   "id": "163c747b",
   "metadata": {},
   "outputs": [],
   "source": [
    "b = waktu_tempuh(80,60) #fungsi akan mengembalikan nilai, dan lalu disimpan ke variabel b\n",
    "print(b) #akan dicetak variabel b dengan output berupa nilai yang dikembalikan fungsi"
   ]
  },
  {
   "cell_type": "code",
   "execution_count": null,
   "id": "662fb014",
   "metadata": {},
   "outputs": [],
   "source": [
    "#Contoh jika fungsi memiliki Lebih dari 1 return\n",
    "#Jika statement return telah dieksekusi pada sebuah fungsi, maka semua proses yang ada di dalam blok kode fungsi tersebut akan berhenti\n",
    "\n",
    "def persentase (total, jumlah):\n",
    "    if (total >= 0 and total <= jumlah):\n",
    "        return total / jumlah * 100\n",
    "    return False\n",
    "\n",
    "# output : 25\n",
    "print(persentase(20, 80)) #proses dalam fungsi berhenti, perintah return false diskip\n",
    "\n",
    "# output : False\n",
    "print(persentase(100, 50))"
   ]
  },
  {
   "cell_type": "code",
   "execution_count": null,
   "id": "62f0730c",
   "metadata": {},
   "outputs": [],
   "source": [
    "#program yang menggunakan fungsi Python untuk menghitung luas segitiga, lingkaran, persegi dan persegi panjang. Selain itu berikan peringatan bagi bidang lain yang tidak termasuk perhitungan.\n",
    "\n",
    "import numpy as np #menyingkat numpy, jadi nanti pas manggil bisa pakai np aja\n",
    "\n",
    "#buat fungsi untuk menghitung luas segitiga\n",
    "def luas_segitiga(alas,tinggi):\n",
    "    luas = (1/2)*alas*tinggi\n",
    "    return luas\n",
    "#buat fungsi untuk menghitung luas lingkaran\n",
    "def luas_lingkaran(jari_jari):\n",
    "    luas = np.pi*(jari_jari**2)\n",
    "    return luas\n",
    "#buat fungsi untuk menghitung luas persegi\n",
    "def luas_persegi(sisi):\n",
    "    luas = sisi**2\n",
    "    return luas\n",
    "#buat fungsi untuk menghitung luas persegi panjang\n",
    "def luas_persegi_panjang(panjang,lebar):\n",
    "    luas = panjang*lebar\n",
    "    return luas"
   ]
  },
  {
   "cell_type": "code",
   "execution_count": null,
   "id": "772b872e",
   "metadata": {},
   "outputs": [],
   "source": [
    "jenis_bidang = input(\"Tulis jenis bidangnya \")\n",
    "if jenis_bidang.upper() == \"SEGITIGA\" :\n",
    "    alas = float(input(\"Berapakah panjang alasnya? \"))\n",
    "    tinggi = float(input(\"Berapakah tingginya? \"))\n",
    "    luas = luas_segitiga(alas,tinggi)\n",
    "    print(f\"Luas {jenis_bidang} adalah {luas}\")\n",
    "elif jenis_bidang.upper() == \"LINGKARAN\" :\n",
    "    jari_jari = float(input(\"Berapakah panjang jari-jarinya? \"))\n",
    "    luas = luas_lingkaran(jari_jari)\n",
    "    print(f\"Luas {jenis_bidang} adalah {luas}\")\n",
    "elif (jenis_bidang.upper() == \"PERSEGI\") or (jenis_bidang.upper() == \"BUJUR SANGKAR\") :\n",
    "    sisi = float(input(\"Berapakah panjang sisinya?\"))\n",
    "    luas = luas_persegi(sisi)\n",
    "    print(f\"Luas {jenis_bidang} adalah {luas}\")\n",
    "elif jenis_bidang.upper() == \"PERSEGI PANJANG\":\n",
    "    panjang = float(input(\"Berapakah panjangnya? \"))\n",
    "    lebar = float(input(\"Berapakah lebarnya? \"))\n",
    "    luas = luas_persegi_panjang(panjang,lebar)\n",
    "    print(f\"Luas {jenis_bidang} adalah {luas}\")\n",
    "else:\n",
    "    print(f\"Maaf bidang {jenis_bidang} yang anda masukkan tidak ada.\")\n",
    "    print(\"Pilihan cuma SEGITIGA, LINGKARAN, PERSEGI, dan PERSEGI PANJANG.\")\n",
    "    print(\"Terimakasih.\")"
   ]
  },
  {
   "cell_type": "code",
   "execution_count": null,
   "id": "887a0872",
   "metadata": {},
   "outputs": [],
   "source": [
    "#Fungsi Rekursif (fungsi yang memanggil dirinya sendiri)\n",
    "\n",
    "#contoh :\n",
    "#program menghitung faktorial menggunakan fungsi rekursif\n",
    "\n",
    "def faktorial(n):\n",
    "    if n == 0:\n",
    "        return 1\n",
    "    else:\n",
    "        #disini proses rekursif nya\n",
    "        return n*faktorial(n-1)\n",
    "\n",
    "n = int(input(\"Masukkan bilangan : \"))\n",
    "print(f\"{n}! = {faktorial(n)}\")"
   ]
  },
  {
   "cell_type": "code",
   "execution_count": null,
   "id": "24788535",
   "metadata": {},
   "outputs": [],
   "source": [
    "#Program kalkulator sederhana\n",
    "\n",
    "#buat fungsi untuk penambahan\n",
    "def tambah(a, b):\n",
    "    return a + b\n",
    "#buat fungsi untuk pengurangan\n",
    "def kurang(a, b):\n",
    "    return a - b\n",
    "#buat fungsi untuk perkalian\n",
    "def kali(a, b):\n",
    "    return a * b\n",
    "#buat fungsi untuk pembagian\n",
    "def bagi(a, b):\n",
    "    return a / b\n",
    "#buat fungsi untuk operasi modulo\n",
    "def modulo(a, b):\n",
    "    return a % b\n",
    "#buat fungsi untuk perpangkatan\n",
    "def pangkat(a, b):\n",
    "    return a ** b\n",
    "#buat fungsi untuk hasilbagi\n",
    "def hasilbagi(a, b):\n",
    "    return a // b\n",
    "\n",
    "#Untuk cetak menu\n",
    "print(\"Pilih Operasi Perhitungan: \")\n",
    "print(\"1. Tambah\")\n",
    "print(\"2. Kurang\")\n",
    "print(\"3. Kali\")\n",
    "print(\"4. Bagi\")\n",
    "print(\"5. Modulo\")\n",
    "print(\"6. Pangkat\")\n",
    "print(\"7. Hasilbagi\")\n",
    "\n",
    "\n",
    "while True:\n",
    "    pilihan = input(\"\\nPilih Nomor Menu (misalnya: 4): \")\n",
    "    if pilihan in ('1', '2', '3', '4', '5', '6', '7'):\n",
    "        inputan1 = float(input(\"Input angka pertama : \"))\n",
    "        inputan2 = float(input(\"Input angka kedua : \"))\n",
    "\n",
    "        if pilihan == '1':\n",
    "            print(inputan1, \"+\", inputan2, \"=\", tambah(inputan1, inputan2)) #memanggil fungsi tambah\n",
    "\n",
    "        elif pilihan == '2':\n",
    "            print(inputan1, \"-\", inputan2, \"=\", kurang(inputan1, inputan2)) #memanggil fungsi kurang\n",
    "\n",
    "        elif pilihan == '3':\n",
    "            print(inputan1, \"*\", inputan2, \"=\", kali(inputan1, inputan2)) #memanggil fungsi kali\n",
    "\n",
    "        elif pilihan == '4':\n",
    "            print(inputan1, \"/\", inputan2, \"=\", bagi(inputan1, inputan2)) #memanggil fungsi bagi\n",
    "            \n",
    "        elif pilihan == '5':\n",
    "            print(inputan1, \"%\", inputan2, \"=\", modulo(inputan1, inputan2)) #memanggil fungsi modulo\n",
    "            \n",
    "        elif pilihan == '6':\n",
    "            print(inputan1, \"**\", inputan2, \"=\", pangkat(inputan1, inputan2)) #memanggil fungsi pangkat\n",
    "            \n",
    "        elif pilihan == '7':\n",
    "            print(inputan1, \"//\", inputan2, \"=\", hasilbagi(inputan1, inputan2)) #memanggil fungsi hasilbagi\n",
    "        \n",
    "        #untuk opsi mau ngulang program lagi atau stop\n",
    "        reset = input(\"\\nMau menghitung lagi? (ya/tidak): \")\n",
    "        if reset == \"tidak\":\n",
    "          break\n",
    "        \n",
    "    else:\n",
    "        print(\"Inputan salah\")"
   ]
  },
  {
   "cell_type": "code",
   "execution_count": null,
   "id": "24a1f1cd",
   "metadata": {},
   "outputs": [],
   "source": [
    "#Program perpustakaan pribadi sederhana\n",
    "\n",
    "#Buat list kosong untuk nyimpan data buku nya\n",
    "buku = []\n",
    "#Program yang mau dibuat yakni agar mampu melakukan operasi create, read, update, dan delete\n",
    "#maka diperlukan fungsi-fungsi di bawah ini:\n",
    "\n",
    "#fungsi untuk menampilkan semua data dari list buku\n",
    "def show_data() :\n",
    "    if len(buku) <= 0: #jika isi list kosong\n",
    "        print(\"Belum ada data buku!\") #maka cetak ini\n",
    "    else:\n",
    "        for indeks in range(len(buku)):\n",
    "            print(\"[%d] %s\" % (indeks, buku[indeks]))#kalau tidak kosong tampilkan semua isi list\n",
    "\n",
    "# fungsi untuk menambah data list buku\n",
    "def insert_data():\n",
    "    buku_baru = input(\"Masukan Judul Buku : \")\n",
    "    buku.append(buku_baru) #masukan inputan ke buku_baru\n",
    "    \n",
    "# fungsi untuk edit data list buku\n",
    "def edit_data():\n",
    "    show_data() #panggil fungsi untuk menampilkan isi list buku\n",
    "    #Kita minta user untuk input nomer indeks buku yang akan diedit\n",
    "    indeks = input(\"Inputkan nomer indeks dari buku yang mau diedit : \")\n",
    "    if(indeks > len(buku)):\n",
    "        print (\"Indeks salah\")\n",
    "    else:\n",
    "        judul_baru = raw_input(\"Judul baru buku: \")\n",
    "        buku[indeks] = judul_baru\n",
    "\n",
    "# fungsi untuk menghapus data list buku\n",
    "def delete_data():\n",
    "    show_data() #panggil fungsi untuk menampilkan isi list buku\n",
    "    indeks = input(\"Inputkan Indeks dari buku yang ingin dihapus : \")\n",
    "    if(indeks > len(buku)):\n",
    "        print (\"Indeks salah\")\n",
    "    else:\n",
    "        buku.remove(buku[indeks]) #hapus data dengan indeks yang ditentukan\n",
    "\n",
    "# fungsi untuk menampilkan menu program\n",
    "def show_menu():\n",
    "    print(\"\\n\")\n",
    "    print(\"----------- MENU ----------\")\n",
    "    print(\"[1] Show Data\")\n",
    "    print(\"[2] Insert Data\")\n",
    "    print(\"[3] Edit Data\")\n",
    "    print(\"[4] Delete Data\")\n",
    "    print(\"[5] Exit\")\n",
    "    \n",
    "    menu = int(input(\"PILIH SALAH SATU NOMER MENU : \"))\n",
    "    print(\"\\n\")\n",
    "\n",
    "    if menu == 1 :\n",
    "        show_data()\n",
    "    elif menu == 2 :\n",
    "        insert_data()\n",
    "    elif menu == 3 :\n",
    "        edit_data()\n",
    "    elif menu == 4 :\n",
    "        delete_data()\n",
    "    elif menu == 5 :\n",
    "        exit()\n",
    "    else:\n",
    "        print(\"Pilihan anda tidak terdaftar pada menu!\")\n",
    "        \n",
    "\n",
    "#perulangan agar program terus berjalan sampai user memilih menu exit\n",
    "if __name__ == \"__main__\":\n",
    "    while(True):\n",
    "        show_menu()"
   ]
  },
  {
   "cell_type": "code",
   "execution_count": null,
   "id": "9d23e94a",
   "metadata": {},
   "outputs": [],
   "source": [
    "#Program Quiz Sederhana\n",
    "\n",
    "#Buat dictionary soal, yang mana berisi key soal dan value berupa jawaban yang benar\n",
    "soal_soal = {\n",
    "    \"Siapa presiden pertama indonesia ? \" : \"A\",\n",
    "    \"Warna-warna pada bendera Negara Indonesia ?\" : \"A\",\n",
    "    \"Kapan tahun Indonesia merdeka ?\" : \"C\",\n",
    "    \"Gaya apa yang mempengaruhi sebuah objek jatuh ke bumi ?\":\"D\",\n",
    "    \"Dibawah ini yang merupakan nama tokoh yang dikenal sebagai Bapak Aljabar ?\":\"B\"\n",
    "}\n",
    "#buat array jawaban jawaban untuk pilihan ganda soalnya\n",
    "jawaban_jawaban = [['A. Soekarno','B. Soepomo','C. B.J. Habibie','D. Soeharto'],\n",
    "    ['A. Merah putih','B. Merah abu','C. Hijau kuning','D. Merah putih biru'],\n",
    "    ['A. 1975','B. 1981','C. 1945','D. 2000'],\n",
    "    ['A. Gaya Archimedes','B. Gaya Pascal','C. Gaya Sentrifugal','D. Gaya Gravitasi'],\n",
    "    ['A. Ibnu Sina','B. Al Khawarizmi','C. Socrates','D. Aristoteles']]\n",
    "\n",
    "#Buat fungsi-fungsi yang dibutuhkan\n",
    "def mulai_game():\n",
    "    tebakan_jawaban = [] #buat array kosong untuk menampung jawaban kita\n",
    "    jawaban_benar = 0 #jumlah jawaban benar kita, mulai dari nol\n",
    "    nomer_soal = 1 #kondisi soal ke berapa yang kita kerjakan, mulai dari soal no 1\n",
    "    \n",
    "    for soal in soal_soal: #perulangan untuk memunculkan soal\n",
    "        print('-----------------')\n",
    "        print(soal)\n",
    "        for jawaban in jawaban_jawaban[nomer_soal-1]: #perulangan untuk memunculkan pilihan jawaban\n",
    "            print(jawaban)\n",
    "        tebakan = input(\"Masukan (A,B,C,D) = \") #input jawaban kita\n",
    "        tebakan = tebakan.upper() #kita seragamkan dengan upper() agar tidak error\n",
    "        tebakan_jawaban.append(tebakan) #masukkan jawaban yang kita pilih ke array tebakan jawaban\n",
    "        jawaban_benar += check_jawaban(soal_soal.get(soal),tebakan) #panggil fungsi check_jawaban()\n",
    "        nomer_soal += 1 #increment nomer soal, agar indeks jawabannya kita dinamis\n",
    "    #memanggil fungsi tampilkan_score\n",
    "    tampilkan_score(jawaban_benar, tebakan_jawaban)\n",
    "    \n",
    "#fungsi untuk validasi jawaban\n",
    "def check_jawaban(jawaban_benar,tebakan_user):\n",
    "    if (jawaban_benar == tebakan_user):\n",
    "        print(\"Jawaban Anda Benar !\")\n",
    "        return 1 #kalok benar nilainya 1\n",
    "    else:\n",
    "        print(\"Jawaban Anda Salah !\")\n",
    "        return 0 #kalok salah nilainya 0\n",
    "\n",
    "#fungsi untuk menampilkan score kita\n",
    "def tampilkan_score(score_benar, jawaban_user):\n",
    "    print('-----------------')\n",
    "    print('HASIL')\n",
    "    print('-----------------')\n",
    "    print('JAWABAN USER : ', end='') #end='' untuk mencetaknya dalam satu baris\n",
    "    for jawaban in jawaban_user:\n",
    "        print(jawaban, end=' ')\n",
    "    print()\n",
    "    #menghitung rata rata score\n",
    "    score = score_benar / len(soal_soal)\n",
    "    score *= 100\n",
    "    print('Nilai Anda adalah '+ str(int(score))+'%')\n",
    "\n",
    "#fungsi untuk memulai ulang program ketika program sudah selesai tanpa perlu riset program manual\n",
    "def mulai_ulang():\n",
    "    jawaban = input(\"Apakah anda ingin mengulang program ? (yes/no)\")\n",
    "    jawaban = jawaban.upper()\n",
    "    if jawaban == \"YES\":\n",
    "        return True\n",
    "    else:\n",
    "        return False\n",
    "\n",
    "mulai_game() #panggil fungsi mulai_game()\n",
    "#perulangan untuk memanggil fungsi mulai_ulang()\n",
    "while mulai_ulang(): #jadi selama pengembalian nilainya true, maka akan dipanggil fungsi mulai game()\n",
    "    mulai_game() #memulai ulang program"
   ]
  },
  {
   "cell_type": "markdown",
   "id": "8c793cde",
   "metadata": {},
   "source": [
    "# 5.20 Numpy"
   ]
  },
  {
   "cell_type": "markdown",
   "id": "b680874b",
   "metadata": {},
   "source": [
    "Numpy merupakan salah satu Library dalam Python yang memiliki keunggulan dalam perhitungan menggunakan vektor dam matrik dalam berbagai dimensi. Hal pertama yang perlu dilakukan adalah memanggil Library Numpy sebagai berikut:\n"
   ]
  },
  {
   "cell_type": "code",
   "execution_count": null,
   "id": "60806300",
   "metadata": {},
   "outputs": [],
   "source": [
    "#Import library Numpy as np\n",
    "#artinya kita menggantikan pemanggilan numpy dengan prefix np untuk proses berikutnya.\n",
    "\n",
    "import numpy as np"
   ]
  },
  {
   "cell_type": "code",
   "execution_count": null,
   "id": "a744f49c",
   "metadata": {},
   "outputs": [],
   "source": [
    "#import library pandas sebagai pd\n",
    "#artinya kita menggantikan pemanggilan pandas dengan prefix pd untuk proses berikutnya.\n",
    "\n",
    "import pandas as pd"
   ]
  },
  {
   "cell_type": "markdown",
   "id": "213ea085",
   "metadata": {},
   "source": [
    "###### 5.20.1 Perintah Dasar pada Numpy"
   ]
  },
  {
   "cell_type": "code",
   "execution_count": null,
   "id": "58db47fd",
   "metadata": {},
   "outputs": [],
   "source": [
    "#Membuat array\n",
    "\n",
    "#1 import dulu library numpy nyaa (sudah tadi di atas)\n",
    "#2 lalu gunakan fungsi array() yang ada pada numpy\n",
    "\n",
    "#kita bisa tempatkan dulu element-element nya pada list dulu, lalu kemudian ubah jadi numpy array\n",
    "list_32 = [0,2,4,6]\n",
    "array_32 = np.array(list_32) #mengubah list menjadi array\n",
    "print(array_32)\n",
    "\n",
    "#atau bisa langsung saja gunakan fungsi array() tanpa membuat variabel list nya terlebih dahulu\n",
    "a = np.array([0,1,2,3,4])\n",
    "print(a) #cetak array"
   ]
  },
  {
   "cell_type": "code",
   "execution_count": null,
   "id": "6162ca9d",
   "metadata": {},
   "outputs": [],
   "source": [
    "#membuat array dua dimensi\n",
    "\n",
    "b = np.array([[5,6,7,8],[9,8,7,6]])\n",
    "print(b)\n",
    "#Array diatas adalah berbentuk (2,4) artinya mempunyai 2 baris dan 4 kolom"
   ]
  },
  {
   "cell_type": "code",
   "execution_count": null,
   "id": "7f5fbc7b",
   "metadata": {},
   "outputs": [],
   "source": [
    "#membuat array multidimensi\n",
    "\n",
    "c = np.array([[[0,1,2,3],[4,5,6,7]],\n",
    "              [[8,9,8,7],[6,5,4,3]],\n",
    "              [[1,2,3,4],[5,6,7,8]]])\n",
    "print(c)\n",
    "#Array diatas adalah berbentuk (3,4) artinya mempunyai 3 baris dan 4 kolom"
   ]
  },
  {
   "cell_type": "markdown",
   "id": "4d30538e",
   "metadata": {},
   "source": [
    "Ada beberapa fungsi lagi yang dapat digunakan dalam membuat array antara lain zeros(), ones(), arange(), linspace(), logspace()\n",
    "\n",
    "    - zeros()    -> Membuat array dengan nilai 0\n",
    "    - ones()     -> Membuat array dengan nilai 1\n",
    "    - arange()   -> Membuat array dengan nilai dalam range \n",
    "    - linspace() -> Membuat array dengan nilai dalam interval\n",
    "    - logspace() -> Membuat array dengan nilai log Base10 dalam interval"
   ]
  },
  {
   "cell_type": "code",
   "execution_count": null,
   "id": "8fa81be9",
   "metadata": {},
   "outputs": [],
   "source": [
    "# contoh penggunaan fungsi lain untuk membuat array\n",
    "\n",
    "zeros_32 = np.zeros(8) # membuat array dengan nilai 0 sebanyak 8\n",
    "print(zeros_32)\n",
    "ones_32 = np.ones(3) # membuat array dengan nilai 1 sebanyak 3\n",
    "print(ones_32)\n",
    "arange_32 = np.arange(2, 15, 2) #arange(start, stop, step/)\n",
    "print(arange_32)\n",
    "linspace_32 = np.linspace(1, 15, 2) # linespace(start, stop, number)\n",
    "print(linspace_32)\n",
    "logspace_32 = np.logspace(1, 15, 2) # logspace(start, stop, number)\n",
    "print(logspace_32)"
   ]
  },
  {
   "cell_type": "code",
   "execution_count": null,
   "id": "0fc08804",
   "metadata": {},
   "outputs": [],
   "source": [
    "#Upcasting pada numpy\n",
    "\n",
    "# Pada numpy, terdapat upcasting, yaitu ketika tipe data element array tidak sama, dilakukan penyamaan tipe data pada yang lebih tinggi.\n",
    "\n",
    "#Contohnya kita buat array numeric dengan semua element nyaa integer kecuali satu element yang bertipe float\n",
    "#Maka, secara otomatis akan dilakukan upcasting menjadi tipe float pada semua elementnya\n",
    "\n",
    "d = np.array([1, 2, 3.5, 4, 5])\n",
    "print(d)\n",
    "#selanjutnya, coba buat array numeric dengan semua elemennya float kecuali satu elementnya int\n",
    "e= np.array([2.7, 3.2, 5.6, 3.1, 4])\n",
    "print(e)\n",
    "#selanjutnya, coba buat array dengan 3 elementnya string, 1 int, dan 1 float\n",
    "f= np.array([\"apel\", 2, \"delima\", \"3.2\", \"jeruk\"])\n",
    "print(f)"
   ]
  },
  {
   "cell_type": "code",
   "execution_count": null,
   "id": "083a9f59",
   "metadata": {},
   "outputs": [],
   "source": [
    "#Numpy array memiliki keunggulan mendukung operasi pada data dimensional seperti Vektor dan Matriks\n",
    "#Untuk mengetahui jumlah dimensi pada data menggunakan fungsi ndim\n",
    "\n",
    "#cek jumlah dimensi pada array\n",
    "a.ndim"
   ]
  },
  {
   "cell_type": "code",
   "execution_count": null,
   "id": "b3e9bc01",
   "metadata": {},
   "outputs": [],
   "source": [
    "#cek jumlah dimensi pada array\n",
    "b.ndim"
   ]
  },
  {
   "cell_type": "code",
   "execution_count": null,
   "id": "6a42aa8d",
   "metadata": {},
   "outputs": [],
   "source": [
    "#cek jumlah dimensi pada array\n",
    "c.ndim"
   ]
  },
  {
   "cell_type": "code",
   "execution_count": null,
   "id": "b9935f9c",
   "metadata": {},
   "outputs": [],
   "source": [
    "#Kita bisa melihat jumlah elemen di setiap dimensi dengan menggunakan shape\n",
    "\n",
    "a.shape"
   ]
  },
  {
   "cell_type": "code",
   "execution_count": null,
   "id": "dd4f5b58",
   "metadata": {},
   "outputs": [],
   "source": [
    "#melihat jumlah elemen di setiap dimensi array b\n",
    "\n",
    "b.shape\n",
    "\n",
    "#output (2,4) artinyaa ada 2"
   ]
  },
  {
   "cell_type": "code",
   "execution_count": null,
   "id": "842b93e3",
   "metadata": {},
   "outputs": [],
   "source": [
    "#melihat jumlah elemen di setiap dimensi array c\n",
    "\n",
    "c.shape"
   ]
  },
  {
   "cell_type": "markdown",
   "id": "4d87318c",
   "metadata": {},
   "source": [
    "#### 5.20.2 Memanggil anggota, kolom, dan baris dengan numpy"
   ]
  },
  {
   "cell_type": "code",
   "execution_count": null,
   "id": "65822c3d",
   "metadata": {},
   "outputs": [],
   "source": [
    "#inisasi variabel\n",
    "d = np.array([[1,2,3,4],[5,6,7,8],[9,10,11,12]])\n",
    "#cetak array\n",
    "print(d)"
   ]
  },
  {
   "cell_type": "code",
   "execution_count": null,
   "id": "15f63504",
   "metadata": {},
   "outputs": [],
   "source": [
    "#memanggil anggota array d baris pertama kolom keempat\n",
    "d[0,3]"
   ]
  },
  {
   "cell_type": "code",
   "execution_count": null,
   "id": "283de1a4",
   "metadata": {},
   "outputs": [],
   "source": [
    "#memanggil elemen baris kedua untuk semua kolom pada array d\n",
    "d[1,:]"
   ]
  },
  {
   "cell_type": "code",
   "execution_count": null,
   "id": "9bf24b01",
   "metadata": {},
   "outputs": [],
   "source": [
    "#memanggil elemen kolom ketiga untuk semua baris pada array d\n",
    "d[:,2]"
   ]
  },
  {
   "cell_type": "code",
   "execution_count": null,
   "id": "6d8dbc40",
   "metadata": {},
   "outputs": [],
   "source": [
    "#memanggil elemen baris pertama dengan kolom dari kolom pertama sampai sebelum kolom keempat dengan increment 2\n",
    "\n",
    "d[0,0:3:2] #jadi ouputnya yaitu elemen yang terletak pada baris pertama kolom pertama, dan elemen baris pertama kolom ketiga"
   ]
  },
  {
   "cell_type": "code",
   "execution_count": null,
   "id": "0fe578ea",
   "metadata": {},
   "outputs": [],
   "source": [
    "#mengubah nilai elemen yang terletak pada baris pertama kolom pertama\n",
    "d[0,0] = 100\n",
    "#cetak array d setelah nilai salah satu elemennya dirubah\n",
    "print(d)"
   ]
  },
  {
   "cell_type": "markdown",
   "id": "7ab0a72f",
   "metadata": {},
   "source": [
    "#### 5.20.3 Matrix pada Numpy\n",
    "Numpy dapat digunakan untuk membuat berbagai jenis matrix seperti berikut."
   ]
  },
  {
   "cell_type": "code",
   "execution_count": null,
   "id": "674004d6",
   "metadata": {},
   "outputs": [],
   "source": [
    "#membuat array 1d dengan semua elemen bernilai 1\n",
    "print(np.ones(4))\n",
    "\n",
    "#Perhatikan bahwa elemen memiliki tipe data default sebagai float. Itu sebabnya yang 1. dalam array.\n",
    "print()\n",
    "\n",
    "#membuat array multidimensi dengan semua elemen bernilai 1\n",
    "#Membuat array berupa matriks ukuran 2x3 yang nilai semua elemen 1\n",
    "print(np.ones((2,3)))\n",
    "print()\n",
    "\n",
    "#membuat numpy ones array dengan tipe data int\n",
    "array_2d_int = np.ones((2, 3), dtype=int)\n",
    "print(array_2d_int)\n",
    "print()\n",
    "\n",
    "#Kita dapat menentukan elemen array sebagai tupel dan menentukan tipe datanya juga\n",
    "array_mix_type = np.ones((2, 2), dtype=[('x', 'int'), ('y', 'float')])\n",
    "print(array_mix_type)\n",
    "print(array_mix_type.dtype)\n",
    "print()\n",
    "\n",
    "print(np.ones((2,3,4)))"
   ]
  },
  {
   "cell_type": "code",
   "execution_count": null,
   "id": "4d2f9a5a",
   "metadata": {},
   "outputs": [],
   "source": [
    "#membuat array 1d dengan semua elemen bernilai 1\n",
    "print(np.zeros(2))\n",
    "print()\n",
    "\n",
    "#Membuat array 2d berupa matriks ukuran 3x2 yang nilai semua elemen 0\n",
    "print(np.zeros((3,2)))\n",
    "\n",
    "#Perhatikan bahwa elemen memiliki tipe data default sebagai float. Itu sebabnya yang 1. dalam array.\n",
    "print()\n",
    "\n",
    "##membuat numpy zeros array dengan tipe data int\n",
    "arrayzeros_2d_int = np.zeros((2, 3), dtype=int)\n",
    "print(arrayzeros_2d_int)\n",
    "print()\n",
    "\n",
    "#Kita dapat menentukan elemen array sebagai tupel dan menentukan tipe datanya juga\n",
    "arrayzeros_mix_type = np.zeros((2, 2), dtype=[('x', 'int'), ('y', 'float')])\n",
    "print(arrayzeros_mix_type)\n",
    "print(arrayzeros_mix_type.dtype)"
   ]
  },
  {
   "cell_type": "code",
   "execution_count": null,
   "id": "a0389faa",
   "metadata": {},
   "outputs": [],
   "source": [
    "#Membuat array matriks identitas dengan ukuran 4x4\n",
    "print(np.identity(4))\n",
    "print()\n",
    "#Membuat 2x2 matrix dengan elemen 1 pada diagonal utamanya dengan tipe data int\n",
    "print(np.identity(3, dtype = int))"
   ]
  },
  {
   "cell_type": "code",
   "execution_count": null,
   "id": "1d745d0d",
   "metadata": {},
   "outputs": [],
   "source": [
    "# numpy.full(shape, fill_value, dtype = None, order = 'C') : untuk mengembalikan array baru dengan bentuk dan tipe yang sama dengan array tertentu yang diisi dengan fill_value.\n",
    "\n",
    "#membuat array 2d ukuran 3x2 yang diisi dengan nilai semua elemen adalah 9\n",
    "print(np.full((3,2),9))\n",
    "#membuat array 1d dengan jumlah kolom 2 yang diisi dengan nilai semua elemen adalah 5\n",
    "print(np.full(2,5))"
   ]
  },
  {
   "cell_type": "code",
   "execution_count": null,
   "id": "b3b8331a",
   "metadata": {},
   "outputs": [],
   "source": [
    "#membuat array 4x3 yang elemen nya diisi random\n",
    "print(np.random.rand(4,3))\n",
    "print()\n",
    "\n",
    "#membuat array 3 x 4 dengan isi random interger dari 1 - 9\n",
    "print(np.random.randint(1,10,size=(3,4)))\n",
    "print()\n",
    "\n",
    "#membuat array dengan isi random integer(dari 0-99) sebanyak 10\n",
    "p = np.random.randint(0, 100, 10)\n",
    "print(p)"
   ]
  },
  {
   "cell_type": "markdown",
   "id": "9bb8abc4",
   "metadata": {},
   "source": [
    "latihan membuat matrik ukuran 10 x 10 dengan numpy"
   ]
  },
  {
   "cell_type": "code",
   "execution_count": null,
   "id": "332b4687",
   "metadata": {},
   "outputs": [],
   "source": [
    "#Pertama, buat array 2d yang berupa matriks berukuran 10x10 yang nilai semua elemen 0\n",
    "a = np.zeros((10,10))\n",
    "print(a)"
   ]
  },
  {
   "cell_type": "code",
   "execution_count": null,
   "id": "a4bd96c6",
   "metadata": {},
   "outputs": [],
   "source": [
    "#kedua, buat array matriks identitas dengan ukuran 10x10\n",
    "b = np.identity(10)"
   ]
  },
  {
   "cell_type": "code",
   "execution_count": null,
   "id": "d91f0162",
   "metadata": {},
   "outputs": [],
   "source": [
    "#Ketiga, kalingan b dengan 9 agar diagonal utamanya berisi elemen bernilai 9\n",
    "c = 9*b\n",
    "print(c)"
   ]
  },
  {
   "cell_type": "code",
   "execution_count": null,
   "id": "05e9c4fe",
   "metadata": {},
   "outputs": [],
   "source": [
    "#Keempat, buat array multidimensi ukuran 8x8 dengan semua elemen bernilai 1\n",
    "d = np.ones((8,8))\n",
    "#kelima, buat array identitas ukuran 8x8 dengan elemen di diagonal utamanya bernilai 8\n",
    "e = np.identity(8)*8\n",
    "#keenanam, tambahkan d dan e sehingga diperoleh matrik ukuran 8x8 dengan semua elemennya bernilai 1 kecuali elemen elemen diagonal utamanya, yakni bernilai 9\n",
    "f = d+e\n",
    "print(f)"
   ]
  },
  {
   "cell_type": "code",
   "execution_count": null,
   "id": "54eda942",
   "metadata": {},
   "outputs": [],
   "source": [
    "#ketuju, update nilai elemen elemen array c, untuk setiap elemen yang berada di baris 2 sampai 9,\n",
    "#dengan kolomnya yaitu dari kolom 2 sampai 9, update menjadi f\n",
    "c[1:-1,1:-1] = f\n",
    "print(c)"
   ]
  },
  {
   "cell_type": "code",
   "execution_count": null,
   "id": "a114245f",
   "metadata": {},
   "outputs": [],
   "source": [
    "#kedelapan, buat matrik identitas ukuran 6x6 dengan elemen-elemen di diagonal utamanya bernilai 9\n",
    "g = np.identity(6)*9\n",
    "#Kesembilan, update nilai elemen elemen array c, untuk setiap elemen yang berada di baris 3 sampai 8,\n",
    "#dengan kolomnya yaitu dari kolom 3 sampai 8, update menjadi g\n",
    "c[2:-2,2:-2] = g\n",
    "print(c)"
   ]
  },
  {
   "cell_type": "code",
   "execution_count": null,
   "id": "8b497bd2",
   "metadata": {},
   "outputs": [],
   "source": [
    "#kesepuluh, buat matrik elemen 1 ukuran 4x4 lalu dikali dengan konstanta 2\n",
    "h = np.ones((4,4))*2 #output : matrik ukuran 4x4 dengan semua elemennya bernilai 2\n",
    "#kesepuluh, buat matrik identitas ukuran 4x4 dengan elemen-elemen diagonal utamanya bernilai 7\n",
    "i = np.identity(4)*7\n",
    "#jumlahkan matrik h dan matrik i\n",
    "j = h+i\n",
    "print(j)"
   ]
  },
  {
   "cell_type": "code",
   "execution_count": null,
   "id": "d6e9fffa",
   "metadata": {},
   "outputs": [],
   "source": [
    "#kesebelas, update nilai elemen elemen array c, untuk setiap elemen yang berada di baris 4 sampai 7,\n",
    "#dengan kolomnya yaitu dari kolom 4 sampai 7, update menjadi j\n",
    "c[3:-3,3:-3] = j\n",
    "print(c)"
   ]
  },
  {
   "cell_type": "code",
   "execution_count": null,
   "id": "ddadf996",
   "metadata": {},
   "outputs": [],
   "source": [
    "#ke-12, buat matrik identitas 2x2 dengan elemen elemen di diagonal utamanya bernilai 9\n",
    "k = np.identity(2)*9\n",
    "#terakhir, update nilai elemen elemen array c, untuk setiap elemen yang berada di baris 5 sampai 6,\n",
    "#dengan kolomnya yaitu dari kolom 5 sampai 6, update menjadi k\n",
    "c[4:-4,4:-4] = k\n",
    "print(c)\n",
    "\n",
    "#proses selesai"
   ]
  },
  {
   "cell_type": "markdown",
   "id": "6555214e",
   "metadata": {},
   "source": [
    "#### 5.20.4 Copy pada Numpy"
   ]
  },
  {
   "cell_type": "markdown",
   "id": "07b61fac",
   "metadata": {},
   "source": [
    "Sering sekali kita menduplikat suatu variabel dengan maksud untuk mempercepat pekerjaan kita. Akan tetapi sering tanpa disadari ikatan persamaan\n",
    "dalam Numpy sedemikian eratnya sehingga saat anggota variabel baru dirubah,\n",
    "dampaknya juga akan merubah variabel asal. Untuk menghindari perubahan\n",
    "variabel awal yang tidak dikehendaki maka diperlukan perintah copy seperti\n",
    "yang dijabarkan pada program dibawah ini."
   ]
  },
  {
   "cell_type": "code",
   "execution_count": null,
   "id": "c56da574",
   "metadata": {},
   "outputs": [],
   "source": [
    "#pertama tama buat dulu array\n",
    "\n",
    "#inisialisai variabel a\n",
    "a = np.array([1,2,3,4,5])\n",
    "print(a)"
   ]
  },
  {
   "cell_type": "code",
   "execution_count": null,
   "id": "d658670d",
   "metadata": {},
   "outputs": [],
   "source": [
    "#sekarang kita inisialisasi b = a\n",
    "b = a\n",
    "print(b)"
   ]
  },
  {
   "cell_type": "code",
   "execution_count": null,
   "id": "426091b7",
   "metadata": {},
   "outputs": [],
   "source": [
    "#lalu ubah elemen array b\n",
    "b[0] = 10\n",
    "print(b)"
   ]
  },
  {
   "cell_type": "code",
   "execution_count": null,
   "id": "ad8ac226",
   "metadata": {},
   "outputs": [],
   "source": [
    "#kemudian, coba cetak kembali a\n",
    "#pada outputnya tampak bahwa elemen array a juga ikut berubah, padahal tadi kita mengubah elemen array b\n",
    "print(a)\n",
    "#inilah yang tadi dimaksud dengan perubahan yang tidak diinginkan karena ikatan persamaan dalam Numpy sedemikian eratnya"
   ]
  },
  {
   "cell_type": "code",
   "execution_count": null,
   "id": "da7319f7",
   "metadata": {},
   "outputs": [],
   "source": [
    "#inisialisasi variabel c\n",
    "c = np.array([1,2,3,4,5])\n",
    "print(c)"
   ]
  },
  {
   "cell_type": "code",
   "execution_count": null,
   "id": "bd0f3791",
   "metadata": {},
   "outputs": [],
   "source": [
    "#Untuk menghindari perubahan variabel awal yang tidak dikehendaki seperti tadi,\n",
    "#maka diperlukan perintah copy()\n",
    "d = c.copy() #mengcopy c diberikan ke variabel d\n",
    "print(d)"
   ]
  },
  {
   "cell_type": "code",
   "execution_count": null,
   "id": "31cbfc97",
   "metadata": {},
   "outputs": [],
   "source": [
    "#coba ubah lagi elemen array d\n",
    "d[0] = 10\n",
    "print(d)"
   ]
  },
  {
   "cell_type": "code",
   "execution_count": null,
   "id": "21ad1a62",
   "metadata": {},
   "outputs": [],
   "source": [
    "#Cetak kembali variabel awal c\n",
    "print(c)\n",
    "#dari output tampak bahwa tidak terjadi berubahan pada variabel awal\n",
    "#perintah copy() berhasil menghindari perubahan variabel awal yang tidak dikehendaki"
   ]
  },
  {
   "cell_type": "markdown",
   "id": "79883801",
   "metadata": {},
   "source": [
    "##### 5.20.5 Operasi Matematika pada Numpy"
   ]
  },
  {
   "cell_type": "code",
   "execution_count": null,
   "id": "34856141",
   "metadata": {},
   "outputs": [],
   "source": [
    "print(f\"a = ({a})\")\n",
    "#operasi penjumlahan dengan konstanta\n",
    "print('=========')\n",
    "print(\"hasil a+2\")\n",
    "print('=========')\n",
    "a+2 #setiap elemen a ditambahkan 2"
   ]
  },
  {
   "cell_type": "code",
   "execution_count": null,
   "id": "e2502c40",
   "metadata": {},
   "outputs": [],
   "source": [
    "print(f\"a = ({a})\")\n",
    "#operasi pengurangan dengan konstanta\n",
    "print('=========')\n",
    "print(\"hasil a-2\")\n",
    "print('=========')\n",
    "a-2 #setiap elemen a dikurangi 2"
   ]
  },
  {
   "cell_type": "code",
   "execution_count": null,
   "id": "6d9d330b",
   "metadata": {},
   "outputs": [],
   "source": [
    "print(f\"a = ({a})\")\n",
    "#operasi perkalian dengan konstanta\n",
    "print('=========')\n",
    "print(\"hasil a*2\")\n",
    "print('=========')\n",
    "a*2 #setiap elemen a dikali 2"
   ]
  },
  {
   "cell_type": "code",
   "execution_count": null,
   "id": "479859bf",
   "metadata": {},
   "outputs": [],
   "source": [
    "print(f\"a = ({a})\")\n",
    "#operasi pembagian dengan konstanta\n",
    "print('=========')\n",
    "print(\"hasil a/2\")\n",
    "print('=========')\n",
    "a/2 #setiap elemen a dibagi 2"
   ]
  },
  {
   "cell_type": "code",
   "execution_count": null,
   "id": "906793a6",
   "metadata": {},
   "outputs": [],
   "source": [
    "print(f\"a = ({a})\")\n",
    "#operasi pemangkatan dengan konstanta\n",
    "print('==========')\n",
    "print(\"hasil a**2\")\n",
    "print('==========')\n",
    "a**2 #setiap elemen a dipangkatkan 2"
   ]
  },
  {
   "cell_type": "code",
   "execution_count": null,
   "id": "86ab4a09",
   "metadata": {},
   "outputs": [],
   "source": [
    "b = np.array([6,7,8,9,10])\n",
    "print(b)"
   ]
  },
  {
   "cell_type": "code",
   "execution_count": null,
   "id": "6ac6c4a0",
   "metadata": {},
   "outputs": [],
   "source": [
    "print(f\"a = ({a})\")\n",
    "print(f\"b = ({b})\")\n",
    "#operasi penjumlahan array\n",
    "print('=========')\n",
    "print(\"hasil a+b\")\n",
    "print('=========')\n",
    "a+b #setiap elemen a dijumlahkan dengan setiap elemen b yang bersesuaian"
   ]
  },
  {
   "cell_type": "code",
   "execution_count": null,
   "id": "8bf363da",
   "metadata": {},
   "outputs": [],
   "source": [
    "print(f\"a = ({a})\")\n",
    "print(f\"b = ({b})\")\n",
    "#operasi pengurangan array\n",
    "print('=========')\n",
    "print(\"hasil a-b\")\n",
    "print('=========')\n",
    "a-b #setiap elemen a dikurangkan dengan setiap elemen b yang bersesuaian"
   ]
  },
  {
   "cell_type": "code",
   "execution_count": null,
   "id": "da37c4d8",
   "metadata": {},
   "outputs": [],
   "source": [
    "print(f\"a = ({a})\")\n",
    "print(f\"b = ({b})\")\n",
    "#operasi perkalian array\n",
    "print('=========')\n",
    "print(\"hasil a*b\")\n",
    "print('=========')\n",
    "a*b #setiap elemen a dikalikan dengan setiap elemen b yang bersesuaian"
   ]
  },
  {
   "cell_type": "code",
   "execution_count": null,
   "id": "4d21799c",
   "metadata": {},
   "outputs": [],
   "source": [
    "print(f\"a = ({a})\")\n",
    "print(f\"b = ({b})\")\n",
    "#operasi pembagian array\n",
    "print('=========')\n",
    "print(\"hasil a/b\")\n",
    "print('=========')\n",
    "a/b #setiap elemen a dibagi dengan setiap elemen b yang bersesuaian"
   ]
  },
  {
   "cell_type": "code",
   "execution_count": null,
   "id": "d300d6af",
   "metadata": {},
   "outputs": [],
   "source": [
    "print(f\"a = ({a})\")\n",
    "print(f\"b = ({b})\")\n",
    "#operasi pemangkatan array\n",
    "print('==========')\n",
    "print(\"hasil b**a\")\n",
    "print('==========')\n",
    "b**a #setiap elemen a dipangkatkan dengan setiap nilai elemen b yang bersesuaian"
   ]
  },
  {
   "cell_type": "code",
   "execution_count": null,
   "id": "ccc52ede",
   "metadata": {},
   "outputs": [],
   "source": [
    "#Transpose matrik\n",
    "#operasi merubah dimensi matrik yang berukuran nxm menjadi matrik baru berukuran mxn\n",
    "\n",
    "NewArray = np.random.randint(0, 10, (4, 2))\n",
    "transpose = NewArray.T\n",
    "print(NewArray)\n",
    "print(\"Matriks setelah di transpose menjadi\")\n",
    "print(transpose)"
   ]
  },
  {
   "cell_type": "code",
   "execution_count": null,
   "id": "c308357d",
   "metadata": {},
   "outputs": [],
   "source": [
    "#Operasi aritmetika yang telah dibahas sebelumnya menggunakan simbol-simbol operator tertentu dalam prosesnya\n",
    "#Sebagai alternatif, numpy menyediakan fungsi-fungsi yang dapat menjalankan operasi aritmatika seperti sebelumnya\n",
    "\n",
    "c = np.array([2,4,6,8])\n",
    "d = np.array([1,3,5,7])\n",
    "# c + d\n",
    "print(np.add(c, d))\n",
    "# c - d\n",
    "print(np.subtract(c, d))\n",
    "# c * d\n",
    "print(np.multiply(c, d))\n",
    "# c / d\n",
    "print(np.divide(c, d))\n",
    "# c.T (Transpose)\n",
    "print(np.transpose(c))"
   ]
  },
  {
   "cell_type": "code",
   "execution_count": null,
   "id": "f0137492",
   "metadata": {},
   "outputs": [],
   "source": [
    "#Fungsi Trigonometri\n",
    "#Pada trigonometri nilai yang digunakan adalah pi radian\n",
    "\n",
    "#contoh 1\n",
    "x = np.sin(np.pi/2)\n",
    "print(x) #output sin pi/2 (90 derajat) : 1\n",
    "\n",
    "#contoh 2\n",
    "#cari nilai sin dari semua elemen arr\n",
    "arr = np.array([np.pi/2, np.pi/3, np.pi/4, np.pi/5])\n",
    "x = np.sin(arr)\n",
    "print(x)\n",
    "\n",
    "#contoh 3\n",
    "#mencari nlai cos masing masing elemen a\n",
    "print(np.cos(a))\n",
    "#mencari nlai sin masing masing elemen a\n",
    "print(np.sin(a))\n",
    "#mencari nlai tan masing masing elemen a\n",
    "print(np.tan(a))\n",
    "#fungsi hiperbolik : sinh(), cosh() dan tanh() yang mengambil nilai dalam radian dan menghasilkan nilai sinh, cosh dan tanh yang seharusnya\n",
    "print(np.cosh(a))\n",
    "print(np.sinh(a))\n",
    "print(np.tanh(a))\n",
    "#mencari nlai akar kuadrat masing masing elemen a\n",
    "print(np.sqrt(a))"
   ]
  },
  {
   "cell_type": "code",
   "execution_count": null,
   "id": "e3a5ee49",
   "metadata": {},
   "outputs": [],
   "source": [
    "#mengubah derajat ke randian dan sebaliknya\n",
    "#keterangan : nilai radian adalah pi/180*nilai_derajat\n",
    "\n",
    "#contoh mengubah derajat ke radian\n",
    "nilai_derajat = np.array([180, 270, 360])\n",
    "convert = np.deg2rad(nilai_derajat)\n",
    "print(convert)\n",
    "\n",
    "#contoh mengubah radian ke derajat\n",
    "radian = np.array([np.pi, 1.5*np.pi, 2*np.pi])\n",
    "konversi = np.rad2deg(radian)\n",
    "print(konversi)"
   ]
  },
  {
   "cell_type": "code",
   "execution_count": null,
   "id": "9eca7368",
   "metadata": {},
   "outputs": [],
   "source": [
    "#Menemukan nilai sudut\n",
    "#NumPy menyediakan fungsi arcsin(), arccos() dan arctan() yang menghasilkan nilai radian untuk nilai sin, cos, dan tan yang sesuai yang diberikan\n",
    "\n",
    "#contoh temukan sudut dari sin x = 1.0\n",
    "x = np.arcsin(1.0)\n",
    "print(x)\n",
    "#contoh temukan sudut dari cos x = 1.0\n",
    "x = np.arccos(1.0)\n",
    "print(x)\n",
    "#contoh temukan sudut dari tan x = 1.0\n",
    "x = np.arctan(1.0)\n",
    "print(x)"
   ]
  },
  {
   "cell_type": "markdown",
   "id": "6c16b0c5",
   "metadata": {},
   "source": [
    "###### 5.20.6 Perkalian Matrik pada Numpy"
   ]
  },
  {
   "cell_type": "markdown",
   "id": "3a14beec",
   "metadata": {},
   "source": [
    "Dapat diamati bahwa operasi matematika pada suatu matrik dengan Numpy akan mengoperaikan elemen yang baris dan kolomnya sama. Tentunya hal ini akan memberikan hasil berbeda jika yang kita kehendaki adalah perkalian dua matrik. Perkalian matrik pada Numpy dapat menggunakan perintah matmul. Perlu dijadikan perhatian tentang ukuran matrik yang akan dikalikan harus sesuai dengan persyaratan. Misalnya matrik ukuran (2x3) dapat dikalikan dengan matrik ukuran (3x4)."
   ]
  },
  {
   "cell_type": "code",
   "execution_count": null,
   "id": "bd4caa0a",
   "metadata": {},
   "outputs": [],
   "source": [
    "#inisialisai variabel e\n",
    "e = np.array([[1,2,3,4],[5,6,7,8]])\n",
    "print(e)"
   ]
  },
  {
   "cell_type": "code",
   "execution_count": null,
   "id": "bd356699",
   "metadata": {},
   "outputs": [],
   "source": [
    "#inisialisai variabel e\n",
    "f = np.array([[9,10,11,12],[13,14,15,16]])\n",
    "print(f)"
   ]
  },
  {
   "cell_type": "code",
   "execution_count": null,
   "id": "aa453ec0",
   "metadata": {},
   "outputs": [],
   "source": [
    "#h adalah hasil perkalian e dan f\n",
    "#perkalian ini dapat terjadi karena e dan f mempunyai shape yang sama\n",
    "#perkalian e*f yakni mengalikan masing masing elemen e dengan f pada baris dan kolom yang bersesuaian\n",
    "h = e*f\n",
    "print(h)"
   ]
  },
  {
   "cell_type": "code",
   "execution_count": null,
   "id": "aceeb9f2",
   "metadata": {},
   "outputs": [],
   "source": [
    "#perkalian matrik pada e dengan matrik pada f tidak bisa berjalan karena e berbentuk 2x4 dan f berbentuk 2x4,\n",
    "#maka syarat ukuran matrik yang dikalikan harus sesuai (nxm dengan mxn) tidak terpenuhi\n",
    "i = np.matmul(e,f)\n",
    "print(i)"
   ]
  },
  {
   "cell_type": "code",
   "execution_count": null,
   "id": "e63da271",
   "metadata": {},
   "outputs": [],
   "source": [
    "j = np.array([[9,10],[11,12],[13,14],[15,16]])\n",
    "print(j)"
   ]
  },
  {
   "cell_type": "code",
   "execution_count": null,
   "id": "d60d65e8",
   "metadata": {},
   "outputs": [],
   "source": [
    "k = np.matmul(e,j)\n",
    "print(k)\n",
    "#perkalian matrik pada e dengan matrik pada j bisa berjalan karena e berbentuk 2x4 dan f berbentuk 4x2,\n",
    "#maka syarat ukuran matrik yang dikalikan harus sesuai (nxm dengan mxn) terpenuhi"
   ]
  },
  {
   "cell_type": "code",
   "execution_count": null,
   "id": "c960020f",
   "metadata": {},
   "outputs": [],
   "source": [
    "l = e*j #perkalian ini tidak dapat terjadi karena e dan j tidak mempunyai shape yang sama"
   ]
  },
  {
   "cell_type": "markdown",
   "id": "21259f56",
   "metadata": {},
   "source": [
    "###### 5.20.7 min, max, dan sum pada numpy"
   ]
  },
  {
   "cell_type": "markdown",
   "id": "19e94cee",
   "metadata": {},
   "source": [
    "Perintah min, max dan sum cukup sering digunakan untuk mengetahui nilai minimum, maksimum dan penjumlahan. Lebih jelasnya dapat dilihat pada program di bawah ini"
   ]
  },
  {
   "cell_type": "code",
   "execution_count": null,
   "id": "9dded2ad",
   "metadata": {},
   "outputs": [],
   "source": [
    "#buat array\n",
    "a=np.array([[1,2,3,4],\n",
    "            [5,6,7,8],\n",
    "            [9,10,11,12]])\n",
    "#mencetak array a\n",
    "print(a)\n",
    "\n",
    "print()\n",
    "#mencari nilai minimum pada array a\n",
    "b = np.min(a) \n",
    "print(b)\n",
    "\n",
    "print()\n",
    "#mencari nilai minimum pada array a pada setiap kolom\n",
    "c=np.min(a,axis=0)   \n",
    "print(c)\n",
    "\n",
    "print()\n",
    "#mencari nilai minimum pada array a pada setiap baris\n",
    "d = np.min(a,axis=1)   \n",
    "print(d)\n",
    "\n",
    "print()\n",
    "#mencari tahu nilai maksimal dalam array a\n",
    "e = np.max(a)\n",
    "print(e)\n",
    "\n",
    "print()\n",
    "#mencari nilai elemen yang maksimal pada setiap kolom\n",
    "f = np.max(a,axis=0)\n",
    "print(f)\n",
    "\n",
    "print()\n",
    "#mencari nilai elemen yang maksimal pada setiap baris\n",
    "g = np.max(a,axis=1) \n",
    "print(g)\n",
    "\n",
    "print()\n",
    "#menjumlahkan semua nilai elemen pada array a\n",
    "h = np.sum(a)\n",
    "print(h)\n",
    "\n",
    "print()\n",
    "#menjumlahkan nilai elemen a pada setiap kolomnya\n",
    "h = np.sum(a,axis=0)\n",
    "print(h)           \n",
    "\n",
    "print()\n",
    "#menjumlahkan nilai elemen a pada setiap barisnya\n",
    "i=np.sum(a,axis=1)\n",
    "print(i)"
   ]
  }
 ],
 "metadata": {
  "kernelspec": {
   "display_name": "Python 3 (ipykernel)",
   "language": "python",
   "name": "python3"
  },
  "language_info": {
   "codemirror_mode": {
    "name": "ipython",
    "version": 3
   },
   "file_extension": ".py",
   "mimetype": "text/x-python",
   "name": "python",
   "nbconvert_exporter": "python",
   "pygments_lexer": "ipython3",
   "version": "3.9.13"
  }
 },
 "nbformat": 4,
 "nbformat_minor": 5
}
